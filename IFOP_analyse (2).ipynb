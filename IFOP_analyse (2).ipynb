{
 "cells": [
  {
   "cell_type": "code",
   "execution_count": 1,
   "metadata": {},
   "outputs": [
    {
     "name": "stderr",
     "output_type": "stream",
     "text": [
      "C:\\Users\\rana_\\anaconda3\\lib\\site-packages\\pandas\\core\\computation\\expressions.py:20: UserWarning: Pandas requires version '2.7.3' or newer of 'numexpr' (version '2.7.1' currently installed).\n",
      "  from pandas.core.computation.check import NUMEXPR_INSTALLED\n"
     ]
    }
   ],
   "source": [
    "import pandas as pd\n",
    "import scipy\n",
    "import pyreadstat\n",
    "import pyshs\n",
    "import matplotlib.pyplot as plt\n",
    "import seaborn as sns\n",
    "import prince\n",
    "import numpy as np"
   ]
  },
  {
   "cell_type": "code",
   "execution_count": 2,
   "metadata": {},
   "outputs": [],
   "source": [
    "pd.set_option('display.max_columns', None)"
   ]
  },
  {
   "cell_type": "code",
   "execution_count": 3,
   "metadata": {},
   "outputs": [],
   "source": [
    "data = pd.read_excel(r\"C:\\Users\\rana_\\OneDrive\\Bureau\\inserm\\travaux\\IFOP et LEEM\\transfer_5678355_files_71b8c3b2\\files ifop obscurantisme\\119718_Base de données.xlsx\")"
   ]
  },
  {
   "cell_type": "code",
   "execution_count": 4,
   "metadata": {},
   "outputs": [
    {
     "data": {
      "text/html": [
       "<div>\n",
       "<style scoped>\n",
       "    .dataframe tbody tr th:only-of-type {\n",
       "        vertical-align: middle;\n",
       "    }\n",
       "\n",
       "    .dataframe tbody tr th {\n",
       "        vertical-align: top;\n",
       "    }\n",
       "\n",
       "    .dataframe thead th {\n",
       "        text-align: right;\n",
       "    }\n",
       "</style>\n",
       "<table border=\"1\" class=\"dataframe\">\n",
       "  <thead>\n",
       "    <tr style=\"text-align: right;\">\n",
       "      <th></th>\n",
       "      <th>ID</th>\n",
       "      <th>COMPTEUR</th>\n",
       "      <th>SEXE</th>\n",
       "      <th>AGE</th>\n",
       "      <th>QSEXE</th>\n",
       "      <th>RAGE1</th>\n",
       "      <th>RAGE2</th>\n",
       "      <th>RAGE3</th>\n",
       "      <th>RAGE4</th>\n",
       "      <th>XRAGE</th>\n",
       "      <th>AGGLOIFOP0</th>\n",
       "      <th>AGGLO</th>\n",
       "      <th>TYPCOM</th>\n",
       "      <th>TAILCOM</th>\n",
       "      <th>DPT</th>\n",
       "      <th>REG</th>\n",
       "      <th>REG2</th>\n",
       "      <th>REG3</th>\n",
       "      <th>REG22</th>\n",
       "      <th>REG13</th>\n",
       "      <th>REG12</th>\n",
       "      <th>SITI</th>\n",
       "      <th>PPIA</th>\n",
       "      <th>PI0</th>\n",
       "      <th>PIQ</th>\n",
       "      <th>PI1</th>\n",
       "      <th>STC</th>\n",
       "      <th>PI2</th>\n",
       "      <th>TITC</th>\n",
       "      <th>STCA</th>\n",
       "      <th>STCB</th>\n",
       "      <th>STCC</th>\n",
       "      <th>DIPL1</th>\n",
       "      <th>DIPL2</th>\n",
       "      <th>DIPL3</th>\n",
       "      <th>DIPLSUP</th>\n",
       "      <th>DIPLFIL</th>\n",
       "      <th>FOYER</th>\n",
       "      <th>ENF14</th>\n",
       "      <th>RS11</th>\n",
       "      <th>Q2_1</th>\n",
       "      <th>Q2_2</th>\n",
       "      <th>Q2_3</th>\n",
       "      <th>Q2_4</th>\n",
       "      <th>Q2_5</th>\n",
       "      <th>Q2_6</th>\n",
       "      <th>Q2_7</th>\n",
       "      <th>Q2_8</th>\n",
       "      <th>Q2_9</th>\n",
       "      <th>Q2_10</th>\n",
       "      <th>Q2_11</th>\n",
       "      <th>Q2_12</th>\n",
       "      <th>Q2_13</th>\n",
       "      <th>Q3A</th>\n",
       "      <th>Q3B</th>\n",
       "      <th>Q3C</th>\n",
       "      <th>Q4_1</th>\n",
       "      <th>Q4_2</th>\n",
       "      <th>Q4_3</th>\n",
       "      <th>Q4_4</th>\n",
       "      <th>Q4_5</th>\n",
       "      <th>Q4_6</th>\n",
       "      <th>Q4_7</th>\n",
       "      <th>Q4_8</th>\n",
       "      <th>SPLIT</th>\n",
       "      <th>Q7_1</th>\n",
       "      <th>Q7_2</th>\n",
       "      <th>Q7_3</th>\n",
       "      <th>Q7_4</th>\n",
       "      <th>Q7_5</th>\n",
       "      <th>Q7_6</th>\n",
       "      <th>Q7_7</th>\n",
       "      <th>Q7_8</th>\n",
       "      <th>Q7_9</th>\n",
       "      <th>Q7_10</th>\n",
       "      <th>Q7_11</th>\n",
       "      <th>Q8_1</th>\n",
       "      <th>Q8_2</th>\n",
       "      <th>Q8_3</th>\n",
       "      <th>Q8_4</th>\n",
       "      <th>Q8_5</th>\n",
       "      <th>Q8_6</th>\n",
       "      <th>Q8_7</th>\n",
       "      <th>Q8_8</th>\n",
       "      <th>Q8_9</th>\n",
       "      <th>Q9_1</th>\n",
       "      <th>Q9_2</th>\n",
       "      <th>Q9_3</th>\n",
       "      <th>Q9_4</th>\n",
       "      <th>Q9_5</th>\n",
       "      <th>Q10</th>\n",
       "      <th>Q11</th>\n",
       "      <th>Q12</th>\n",
       "      <th>Q13_1</th>\n",
       "      <th>Q13_2</th>\n",
       "      <th>Q13_3</th>\n",
       "      <th>Q13_4</th>\n",
       "      <th>Q13_5</th>\n",
       "      <th>Q13_6</th>\n",
       "      <th>Q13_7</th>\n",
       "      <th>Q13_8</th>\n",
       "      <th>Q13_9</th>\n",
       "      <th>Q13_10</th>\n",
       "      <th>Q13_11</th>\n",
       "      <th>Q13_12</th>\n",
       "      <th>Q13_13</th>\n",
       "      <th>Q14</th>\n",
       "      <th>Q15</th>\n",
       "      <th>Q16</th>\n",
       "      <th>Q18_1</th>\n",
       "      <th>Q18_2</th>\n",
       "      <th>Q18_3</th>\n",
       "      <th>Q18_4</th>\n",
       "      <th>Q18_5</th>\n",
       "      <th>Q18_6</th>\n",
       "      <th>Q19_1</th>\n",
       "      <th>Q19_2</th>\n",
       "      <th>Q19_3</th>\n",
       "      <th>Q19_4</th>\n",
       "      <th>Q20</th>\n",
       "      <th>REV</th>\n",
       "      <th>REVR</th>\n",
       "      <th>REV21</th>\n",
       "      <th>REV22</th>\n",
       "      <th>REV23</th>\n",
       "      <th>REV24</th>\n",
       "      <th>REV25</th>\n",
       "      <th>REV26</th>\n",
       "      <th>NBUC_T</th>\n",
       "      <th>RUC_A</th>\n",
       "      <th>TRUC</th>\n",
       "      <th>PROX</th>\n",
       "      <th>PROX1</th>\n",
       "      <th>RPROX</th>\n",
       "      <th>PROXFIL</th>\n",
       "      <th>PRE22</th>\n",
       "      <th>REL2</th>\n",
       "      <th>RELI1</th>\n",
       "      <th>RELI2</th>\n",
       "      <th>RRELI</th>\n",
       "      <th>FQRELI</th>\n",
       "      <th>RFQRELI</th>\n",
       "      <th>REL1</th>\n",
       "      <th>REL1_R</th>\n",
       "      <th>POIDS</th>\n",
       "    </tr>\n",
       "  </thead>\n",
       "  <tbody>\n",
       "    <tr>\n",
       "      <th>0</th>\n",
       "      <td>233149874516147</td>\n",
       "      <td>1</td>\n",
       "      <td>2</td>\n",
       "      <td>22</td>\n",
       "      <td>2</td>\n",
       "      <td>2</td>\n",
       "      <td>2</td>\n",
       "      <td>3</td>\n",
       "      <td>1</td>\n",
       "      <td>3</td>\n",
       "      <td>1</td>\n",
       "      <td>1</td>\n",
       "      <td>6</td>\n",
       "      <td>1</td>\n",
       "      <td>60</td>\n",
       "      <td>4</td>\n",
       "      <td>2</td>\n",
       "      <td>2</td>\n",
       "      <td>19</td>\n",
       "      <td>10</td>\n",
       "      <td>9</td>\n",
       "      <td>7</td>\n",
       "      <td>3.0</td>\n",
       "      <td>7</td>\n",
       "      <td>7</td>\n",
       "      <td>8</td>\n",
       "      <td>NaN</td>\n",
       "      <td>NaN</td>\n",
       "      <td>NaN</td>\n",
       "      <td>8</td>\n",
       "      <td>8</td>\n",
       "      <td>NaN</td>\n",
       "      <td>2</td>\n",
       "      <td>6</td>\n",
       "      <td>5</td>\n",
       "      <td>NaN</td>\n",
       "      <td>4</td>\n",
       "      <td>5</td>\n",
       "      <td>0.0</td>\n",
       "      <td>3</td>\n",
       "      <td>4</td>\n",
       "      <td>4</td>\n",
       "      <td>4</td>\n",
       "      <td>4</td>\n",
       "      <td>4</td>\n",
       "      <td>4</td>\n",
       "      <td>4</td>\n",
       "      <td>4</td>\n",
       "      <td>4</td>\n",
       "      <td>4</td>\n",
       "      <td>4</td>\n",
       "      <td>4</td>\n",
       "      <td>4</td>\n",
       "      <td>5</td>\n",
       "      <td>4</td>\n",
       "      <td>6</td>\n",
       "      <td>4</td>\n",
       "      <td>4</td>\n",
       "      <td>4</td>\n",
       "      <td>4</td>\n",
       "      <td>4</td>\n",
       "      <td>4</td>\n",
       "      <td>4</td>\n",
       "      <td>4</td>\n",
       "      <td>2</td>\n",
       "      <td>5</td>\n",
       "      <td>5</td>\n",
       "      <td>5</td>\n",
       "      <td>5</td>\n",
       "      <td>5</td>\n",
       "      <td>5</td>\n",
       "      <td>5</td>\n",
       "      <td>5</td>\n",
       "      <td>5</td>\n",
       "      <td>5</td>\n",
       "      <td>5.0</td>\n",
       "      <td>3</td>\n",
       "      <td>3</td>\n",
       "      <td>3</td>\n",
       "      <td>3</td>\n",
       "      <td>3</td>\n",
       "      <td>3</td>\n",
       "      <td>3</td>\n",
       "      <td>3</td>\n",
       "      <td>3</td>\n",
       "      <td>3</td>\n",
       "      <td>3</td>\n",
       "      <td>3</td>\n",
       "      <td>3</td>\n",
       "      <td>3</td>\n",
       "      <td>3</td>\n",
       "      <td>3</td>\n",
       "      <td>3</td>\n",
       "      <td>4</td>\n",
       "      <td>4</td>\n",
       "      <td>4</td>\n",
       "      <td>4</td>\n",
       "      <td>4</td>\n",
       "      <td>4</td>\n",
       "      <td>4</td>\n",
       "      <td>4</td>\n",
       "      <td>4</td>\n",
       "      <td>4</td>\n",
       "      <td>4</td>\n",
       "      <td>4</td>\n",
       "      <td>4</td>\n",
       "      <td>4</td>\n",
       "      <td>1</td>\n",
       "      <td>2</td>\n",
       "      <td>3</td>\n",
       "      <td>3</td>\n",
       "      <td>3</td>\n",
       "      <td>3</td>\n",
       "      <td>3</td>\n",
       "      <td>3</td>\n",
       "      <td>NaN</td>\n",
       "      <td>NaN</td>\n",
       "      <td>NaN</td>\n",
       "      <td>NaN</td>\n",
       "      <td>NaN</td>\n",
       "      <td>7</td>\n",
       "      <td>7</td>\n",
       "      <td>NaN</td>\n",
       "      <td>NaN</td>\n",
       "      <td>NaN</td>\n",
       "      <td>NaN</td>\n",
       "      <td>NaN</td>\n",
       "      <td>NaN</td>\n",
       "      <td>NaN</td>\n",
       "      <td>NaN</td>\n",
       "      <td>NaN</td>\n",
       "      <td>23</td>\n",
       "      <td>23.0</td>\n",
       "      <td>13</td>\n",
       "      <td>14</td>\n",
       "      <td>17</td>\n",
       "      <td>NaN</td>\n",
       "      <td>7</td>\n",
       "      <td>NaN</td>\n",
       "      <td>7</td>\n",
       "      <td>7</td>\n",
       "      <td>9</td>\n",
       "      <td>8</td>\n",
       "      <td>8</td>\n",
       "      <td>0.855884</td>\n",
       "    </tr>\n",
       "    <tr>\n",
       "      <th>1</th>\n",
       "      <td>233149874432006</td>\n",
       "      <td>1</td>\n",
       "      <td>1</td>\n",
       "      <td>73</td>\n",
       "      <td>1</td>\n",
       "      <td>6</td>\n",
       "      <td>6</td>\n",
       "      <td>8</td>\n",
       "      <td>5</td>\n",
       "      <td>2</td>\n",
       "      <td>8</td>\n",
       "      <td>4</td>\n",
       "      <td>3</td>\n",
       "      <td>5</td>\n",
       "      <td>37</td>\n",
       "      <td>5</td>\n",
       "      <td>3</td>\n",
       "      <td>2</td>\n",
       "      <td>7</td>\n",
       "      <td>6</td>\n",
       "      <td>6</td>\n",
       "      <td>3</td>\n",
       "      <td>4.0</td>\n",
       "      <td>7</td>\n",
       "      <td>7</td>\n",
       "      <td>7</td>\n",
       "      <td>NaN</td>\n",
       "      <td>NaN</td>\n",
       "      <td>NaN</td>\n",
       "      <td>7</td>\n",
       "      <td>8</td>\n",
       "      <td>NaN</td>\n",
       "      <td>2</td>\n",
       "      <td>8</td>\n",
       "      <td>6</td>\n",
       "      <td>NaN</td>\n",
       "      <td>5</td>\n",
       "      <td>2</td>\n",
       "      <td>0.0</td>\n",
       "      <td>2</td>\n",
       "      <td>1</td>\n",
       "      <td>3</td>\n",
       "      <td>3</td>\n",
       "      <td>2</td>\n",
       "      <td>3</td>\n",
       "      <td>3</td>\n",
       "      <td>2</td>\n",
       "      <td>2</td>\n",
       "      <td>1</td>\n",
       "      <td>2</td>\n",
       "      <td>2</td>\n",
       "      <td>3</td>\n",
       "      <td>2</td>\n",
       "      <td>1</td>\n",
       "      <td>3</td>\n",
       "      <td>4</td>\n",
       "      <td>1</td>\n",
       "      <td>2</td>\n",
       "      <td>1</td>\n",
       "      <td>3</td>\n",
       "      <td>3</td>\n",
       "      <td>1</td>\n",
       "      <td>4</td>\n",
       "      <td>1</td>\n",
       "      <td>2</td>\n",
       "      <td>10</td>\n",
       "      <td>5</td>\n",
       "      <td>4</td>\n",
       "      <td>6</td>\n",
       "      <td>8</td>\n",
       "      <td>6</td>\n",
       "      <td>10</td>\n",
       "      <td>5</td>\n",
       "      <td>10</td>\n",
       "      <td>10</td>\n",
       "      <td>10.0</td>\n",
       "      <td>1</td>\n",
       "      <td>2</td>\n",
       "      <td>2</td>\n",
       "      <td>2</td>\n",
       "      <td>2</td>\n",
       "      <td>3</td>\n",
       "      <td>1</td>\n",
       "      <td>3</td>\n",
       "      <td>1</td>\n",
       "      <td>3</td>\n",
       "      <td>1</td>\n",
       "      <td>1</td>\n",
       "      <td>3</td>\n",
       "      <td>1</td>\n",
       "      <td>2</td>\n",
       "      <td>2</td>\n",
       "      <td>2</td>\n",
       "      <td>3</td>\n",
       "      <td>3</td>\n",
       "      <td>3</td>\n",
       "      <td>1</td>\n",
       "      <td>3</td>\n",
       "      <td>1</td>\n",
       "      <td>4</td>\n",
       "      <td>1</td>\n",
       "      <td>2</td>\n",
       "      <td>3</td>\n",
       "      <td>2</td>\n",
       "      <td>3</td>\n",
       "      <td>4</td>\n",
       "      <td>1</td>\n",
       "      <td>2</td>\n",
       "      <td>1</td>\n",
       "      <td>1</td>\n",
       "      <td>2</td>\n",
       "      <td>2</td>\n",
       "      <td>2</td>\n",
       "      <td>2</td>\n",
       "      <td>3</td>\n",
       "      <td>2.0</td>\n",
       "      <td>2.0</td>\n",
       "      <td>2.0</td>\n",
       "      <td>3.0</td>\n",
       "      <td>NaN</td>\n",
       "      <td>6</td>\n",
       "      <td>6</td>\n",
       "      <td>NaN</td>\n",
       "      <td>NaN</td>\n",
       "      <td>NaN</td>\n",
       "      <td>NaN</td>\n",
       "      <td>NaN</td>\n",
       "      <td>4600.0</td>\n",
       "      <td>1.5</td>\n",
       "      <td>3066.666667</td>\n",
       "      <td>2.0</td>\n",
       "      <td>16</td>\n",
       "      <td>NaN</td>\n",
       "      <td>9</td>\n",
       "      <td>10</td>\n",
       "      <td>10</td>\n",
       "      <td>NaN</td>\n",
       "      <td>1</td>\n",
       "      <td>4.0</td>\n",
       "      <td>3</td>\n",
       "      <td>6</td>\n",
       "      <td>3</td>\n",
       "      <td>2</td>\n",
       "      <td>2</td>\n",
       "      <td>0.479168</td>\n",
       "    </tr>\n",
       "    <tr>\n",
       "      <th>2</th>\n",
       "      <td>233149874797781</td>\n",
       "      <td>1</td>\n",
       "      <td>2</td>\n",
       "      <td>76</td>\n",
       "      <td>2</td>\n",
       "      <td>7</td>\n",
       "      <td>6</td>\n",
       "      <td>8</td>\n",
       "      <td>5</td>\n",
       "      <td>4</td>\n",
       "      <td>1</td>\n",
       "      <td>1</td>\n",
       "      <td>6</td>\n",
       "      <td>1</td>\n",
       "      <td>69</td>\n",
       "      <td>8</td>\n",
       "      <td>5</td>\n",
       "      <td>2</td>\n",
       "      <td>22</td>\n",
       "      <td>3</td>\n",
       "      <td>3</td>\n",
       "      <td>3</td>\n",
       "      <td>15.0</td>\n",
       "      <td>7</td>\n",
       "      <td>7</td>\n",
       "      <td>7</td>\n",
       "      <td>NaN</td>\n",
       "      <td>NaN</td>\n",
       "      <td>NaN</td>\n",
       "      <td>7</td>\n",
       "      <td>8</td>\n",
       "      <td>NaN</td>\n",
       "      <td>2</td>\n",
       "      <td>10</td>\n",
       "      <td>7</td>\n",
       "      <td>NaN</td>\n",
       "      <td>7</td>\n",
       "      <td>2</td>\n",
       "      <td>0.0</td>\n",
       "      <td>2</td>\n",
       "      <td>2</td>\n",
       "      <td>3</td>\n",
       "      <td>3</td>\n",
       "      <td>1</td>\n",
       "      <td>3</td>\n",
       "      <td>2</td>\n",
       "      <td>2</td>\n",
       "      <td>2</td>\n",
       "      <td>1</td>\n",
       "      <td>2</td>\n",
       "      <td>3</td>\n",
       "      <td>1</td>\n",
       "      <td>2</td>\n",
       "      <td>3</td>\n",
       "      <td>6</td>\n",
       "      <td>7</td>\n",
       "      <td>1</td>\n",
       "      <td>2</td>\n",
       "      <td>1</td>\n",
       "      <td>2</td>\n",
       "      <td>2</td>\n",
       "      <td>1</td>\n",
       "      <td>4</td>\n",
       "      <td>1</td>\n",
       "      <td>1</td>\n",
       "      <td>10</td>\n",
       "      <td>10</td>\n",
       "      <td>6</td>\n",
       "      <td>5</td>\n",
       "      <td>10</td>\n",
       "      <td>6</td>\n",
       "      <td>10</td>\n",
       "      <td>10</td>\n",
       "      <td>10</td>\n",
       "      <td>10</td>\n",
       "      <td>10.0</td>\n",
       "      <td>1</td>\n",
       "      <td>3</td>\n",
       "      <td>2</td>\n",
       "      <td>2</td>\n",
       "      <td>2</td>\n",
       "      <td>3</td>\n",
       "      <td>1</td>\n",
       "      <td>3</td>\n",
       "      <td>1</td>\n",
       "      <td>3</td>\n",
       "      <td>3</td>\n",
       "      <td>2</td>\n",
       "      <td>3</td>\n",
       "      <td>3</td>\n",
       "      <td>2</td>\n",
       "      <td>2</td>\n",
       "      <td>2</td>\n",
       "      <td>3</td>\n",
       "      <td>3</td>\n",
       "      <td>2</td>\n",
       "      <td>3</td>\n",
       "      <td>3</td>\n",
       "      <td>2</td>\n",
       "      <td>2</td>\n",
       "      <td>1</td>\n",
       "      <td>3</td>\n",
       "      <td>2</td>\n",
       "      <td>3</td>\n",
       "      <td>3</td>\n",
       "      <td>4</td>\n",
       "      <td>2</td>\n",
       "      <td>2</td>\n",
       "      <td>2</td>\n",
       "      <td>1</td>\n",
       "      <td>1</td>\n",
       "      <td>2</td>\n",
       "      <td>1</td>\n",
       "      <td>1</td>\n",
       "      <td>2</td>\n",
       "      <td>1.0</td>\n",
       "      <td>3.0</td>\n",
       "      <td>2.0</td>\n",
       "      <td>1.0</td>\n",
       "      <td>2.0</td>\n",
       "      <td>5</td>\n",
       "      <td>5</td>\n",
       "      <td>NaN</td>\n",
       "      <td>NaN</td>\n",
       "      <td>NaN</td>\n",
       "      <td>NaN</td>\n",
       "      <td>3150.0</td>\n",
       "      <td>NaN</td>\n",
       "      <td>1.5</td>\n",
       "      <td>2100.000000</td>\n",
       "      <td>3.0</td>\n",
       "      <td>10</td>\n",
       "      <td>NaN</td>\n",
       "      <td>6</td>\n",
       "      <td>7</td>\n",
       "      <td>9</td>\n",
       "      <td>NaN</td>\n",
       "      <td>6</td>\n",
       "      <td>4.0</td>\n",
       "      <td>6</td>\n",
       "      <td>7</td>\n",
       "      <td>8</td>\n",
       "      <td>7</td>\n",
       "      <td>7</td>\n",
       "      <td>0.455098</td>\n",
       "    </tr>\n",
       "    <tr>\n",
       "      <th>3</th>\n",
       "      <td>233149874448429</td>\n",
       "      <td>1</td>\n",
       "      <td>2</td>\n",
       "      <td>69</td>\n",
       "      <td>2</td>\n",
       "      <td>6</td>\n",
       "      <td>6</td>\n",
       "      <td>7</td>\n",
       "      <td>5</td>\n",
       "      <td>4</td>\n",
       "      <td>8</td>\n",
       "      <td>4</td>\n",
       "      <td>1</td>\n",
       "      <td>11</td>\n",
       "      <td>34</td>\n",
       "      <td>9</td>\n",
       "      <td>5</td>\n",
       "      <td>2</td>\n",
       "      <td>13</td>\n",
       "      <td>9</td>\n",
       "      <td>8</td>\n",
       "      <td>3</td>\n",
       "      <td>20.0</td>\n",
       "      <td>8</td>\n",
       "      <td>7</td>\n",
       "      <td>7</td>\n",
       "      <td>NaN</td>\n",
       "      <td>NaN</td>\n",
       "      <td>NaN</td>\n",
       "      <td>7</td>\n",
       "      <td>8</td>\n",
       "      <td>NaN</td>\n",
       "      <td>2</td>\n",
       "      <td>6</td>\n",
       "      <td>5</td>\n",
       "      <td>NaN</td>\n",
       "      <td>4</td>\n",
       "      <td>2</td>\n",
       "      <td>0.0</td>\n",
       "      <td>2</td>\n",
       "      <td>1</td>\n",
       "      <td>2</td>\n",
       "      <td>2</td>\n",
       "      <td>1</td>\n",
       "      <td>3</td>\n",
       "      <td>2</td>\n",
       "      <td>2</td>\n",
       "      <td>2</td>\n",
       "      <td>2</td>\n",
       "      <td>3</td>\n",
       "      <td>2</td>\n",
       "      <td>2</td>\n",
       "      <td>2</td>\n",
       "      <td>5</td>\n",
       "      <td>7</td>\n",
       "      <td>2</td>\n",
       "      <td>2</td>\n",
       "      <td>2</td>\n",
       "      <td>2</td>\n",
       "      <td>2</td>\n",
       "      <td>2</td>\n",
       "      <td>2</td>\n",
       "      <td>2</td>\n",
       "      <td>3</td>\n",
       "      <td>1</td>\n",
       "      <td>10</td>\n",
       "      <td>2</td>\n",
       "      <td>1</td>\n",
       "      <td>2</td>\n",
       "      <td>9</td>\n",
       "      <td>9</td>\n",
       "      <td>10</td>\n",
       "      <td>2</td>\n",
       "      <td>3</td>\n",
       "      <td>9</td>\n",
       "      <td>6.0</td>\n",
       "      <td>1</td>\n",
       "      <td>3</td>\n",
       "      <td>2</td>\n",
       "      <td>3</td>\n",
       "      <td>3</td>\n",
       "      <td>2</td>\n",
       "      <td>1</td>\n",
       "      <td>3</td>\n",
       "      <td>2</td>\n",
       "      <td>3</td>\n",
       "      <td>3</td>\n",
       "      <td>3</td>\n",
       "      <td>3</td>\n",
       "      <td>3</td>\n",
       "      <td>1</td>\n",
       "      <td>1</td>\n",
       "      <td>2</td>\n",
       "      <td>3</td>\n",
       "      <td>3</td>\n",
       "      <td>1</td>\n",
       "      <td>2</td>\n",
       "      <td>3</td>\n",
       "      <td>2</td>\n",
       "      <td>1</td>\n",
       "      <td>1</td>\n",
       "      <td>3</td>\n",
       "      <td>2</td>\n",
       "      <td>2</td>\n",
       "      <td>3</td>\n",
       "      <td>4</td>\n",
       "      <td>4</td>\n",
       "      <td>1</td>\n",
       "      <td>2</td>\n",
       "      <td>2</td>\n",
       "      <td>3</td>\n",
       "      <td>3</td>\n",
       "      <td>1</td>\n",
       "      <td>2</td>\n",
       "      <td>3</td>\n",
       "      <td>NaN</td>\n",
       "      <td>NaN</td>\n",
       "      <td>NaN</td>\n",
       "      <td>NaN</td>\n",
       "      <td>NaN</td>\n",
       "      <td>7</td>\n",
       "      <td>7</td>\n",
       "      <td>NaN</td>\n",
       "      <td>NaN</td>\n",
       "      <td>NaN</td>\n",
       "      <td>NaN</td>\n",
       "      <td>NaN</td>\n",
       "      <td>NaN</td>\n",
       "      <td>NaN</td>\n",
       "      <td>NaN</td>\n",
       "      <td>NaN</td>\n",
       "      <td>20</td>\n",
       "      <td>NaN</td>\n",
       "      <td>11</td>\n",
       "      <td>12</td>\n",
       "      <td>12</td>\n",
       "      <td>NaN</td>\n",
       "      <td>6</td>\n",
       "      <td>5.0</td>\n",
       "      <td>6</td>\n",
       "      <td>7</td>\n",
       "      <td>8</td>\n",
       "      <td>2</td>\n",
       "      <td>2</td>\n",
       "      <td>1.297183</td>\n",
       "    </tr>\n",
       "    <tr>\n",
       "      <th>4</th>\n",
       "      <td>233149874450481</td>\n",
       "      <td>1</td>\n",
       "      <td>1</td>\n",
       "      <td>59</td>\n",
       "      <td>1</td>\n",
       "      <td>5</td>\n",
       "      <td>5</td>\n",
       "      <td>6</td>\n",
       "      <td>4</td>\n",
       "      <td>2</td>\n",
       "      <td>8</td>\n",
       "      <td>4</td>\n",
       "      <td>3</td>\n",
       "      <td>8</td>\n",
       "      <td>67</td>\n",
       "      <td>3</td>\n",
       "      <td>2</td>\n",
       "      <td>2</td>\n",
       "      <td>1</td>\n",
       "      <td>1</td>\n",
       "      <td>1</td>\n",
       "      <td>1</td>\n",
       "      <td>9.0</td>\n",
       "      <td>3</td>\n",
       "      <td>3</td>\n",
       "      <td>3</td>\n",
       "      <td>3.0</td>\n",
       "      <td>1.0</td>\n",
       "      <td>NaN</td>\n",
       "      <td>2</td>\n",
       "      <td>2</td>\n",
       "      <td>2.0</td>\n",
       "      <td>2</td>\n",
       "      <td>11</td>\n",
       "      <td>8</td>\n",
       "      <td>1.0</td>\n",
       "      <td>8</td>\n",
       "      <td>2</td>\n",
       "      <td>0.0</td>\n",
       "      <td>2</td>\n",
       "      <td>1</td>\n",
       "      <td>2</td>\n",
       "      <td>2</td>\n",
       "      <td>1</td>\n",
       "      <td>4</td>\n",
       "      <td>1</td>\n",
       "      <td>3</td>\n",
       "      <td>2</td>\n",
       "      <td>1</td>\n",
       "      <td>4</td>\n",
       "      <td>3</td>\n",
       "      <td>3</td>\n",
       "      <td>4</td>\n",
       "      <td>1</td>\n",
       "      <td>3</td>\n",
       "      <td>2</td>\n",
       "      <td>2</td>\n",
       "      <td>1</td>\n",
       "      <td>2</td>\n",
       "      <td>1</td>\n",
       "      <td>3</td>\n",
       "      <td>1</td>\n",
       "      <td>4</td>\n",
       "      <td>1</td>\n",
       "      <td>1</td>\n",
       "      <td>10</td>\n",
       "      <td>9</td>\n",
       "      <td>1</td>\n",
       "      <td>8</td>\n",
       "      <td>9</td>\n",
       "      <td>1</td>\n",
       "      <td>10</td>\n",
       "      <td>8</td>\n",
       "      <td>9</td>\n",
       "      <td>10</td>\n",
       "      <td>5.0</td>\n",
       "      <td>2</td>\n",
       "      <td>3</td>\n",
       "      <td>3</td>\n",
       "      <td>3</td>\n",
       "      <td>1</td>\n",
       "      <td>3</td>\n",
       "      <td>1</td>\n",
       "      <td>2</td>\n",
       "      <td>2</td>\n",
       "      <td>3</td>\n",
       "      <td>1</td>\n",
       "      <td>3</td>\n",
       "      <td>3</td>\n",
       "      <td>3</td>\n",
       "      <td>2</td>\n",
       "      <td>1</td>\n",
       "      <td>2</td>\n",
       "      <td>3</td>\n",
       "      <td>3</td>\n",
       "      <td>3</td>\n",
       "      <td>3</td>\n",
       "      <td>2</td>\n",
       "      <td>1</td>\n",
       "      <td>2</td>\n",
       "      <td>2</td>\n",
       "      <td>3</td>\n",
       "      <td>2</td>\n",
       "      <td>1</td>\n",
       "      <td>2</td>\n",
       "      <td>4</td>\n",
       "      <td>2</td>\n",
       "      <td>2</td>\n",
       "      <td>2</td>\n",
       "      <td>1</td>\n",
       "      <td>2</td>\n",
       "      <td>1</td>\n",
       "      <td>1</td>\n",
       "      <td>1</td>\n",
       "      <td>2</td>\n",
       "      <td>2.0</td>\n",
       "      <td>1.0</td>\n",
       "      <td>1.0</td>\n",
       "      <td>1.0</td>\n",
       "      <td>1.0</td>\n",
       "      <td>6</td>\n",
       "      <td>6</td>\n",
       "      <td>NaN</td>\n",
       "      <td>NaN</td>\n",
       "      <td>NaN</td>\n",
       "      <td>NaN</td>\n",
       "      <td>NaN</td>\n",
       "      <td>10000.0</td>\n",
       "      <td>1.5</td>\n",
       "      <td>6666.666667</td>\n",
       "      <td>1.0</td>\n",
       "      <td>9</td>\n",
       "      <td>NaN</td>\n",
       "      <td>5</td>\n",
       "      <td>6</td>\n",
       "      <td>8</td>\n",
       "      <td>NaN</td>\n",
       "      <td>2</td>\n",
       "      <td>4.0</td>\n",
       "      <td>4</td>\n",
       "      <td>7</td>\n",
       "      <td>5</td>\n",
       "      <td>3</td>\n",
       "      <td>3</td>\n",
       "      <td>1.285703</td>\n",
       "    </tr>\n",
       "    <tr>\n",
       "      <th>...</th>\n",
       "      <td>...</td>\n",
       "      <td>...</td>\n",
       "      <td>...</td>\n",
       "      <td>...</td>\n",
       "      <td>...</td>\n",
       "      <td>...</td>\n",
       "      <td>...</td>\n",
       "      <td>...</td>\n",
       "      <td>...</td>\n",
       "      <td>...</td>\n",
       "      <td>...</td>\n",
       "      <td>...</td>\n",
       "      <td>...</td>\n",
       "      <td>...</td>\n",
       "      <td>...</td>\n",
       "      <td>...</td>\n",
       "      <td>...</td>\n",
       "      <td>...</td>\n",
       "      <td>...</td>\n",
       "      <td>...</td>\n",
       "      <td>...</td>\n",
       "      <td>...</td>\n",
       "      <td>...</td>\n",
       "      <td>...</td>\n",
       "      <td>...</td>\n",
       "      <td>...</td>\n",
       "      <td>...</td>\n",
       "      <td>...</td>\n",
       "      <td>...</td>\n",
       "      <td>...</td>\n",
       "      <td>...</td>\n",
       "      <td>...</td>\n",
       "      <td>...</td>\n",
       "      <td>...</td>\n",
       "      <td>...</td>\n",
       "      <td>...</td>\n",
       "      <td>...</td>\n",
       "      <td>...</td>\n",
       "      <td>...</td>\n",
       "      <td>...</td>\n",
       "      <td>...</td>\n",
       "      <td>...</td>\n",
       "      <td>...</td>\n",
       "      <td>...</td>\n",
       "      <td>...</td>\n",
       "      <td>...</td>\n",
       "      <td>...</td>\n",
       "      <td>...</td>\n",
       "      <td>...</td>\n",
       "      <td>...</td>\n",
       "      <td>...</td>\n",
       "      <td>...</td>\n",
       "      <td>...</td>\n",
       "      <td>...</td>\n",
       "      <td>...</td>\n",
       "      <td>...</td>\n",
       "      <td>...</td>\n",
       "      <td>...</td>\n",
       "      <td>...</td>\n",
       "      <td>...</td>\n",
       "      <td>...</td>\n",
       "      <td>...</td>\n",
       "      <td>...</td>\n",
       "      <td>...</td>\n",
       "      <td>...</td>\n",
       "      <td>...</td>\n",
       "      <td>...</td>\n",
       "      <td>...</td>\n",
       "      <td>...</td>\n",
       "      <td>...</td>\n",
       "      <td>...</td>\n",
       "      <td>...</td>\n",
       "      <td>...</td>\n",
       "      <td>...</td>\n",
       "      <td>...</td>\n",
       "      <td>...</td>\n",
       "      <td>...</td>\n",
       "      <td>...</td>\n",
       "      <td>...</td>\n",
       "      <td>...</td>\n",
       "      <td>...</td>\n",
       "      <td>...</td>\n",
       "      <td>...</td>\n",
       "      <td>...</td>\n",
       "      <td>...</td>\n",
       "      <td>...</td>\n",
       "      <td>...</td>\n",
       "      <td>...</td>\n",
       "      <td>...</td>\n",
       "      <td>...</td>\n",
       "      <td>...</td>\n",
       "      <td>...</td>\n",
       "      <td>...</td>\n",
       "      <td>...</td>\n",
       "      <td>...</td>\n",
       "      <td>...</td>\n",
       "      <td>...</td>\n",
       "      <td>...</td>\n",
       "      <td>...</td>\n",
       "      <td>...</td>\n",
       "      <td>...</td>\n",
       "      <td>...</td>\n",
       "      <td>...</td>\n",
       "      <td>...</td>\n",
       "      <td>...</td>\n",
       "      <td>...</td>\n",
       "      <td>...</td>\n",
       "      <td>...</td>\n",
       "      <td>...</td>\n",
       "      <td>...</td>\n",
       "      <td>...</td>\n",
       "      <td>...</td>\n",
       "      <td>...</td>\n",
       "      <td>...</td>\n",
       "      <td>...</td>\n",
       "      <td>...</td>\n",
       "      <td>...</td>\n",
       "      <td>...</td>\n",
       "      <td>...</td>\n",
       "      <td>...</td>\n",
       "      <td>...</td>\n",
       "      <td>...</td>\n",
       "      <td>...</td>\n",
       "      <td>...</td>\n",
       "      <td>...</td>\n",
       "      <td>...</td>\n",
       "      <td>...</td>\n",
       "      <td>...</td>\n",
       "      <td>...</td>\n",
       "      <td>...</td>\n",
       "      <td>...</td>\n",
       "      <td>...</td>\n",
       "      <td>...</td>\n",
       "      <td>...</td>\n",
       "      <td>...</td>\n",
       "      <td>...</td>\n",
       "      <td>...</td>\n",
       "      <td>...</td>\n",
       "      <td>...</td>\n",
       "      <td>...</td>\n",
       "      <td>...</td>\n",
       "      <td>...</td>\n",
       "      <td>...</td>\n",
       "      <td>...</td>\n",
       "      <td>...</td>\n",
       "    </tr>\n",
       "    <tr>\n",
       "      <th>1497</th>\n",
       "      <td>233560820956177</td>\n",
       "      <td>1</td>\n",
       "      <td>1</td>\n",
       "      <td>33</td>\n",
       "      <td>1</td>\n",
       "      <td>3</td>\n",
       "      <td>3</td>\n",
       "      <td>4</td>\n",
       "      <td>2</td>\n",
       "      <td>1</td>\n",
       "      <td>1</td>\n",
       "      <td>1</td>\n",
       "      <td>6</td>\n",
       "      <td>1</td>\n",
       "      <td>80</td>\n",
       "      <td>4</td>\n",
       "      <td>2</td>\n",
       "      <td>2</td>\n",
       "      <td>19</td>\n",
       "      <td>10</td>\n",
       "      <td>9</td>\n",
       "      <td>1</td>\n",
       "      <td>15.0</td>\n",
       "      <td>4</td>\n",
       "      <td>4</td>\n",
       "      <td>4</td>\n",
       "      <td>3.0</td>\n",
       "      <td>1.0</td>\n",
       "      <td>NaN</td>\n",
       "      <td>2</td>\n",
       "      <td>2</td>\n",
       "      <td>2.0</td>\n",
       "      <td>2</td>\n",
       "      <td>10</td>\n",
       "      <td>7</td>\n",
       "      <td>NaN</td>\n",
       "      <td>7</td>\n",
       "      <td>3</td>\n",
       "      <td>1.0</td>\n",
       "      <td>2</td>\n",
       "      <td>1</td>\n",
       "      <td>4</td>\n",
       "      <td>4</td>\n",
       "      <td>1</td>\n",
       "      <td>4</td>\n",
       "      <td>2</td>\n",
       "      <td>1</td>\n",
       "      <td>4</td>\n",
       "      <td>1</td>\n",
       "      <td>2</td>\n",
       "      <td>1</td>\n",
       "      <td>1</td>\n",
       "      <td>3</td>\n",
       "      <td>1</td>\n",
       "      <td>7</td>\n",
       "      <td>2</td>\n",
       "      <td>2</td>\n",
       "      <td>2</td>\n",
       "      <td>2</td>\n",
       "      <td>2</td>\n",
       "      <td>2</td>\n",
       "      <td>3</td>\n",
       "      <td>2</td>\n",
       "      <td>2</td>\n",
       "      <td>1</td>\n",
       "      <td>10</td>\n",
       "      <td>10</td>\n",
       "      <td>2</td>\n",
       "      <td>2</td>\n",
       "      <td>2</td>\n",
       "      <td>3</td>\n",
       "      <td>8</td>\n",
       "      <td>5</td>\n",
       "      <td>5</td>\n",
       "      <td>3</td>\n",
       "      <td>6.0</td>\n",
       "      <td>1</td>\n",
       "      <td>2</td>\n",
       "      <td>1</td>\n",
       "      <td>2</td>\n",
       "      <td>1</td>\n",
       "      <td>3</td>\n",
       "      <td>2</td>\n",
       "      <td>3</td>\n",
       "      <td>1</td>\n",
       "      <td>3</td>\n",
       "      <td>1</td>\n",
       "      <td>3</td>\n",
       "      <td>3</td>\n",
       "      <td>3</td>\n",
       "      <td>2</td>\n",
       "      <td>2</td>\n",
       "      <td>1</td>\n",
       "      <td>3</td>\n",
       "      <td>4</td>\n",
       "      <td>1</td>\n",
       "      <td>1</td>\n",
       "      <td>4</td>\n",
       "      <td>2</td>\n",
       "      <td>2</td>\n",
       "      <td>2</td>\n",
       "      <td>2</td>\n",
       "      <td>2</td>\n",
       "      <td>3</td>\n",
       "      <td>3</td>\n",
       "      <td>4</td>\n",
       "      <td>2</td>\n",
       "      <td>2</td>\n",
       "      <td>3</td>\n",
       "      <td>1</td>\n",
       "      <td>2</td>\n",
       "      <td>1</td>\n",
       "      <td>1</td>\n",
       "      <td>2</td>\n",
       "      <td>3</td>\n",
       "      <td>2.0</td>\n",
       "      <td>2.0</td>\n",
       "      <td>1.0</td>\n",
       "      <td>1.0</td>\n",
       "      <td>1.0</td>\n",
       "      <td>6</td>\n",
       "      <td>6</td>\n",
       "      <td>NaN</td>\n",
       "      <td>NaN</td>\n",
       "      <td>NaN</td>\n",
       "      <td>NaN</td>\n",
       "      <td>NaN</td>\n",
       "      <td>4500.0</td>\n",
       "      <td>1.8</td>\n",
       "      <td>2500.000000</td>\n",
       "      <td>3.0</td>\n",
       "      <td>21</td>\n",
       "      <td>NaN</td>\n",
       "      <td>10</td>\n",
       "      <td>11</td>\n",
       "      <td>13</td>\n",
       "      <td>2.0</td>\n",
       "      <td>1</td>\n",
       "      <td>5.0</td>\n",
       "      <td>3</td>\n",
       "      <td>7</td>\n",
       "      <td>4</td>\n",
       "      <td>1</td>\n",
       "      <td>1</td>\n",
       "      <td>1.043640</td>\n",
       "    </tr>\n",
       "    <tr>\n",
       "      <th>1498</th>\n",
       "      <td>233560821479529</td>\n",
       "      <td>1</td>\n",
       "      <td>2</td>\n",
       "      <td>26</td>\n",
       "      <td>2</td>\n",
       "      <td>3</td>\n",
       "      <td>3</td>\n",
       "      <td>3</td>\n",
       "      <td>1</td>\n",
       "      <td>3</td>\n",
       "      <td>8</td>\n",
       "      <td>4</td>\n",
       "      <td>4</td>\n",
       "      <td>10</td>\n",
       "      <td>59</td>\n",
       "      <td>2</td>\n",
       "      <td>2</td>\n",
       "      <td>2</td>\n",
       "      <td>17</td>\n",
       "      <td>10</td>\n",
       "      <td>9</td>\n",
       "      <td>6</td>\n",
       "      <td>20.0</td>\n",
       "      <td>8</td>\n",
       "      <td>7</td>\n",
       "      <td>8</td>\n",
       "      <td>NaN</td>\n",
       "      <td>NaN</td>\n",
       "      <td>NaN</td>\n",
       "      <td>8</td>\n",
       "      <td>8</td>\n",
       "      <td>NaN</td>\n",
       "      <td>2</td>\n",
       "      <td>5</td>\n",
       "      <td>4</td>\n",
       "      <td>NaN</td>\n",
       "      <td>3</td>\n",
       "      <td>5</td>\n",
       "      <td>3.0</td>\n",
       "      <td>2</td>\n",
       "      <td>4</td>\n",
       "      <td>2</td>\n",
       "      <td>2</td>\n",
       "      <td>2</td>\n",
       "      <td>2</td>\n",
       "      <td>2</td>\n",
       "      <td>3</td>\n",
       "      <td>3</td>\n",
       "      <td>2</td>\n",
       "      <td>3</td>\n",
       "      <td>2</td>\n",
       "      <td>4</td>\n",
       "      <td>3</td>\n",
       "      <td>5</td>\n",
       "      <td>6</td>\n",
       "      <td>7</td>\n",
       "      <td>3</td>\n",
       "      <td>2</td>\n",
       "      <td>3</td>\n",
       "      <td>3</td>\n",
       "      <td>3</td>\n",
       "      <td>3</td>\n",
       "      <td>3</td>\n",
       "      <td>2</td>\n",
       "      <td>1</td>\n",
       "      <td>10</td>\n",
       "      <td>10</td>\n",
       "      <td>6</td>\n",
       "      <td>4</td>\n",
       "      <td>7</td>\n",
       "      <td>1</td>\n",
       "      <td>1</td>\n",
       "      <td>1</td>\n",
       "      <td>5</td>\n",
       "      <td>5</td>\n",
       "      <td>5.0</td>\n",
       "      <td>2</td>\n",
       "      <td>2</td>\n",
       "      <td>3</td>\n",
       "      <td>2</td>\n",
       "      <td>2</td>\n",
       "      <td>2</td>\n",
       "      <td>2</td>\n",
       "      <td>3</td>\n",
       "      <td>2</td>\n",
       "      <td>3</td>\n",
       "      <td>3</td>\n",
       "      <td>1</td>\n",
       "      <td>3</td>\n",
       "      <td>3</td>\n",
       "      <td>3</td>\n",
       "      <td>2</td>\n",
       "      <td>3</td>\n",
       "      <td>3</td>\n",
       "      <td>3</td>\n",
       "      <td>3</td>\n",
       "      <td>2</td>\n",
       "      <td>2</td>\n",
       "      <td>2</td>\n",
       "      <td>2</td>\n",
       "      <td>1</td>\n",
       "      <td>3</td>\n",
       "      <td>3</td>\n",
       "      <td>4</td>\n",
       "      <td>3</td>\n",
       "      <td>3</td>\n",
       "      <td>3</td>\n",
       "      <td>1</td>\n",
       "      <td>1</td>\n",
       "      <td>2</td>\n",
       "      <td>2</td>\n",
       "      <td>1</td>\n",
       "      <td>2</td>\n",
       "      <td>3</td>\n",
       "      <td>1</td>\n",
       "      <td>2.0</td>\n",
       "      <td>3.0</td>\n",
       "      <td>1.0</td>\n",
       "      <td>1.0</td>\n",
       "      <td>1.0</td>\n",
       "      <td>3</td>\n",
       "      <td>3</td>\n",
       "      <td>NaN</td>\n",
       "      <td>NaN</td>\n",
       "      <td>1630.0</td>\n",
       "      <td>NaN</td>\n",
       "      <td>NaN</td>\n",
       "      <td>NaN</td>\n",
       "      <td>2.4</td>\n",
       "      <td>679.166667</td>\n",
       "      <td>6.0</td>\n",
       "      <td>23</td>\n",
       "      <td>23.0</td>\n",
       "      <td>13</td>\n",
       "      <td>14</td>\n",
       "      <td>15</td>\n",
       "      <td>NaN</td>\n",
       "      <td>1</td>\n",
       "      <td>4.0</td>\n",
       "      <td>3</td>\n",
       "      <td>7</td>\n",
       "      <td>4</td>\n",
       "      <td>7</td>\n",
       "      <td>7</td>\n",
       "      <td>2.846135</td>\n",
       "    </tr>\n",
       "    <tr>\n",
       "      <th>1499</th>\n",
       "      <td>233416101012557</td>\n",
       "      <td>1</td>\n",
       "      <td>2</td>\n",
       "      <td>38</td>\n",
       "      <td>2</td>\n",
       "      <td>4</td>\n",
       "      <td>4</td>\n",
       "      <td>4</td>\n",
       "      <td>2</td>\n",
       "      <td>4</td>\n",
       "      <td>7</td>\n",
       "      <td>4</td>\n",
       "      <td>1</td>\n",
       "      <td>11</td>\n",
       "      <td>14</td>\n",
       "      <td>5</td>\n",
       "      <td>3</td>\n",
       "      <td>2</td>\n",
       "      <td>4</td>\n",
       "      <td>11</td>\n",
       "      <td>10</td>\n",
       "      <td>1</td>\n",
       "      <td>11.0</td>\n",
       "      <td>4</td>\n",
       "      <td>4</td>\n",
       "      <td>4</td>\n",
       "      <td>5.0</td>\n",
       "      <td>2.0</td>\n",
       "      <td>2.0</td>\n",
       "      <td>3</td>\n",
       "      <td>5</td>\n",
       "      <td>4.0</td>\n",
       "      <td>2</td>\n",
       "      <td>11</td>\n",
       "      <td>8</td>\n",
       "      <td>1.0</td>\n",
       "      <td>8</td>\n",
       "      <td>7</td>\n",
       "      <td>5.0</td>\n",
       "      <td>3</td>\n",
       "      <td>2</td>\n",
       "      <td>2</td>\n",
       "      <td>3</td>\n",
       "      <td>2</td>\n",
       "      <td>3</td>\n",
       "      <td>2</td>\n",
       "      <td>2</td>\n",
       "      <td>2</td>\n",
       "      <td>2</td>\n",
       "      <td>2</td>\n",
       "      <td>2</td>\n",
       "      <td>3</td>\n",
       "      <td>2</td>\n",
       "      <td>7</td>\n",
       "      <td>2</td>\n",
       "      <td>1</td>\n",
       "      <td>2</td>\n",
       "      <td>2</td>\n",
       "      <td>2</td>\n",
       "      <td>2</td>\n",
       "      <td>2</td>\n",
       "      <td>2</td>\n",
       "      <td>3</td>\n",
       "      <td>2</td>\n",
       "      <td>1</td>\n",
       "      <td>9</td>\n",
       "      <td>9</td>\n",
       "      <td>4</td>\n",
       "      <td>3</td>\n",
       "      <td>6</td>\n",
       "      <td>4</td>\n",
       "      <td>9</td>\n",
       "      <td>7</td>\n",
       "      <td>7</td>\n",
       "      <td>8</td>\n",
       "      <td>6.0</td>\n",
       "      <td>1</td>\n",
       "      <td>1</td>\n",
       "      <td>1</td>\n",
       "      <td>2</td>\n",
       "      <td>1</td>\n",
       "      <td>2</td>\n",
       "      <td>1</td>\n",
       "      <td>2</td>\n",
       "      <td>1</td>\n",
       "      <td>3</td>\n",
       "      <td>2</td>\n",
       "      <td>1</td>\n",
       "      <td>3</td>\n",
       "      <td>2</td>\n",
       "      <td>1</td>\n",
       "      <td>2</td>\n",
       "      <td>2</td>\n",
       "      <td>2</td>\n",
       "      <td>2</td>\n",
       "      <td>2</td>\n",
       "      <td>2</td>\n",
       "      <td>2</td>\n",
       "      <td>2</td>\n",
       "      <td>2</td>\n",
       "      <td>2</td>\n",
       "      <td>2</td>\n",
       "      <td>2</td>\n",
       "      <td>3</td>\n",
       "      <td>3</td>\n",
       "      <td>4</td>\n",
       "      <td>2</td>\n",
       "      <td>2</td>\n",
       "      <td>3</td>\n",
       "      <td>1</td>\n",
       "      <td>2</td>\n",
       "      <td>2</td>\n",
       "      <td>3</td>\n",
       "      <td>2</td>\n",
       "      <td>3</td>\n",
       "      <td>1.0</td>\n",
       "      <td>3.0</td>\n",
       "      <td>3.0</td>\n",
       "      <td>3.0</td>\n",
       "      <td>NaN</td>\n",
       "      <td>4</td>\n",
       "      <td>4</td>\n",
       "      <td>NaN</td>\n",
       "      <td>NaN</td>\n",
       "      <td>NaN</td>\n",
       "      <td>2950.0</td>\n",
       "      <td>NaN</td>\n",
       "      <td>NaN</td>\n",
       "      <td>3.0</td>\n",
       "      <td>983.333333</td>\n",
       "      <td>5.0</td>\n",
       "      <td>8</td>\n",
       "      <td>NaN</td>\n",
       "      <td>5</td>\n",
       "      <td>6</td>\n",
       "      <td>17</td>\n",
       "      <td>NaN</td>\n",
       "      <td>7</td>\n",
       "      <td>NaN</td>\n",
       "      <td>7</td>\n",
       "      <td>7</td>\n",
       "      <td>9</td>\n",
       "      <td>8</td>\n",
       "      <td>8</td>\n",
       "      <td>0.770672</td>\n",
       "    </tr>\n",
       "    <tr>\n",
       "      <th>1500</th>\n",
       "      <td>233560819751074</td>\n",
       "      <td>1</td>\n",
       "      <td>2</td>\n",
       "      <td>54</td>\n",
       "      <td>2</td>\n",
       "      <td>5</td>\n",
       "      <td>5</td>\n",
       "      <td>6</td>\n",
       "      <td>4</td>\n",
       "      <td>4</td>\n",
       "      <td>6</td>\n",
       "      <td>3</td>\n",
       "      <td>7</td>\n",
       "      <td>12</td>\n",
       "      <td>20</td>\n",
       "      <td>9</td>\n",
       "      <td>5</td>\n",
       "      <td>2</td>\n",
       "      <td>9</td>\n",
       "      <td>7</td>\n",
       "      <td>12</td>\n",
       "      <td>7</td>\n",
       "      <td>30.0</td>\n",
       "      <td>10</td>\n",
       "      <td>7</td>\n",
       "      <td>8</td>\n",
       "      <td>NaN</td>\n",
       "      <td>NaN</td>\n",
       "      <td>NaN</td>\n",
       "      <td>8</td>\n",
       "      <td>8</td>\n",
       "      <td>NaN</td>\n",
       "      <td>2</td>\n",
       "      <td>3</td>\n",
       "      <td>2</td>\n",
       "      <td>NaN</td>\n",
       "      <td>1</td>\n",
       "      <td>2</td>\n",
       "      <td>0.0</td>\n",
       "      <td>1</td>\n",
       "      <td>4</td>\n",
       "      <td>4</td>\n",
       "      <td>4</td>\n",
       "      <td>4</td>\n",
       "      <td>4</td>\n",
       "      <td>4</td>\n",
       "      <td>4</td>\n",
       "      <td>4</td>\n",
       "      <td>4</td>\n",
       "      <td>4</td>\n",
       "      <td>4</td>\n",
       "      <td>4</td>\n",
       "      <td>4</td>\n",
       "      <td>3</td>\n",
       "      <td>5</td>\n",
       "      <td>1</td>\n",
       "      <td>2</td>\n",
       "      <td>2</td>\n",
       "      <td>2</td>\n",
       "      <td>2</td>\n",
       "      <td>2</td>\n",
       "      <td>2</td>\n",
       "      <td>2</td>\n",
       "      <td>2</td>\n",
       "      <td>1</td>\n",
       "      <td>2</td>\n",
       "      <td>2</td>\n",
       "      <td>2</td>\n",
       "      <td>2</td>\n",
       "      <td>2</td>\n",
       "      <td>2</td>\n",
       "      <td>2</td>\n",
       "      <td>2</td>\n",
       "      <td>2</td>\n",
       "      <td>2</td>\n",
       "      <td>2.0</td>\n",
       "      <td>3</td>\n",
       "      <td>3</td>\n",
       "      <td>3</td>\n",
       "      <td>3</td>\n",
       "      <td>3</td>\n",
       "      <td>3</td>\n",
       "      <td>3</td>\n",
       "      <td>3</td>\n",
       "      <td>3</td>\n",
       "      <td>3</td>\n",
       "      <td>3</td>\n",
       "      <td>3</td>\n",
       "      <td>3</td>\n",
       "      <td>3</td>\n",
       "      <td>3</td>\n",
       "      <td>3</td>\n",
       "      <td>2</td>\n",
       "      <td>4</td>\n",
       "      <td>4</td>\n",
       "      <td>4</td>\n",
       "      <td>4</td>\n",
       "      <td>4</td>\n",
       "      <td>4</td>\n",
       "      <td>4</td>\n",
       "      <td>4</td>\n",
       "      <td>4</td>\n",
       "      <td>4</td>\n",
       "      <td>4</td>\n",
       "      <td>4</td>\n",
       "      <td>4</td>\n",
       "      <td>3</td>\n",
       "      <td>1</td>\n",
       "      <td>3</td>\n",
       "      <td>3</td>\n",
       "      <td>3</td>\n",
       "      <td>3</td>\n",
       "      <td>3</td>\n",
       "      <td>3</td>\n",
       "      <td>3</td>\n",
       "      <td>NaN</td>\n",
       "      <td>NaN</td>\n",
       "      <td>NaN</td>\n",
       "      <td>NaN</td>\n",
       "      <td>NaN</td>\n",
       "      <td>4</td>\n",
       "      <td>4</td>\n",
       "      <td>NaN</td>\n",
       "      <td>NaN</td>\n",
       "      <td>NaN</td>\n",
       "      <td>2300.0</td>\n",
       "      <td>NaN</td>\n",
       "      <td>NaN</td>\n",
       "      <td>1.5</td>\n",
       "      <td>1533.333333</td>\n",
       "      <td>4.0</td>\n",
       "      <td>23</td>\n",
       "      <td>23.0</td>\n",
       "      <td>13</td>\n",
       "      <td>14</td>\n",
       "      <td>1</td>\n",
       "      <td>NaN</td>\n",
       "      <td>1</td>\n",
       "      <td>4.0</td>\n",
       "      <td>3</td>\n",
       "      <td>7</td>\n",
       "      <td>4</td>\n",
       "      <td>2</td>\n",
       "      <td>2</td>\n",
       "      <td>3.164681</td>\n",
       "    </tr>\n",
       "    <tr>\n",
       "      <th>1501</th>\n",
       "      <td>233506364120296</td>\n",
       "      <td>1</td>\n",
       "      <td>2</td>\n",
       "      <td>32</td>\n",
       "      <td>2</td>\n",
       "      <td>3</td>\n",
       "      <td>3</td>\n",
       "      <td>4</td>\n",
       "      <td>2</td>\n",
       "      <td>3</td>\n",
       "      <td>8</td>\n",
       "      <td>4</td>\n",
       "      <td>3</td>\n",
       "      <td>7</td>\n",
       "      <td>59</td>\n",
       "      <td>2</td>\n",
       "      <td>2</td>\n",
       "      <td>2</td>\n",
       "      <td>17</td>\n",
       "      <td>10</td>\n",
       "      <td>9</td>\n",
       "      <td>1</td>\n",
       "      <td>20.0</td>\n",
       "      <td>5</td>\n",
       "      <td>5</td>\n",
       "      <td>5</td>\n",
       "      <td>3.0</td>\n",
       "      <td>1.0</td>\n",
       "      <td>NaN</td>\n",
       "      <td>2</td>\n",
       "      <td>2</td>\n",
       "      <td>2.0</td>\n",
       "      <td>2</td>\n",
       "      <td>11</td>\n",
       "      <td>8</td>\n",
       "      <td>1.0</td>\n",
       "      <td>8</td>\n",
       "      <td>2</td>\n",
       "      <td>0.0</td>\n",
       "      <td>3</td>\n",
       "      <td>1</td>\n",
       "      <td>2</td>\n",
       "      <td>3</td>\n",
       "      <td>3</td>\n",
       "      <td>3</td>\n",
       "      <td>2</td>\n",
       "      <td>3</td>\n",
       "      <td>1</td>\n",
       "      <td>1</td>\n",
       "      <td>2</td>\n",
       "      <td>3</td>\n",
       "      <td>3</td>\n",
       "      <td>1</td>\n",
       "      <td>6</td>\n",
       "      <td>4</td>\n",
       "      <td>3</td>\n",
       "      <td>2</td>\n",
       "      <td>2</td>\n",
       "      <td>2</td>\n",
       "      <td>2</td>\n",
       "      <td>2</td>\n",
       "      <td>1</td>\n",
       "      <td>4</td>\n",
       "      <td>4</td>\n",
       "      <td>2</td>\n",
       "      <td>10</td>\n",
       "      <td>10</td>\n",
       "      <td>10</td>\n",
       "      <td>10</td>\n",
       "      <td>10</td>\n",
       "      <td>10</td>\n",
       "      <td>10</td>\n",
       "      <td>10</td>\n",
       "      <td>10</td>\n",
       "      <td>10</td>\n",
       "      <td>10.0</td>\n",
       "      <td>1</td>\n",
       "      <td>2</td>\n",
       "      <td>1</td>\n",
       "      <td>2</td>\n",
       "      <td>1</td>\n",
       "      <td>3</td>\n",
       "      <td>1</td>\n",
       "      <td>1</td>\n",
       "      <td>1</td>\n",
       "      <td>3</td>\n",
       "      <td>2</td>\n",
       "      <td>3</td>\n",
       "      <td>3</td>\n",
       "      <td>2</td>\n",
       "      <td>1</td>\n",
       "      <td>1</td>\n",
       "      <td>2</td>\n",
       "      <td>3</td>\n",
       "      <td>3</td>\n",
       "      <td>3</td>\n",
       "      <td>3</td>\n",
       "      <td>2</td>\n",
       "      <td>1</td>\n",
       "      <td>1</td>\n",
       "      <td>2</td>\n",
       "      <td>2</td>\n",
       "      <td>2</td>\n",
       "      <td>2</td>\n",
       "      <td>2</td>\n",
       "      <td>4</td>\n",
       "      <td>1</td>\n",
       "      <td>2</td>\n",
       "      <td>2</td>\n",
       "      <td>3</td>\n",
       "      <td>3</td>\n",
       "      <td>1</td>\n",
       "      <td>2</td>\n",
       "      <td>2</td>\n",
       "      <td>3</td>\n",
       "      <td>2.0</td>\n",
       "      <td>2.0</td>\n",
       "      <td>2.0</td>\n",
       "      <td>2.0</td>\n",
       "      <td>5.0</td>\n",
       "      <td>5</td>\n",
       "      <td>5</td>\n",
       "      <td>NaN</td>\n",
       "      <td>NaN</td>\n",
       "      <td>NaN</td>\n",
       "      <td>NaN</td>\n",
       "      <td>3500.0</td>\n",
       "      <td>NaN</td>\n",
       "      <td>1.5</td>\n",
       "      <td>2333.333333</td>\n",
       "      <td>3.0</td>\n",
       "      <td>3</td>\n",
       "      <td>NaN</td>\n",
       "      <td>2</td>\n",
       "      <td>3</td>\n",
       "      <td>6</td>\n",
       "      <td>NaN</td>\n",
       "      <td>6</td>\n",
       "      <td>4.0</td>\n",
       "      <td>6</td>\n",
       "      <td>7</td>\n",
       "      <td>8</td>\n",
       "      <td>7</td>\n",
       "      <td>7</td>\n",
       "      <td>0.659076</td>\n",
       "    </tr>\n",
       "  </tbody>\n",
       "</table>\n",
       "<p>1502 rows × 145 columns</p>\n",
       "</div>"
      ],
      "text/plain": [
       "                   ID  COMPTEUR  SEXE  AGE  QSEXE  RAGE1  RAGE2  RAGE3  RAGE4  \\\n",
       "0     233149874516147         1     2   22      2      2      2      3      1   \n",
       "1     233149874432006         1     1   73      1      6      6      8      5   \n",
       "2     233149874797781         1     2   76      2      7      6      8      5   \n",
       "3     233149874448429         1     2   69      2      6      6      7      5   \n",
       "4     233149874450481         1     1   59      1      5      5      6      4   \n",
       "...               ...       ...   ...  ...    ...    ...    ...    ...    ...   \n",
       "1497  233560820956177         1     1   33      1      3      3      4      2   \n",
       "1498  233560821479529         1     2   26      2      3      3      3      1   \n",
       "1499  233416101012557         1     2   38      2      4      4      4      2   \n",
       "1500  233560819751074         1     2   54      2      5      5      6      4   \n",
       "1501  233506364120296         1     2   32      2      3      3      4      2   \n",
       "\n",
       "      XRAGE  AGGLOIFOP0  AGGLO  TYPCOM  TAILCOM  DPT  REG  REG2  REG3  REG22  \\\n",
       "0         3           1      1       6        1   60    4     2     2     19   \n",
       "1         2           8      4       3        5   37    5     3     2      7   \n",
       "2         4           1      1       6        1   69    8     5     2     22   \n",
       "3         4           8      4       1       11   34    9     5     2     13   \n",
       "4         2           8      4       3        8   67    3     2     2      1   \n",
       "...     ...         ...    ...     ...      ...  ...  ...   ...   ...    ...   \n",
       "1497      1           1      1       6        1   80    4     2     2     19   \n",
       "1498      3           8      4       4       10   59    2     2     2     17   \n",
       "1499      4           7      4       1       11   14    5     3     2      4   \n",
       "1500      4           6      3       7       12   20    9     5     2      9   \n",
       "1501      3           8      4       3        7   59    2     2     2     17   \n",
       "\n",
       "      REG13  REG12  SITI  PPIA  PI0  PIQ  PI1  STC  PI2  TITC  STCA  STCB  \\\n",
       "0        10      9     7   3.0    7    7    8  NaN  NaN   NaN     8     8   \n",
       "1         6      6     3   4.0    7    7    7  NaN  NaN   NaN     7     8   \n",
       "2         3      3     3  15.0    7    7    7  NaN  NaN   NaN     7     8   \n",
       "3         9      8     3  20.0    8    7    7  NaN  NaN   NaN     7     8   \n",
       "4         1      1     1   9.0    3    3    3  3.0  1.0   NaN     2     2   \n",
       "...     ...    ...   ...   ...  ...  ...  ...  ...  ...   ...   ...   ...   \n",
       "1497     10      9     1  15.0    4    4    4  3.0  1.0   NaN     2     2   \n",
       "1498     10      9     6  20.0    8    7    8  NaN  NaN   NaN     8     8   \n",
       "1499     11     10     1  11.0    4    4    4  5.0  2.0   2.0     3     5   \n",
       "1500      7     12     7  30.0   10    7    8  NaN  NaN   NaN     8     8   \n",
       "1501     10      9     1  20.0    5    5    5  3.0  1.0   NaN     2     2   \n",
       "\n",
       "      STCC  DIPL1  DIPL2  DIPL3  DIPLSUP  DIPLFIL  FOYER  ENF14  RS11  Q2_1  \\\n",
       "0      NaN      2      6      5      NaN        4      5    0.0     3     4   \n",
       "1      NaN      2      8      6      NaN        5      2    0.0     2     1   \n",
       "2      NaN      2     10      7      NaN        7      2    0.0     2     2   \n",
       "3      NaN      2      6      5      NaN        4      2    0.0     2     1   \n",
       "4      2.0      2     11      8      1.0        8      2    0.0     2     1   \n",
       "...    ...    ...    ...    ...      ...      ...    ...    ...   ...   ...   \n",
       "1497   2.0      2     10      7      NaN        7      3    1.0     2     1   \n",
       "1498   NaN      2      5      4      NaN        3      5    3.0     2     4   \n",
       "1499   4.0      2     11      8      1.0        8      7    5.0     3     2   \n",
       "1500   NaN      2      3      2      NaN        1      2    0.0     1     4   \n",
       "1501   2.0      2     11      8      1.0        8      2    0.0     3     1   \n",
       "\n",
       "      Q2_2  Q2_3  Q2_4  Q2_5  Q2_6  Q2_7  Q2_8  Q2_9  Q2_10  Q2_11  Q2_12  \\\n",
       "0        4     4     4     4     4     4     4     4      4      4      4   \n",
       "1        3     3     2     3     3     2     2     1      2      2      3   \n",
       "2        3     3     1     3     2     2     2     1      2      3      1   \n",
       "3        2     2     1     3     2     2     2     2      3      2      2   \n",
       "4        2     2     1     4     1     3     2     1      4      3      3   \n",
       "...    ...   ...   ...   ...   ...   ...   ...   ...    ...    ...    ...   \n",
       "1497     4     4     1     4     2     1     4     1      2      1      1   \n",
       "1498     2     2     2     2     2     3     3     2      3      2      4   \n",
       "1499     2     3     2     3     2     2     2     2      2      2      3   \n",
       "1500     4     4     4     4     4     4     4     4      4      4      4   \n",
       "1501     2     3     3     3     2     3     1     1      2      3      3   \n",
       "\n",
       "      Q2_13  Q3A  Q3B  Q3C  Q4_1  Q4_2  Q4_3  Q4_4  Q4_5  Q4_6  Q4_7  Q4_8  \\\n",
       "0         4    5    4    6     4     4     4     4     4     4     4     4   \n",
       "1         2    1    3    4     1     2     1     3     3     1     4     1   \n",
       "2         2    3    6    7     1     2     1     2     2     1     4     1   \n",
       "3         2    5    7    2     2     2     2     2     2     2     2     3   \n",
       "4         4    1    3    2     2     1     2     1     3     1     4     1   \n",
       "...     ...  ...  ...  ...   ...   ...   ...   ...   ...   ...   ...   ...   \n",
       "1497      3    1    7    2     2     2     2     2     2     3     2     2   \n",
       "1498      3    5    6    7     3     2     3     3     3     3     3     2   \n",
       "1499      2    7    2    1     2     2     2     2     2     2     3     2   \n",
       "1500      4    3    5    1     2     2     2     2     2     2     2     2   \n",
       "1501      1    6    4    3     2     2     2     2     2     1     4     4   \n",
       "\n",
       "      SPLIT  Q7_1  Q7_2  Q7_3  Q7_4  Q7_5  Q7_6  Q7_7  Q7_8  Q7_9  Q7_10  \\\n",
       "0         2     5     5     5     5     5     5     5     5     5      5   \n",
       "1         2    10     5     4     6     8     6    10     5    10     10   \n",
       "2         1    10    10     6     5    10     6    10    10    10     10   \n",
       "3         1    10     2     1     2     9     9    10     2     3      9   \n",
       "4         1    10     9     1     8     9     1    10     8     9     10   \n",
       "...     ...   ...   ...   ...   ...   ...   ...   ...   ...   ...    ...   \n",
       "1497      1    10    10     2     2     2     3     8     5     5      3   \n",
       "1498      1    10    10     6     4     7     1     1     1     5      5   \n",
       "1499      1     9     9     4     3     6     4     9     7     7      8   \n",
       "1500      1     2     2     2     2     2     2     2     2     2      2   \n",
       "1501      2    10    10    10    10    10    10    10    10    10     10   \n",
       "\n",
       "      Q7_11  Q8_1  Q8_2  Q8_3  Q8_4  Q8_5  Q8_6  Q8_7  Q8_8  Q8_9  Q9_1  Q9_2  \\\n",
       "0       5.0     3     3     3     3     3     3     3     3     3     3     3   \n",
       "1      10.0     1     2     2     2     2     3     1     3     1     3     1   \n",
       "2      10.0     1     3     2     2     2     3     1     3     1     3     3   \n",
       "3       6.0     1     3     2     3     3     2     1     3     2     3     3   \n",
       "4       5.0     2     3     3     3     1     3     1     2     2     3     1   \n",
       "...     ...   ...   ...   ...   ...   ...   ...   ...   ...   ...   ...   ...   \n",
       "1497    6.0     1     2     1     2     1     3     2     3     1     3     1   \n",
       "1498    5.0     2     2     3     2     2     2     2     3     2     3     3   \n",
       "1499    6.0     1     1     1     2     1     2     1     2     1     3     2   \n",
       "1500    2.0     3     3     3     3     3     3     3     3     3     3     3   \n",
       "1501   10.0     1     2     1     2     1     3     1     1     1     3     2   \n",
       "\n",
       "      Q9_3  Q9_4  Q9_5  Q10  Q11  Q12  Q13_1  Q13_2  Q13_3  Q13_4  Q13_5  \\\n",
       "0        3     3     3    3    3    3      4      4      4      4      4   \n",
       "1        1     3     1    2    2    2      3      3      3      1      3   \n",
       "2        2     3     3    2    2    2      3      3      2      3      3   \n",
       "3        3     3     3    1    1    2      3      3      1      2      3   \n",
       "4        3     3     3    2    1    2      3      3      3      3      2   \n",
       "...    ...   ...   ...  ...  ...  ...    ...    ...    ...    ...    ...   \n",
       "1497     3     3     3    2    2    1      3      4      1      1      4   \n",
       "1498     1     3     3    3    2    3      3      3      3      2      2   \n",
       "1499     1     3     2    1    2    2      2      2      2      2      2   \n",
       "1500     3     3     3    3    3    2      4      4      4      4      4   \n",
       "1501     3     3     2    1    1    2      3      3      3      3      2   \n",
       "\n",
       "      Q13_6  Q13_7  Q13_8  Q13_9  Q13_10  Q13_11  Q13_12  Q13_13  Q14  Q15  \\\n",
       "0         4      4      4      4       4       4       4       4    4    1   \n",
       "1         1      4      1      2       3       2       3       4    1    2   \n",
       "2         2      2      1      3       2       3       3       4    2    2   \n",
       "3         2      1      1      3       2       2       3       4    4    1   \n",
       "4         1      2      2      3       2       1       2       4    2    2   \n",
       "...     ...    ...    ...    ...     ...     ...     ...     ...  ...  ...   \n",
       "1497      2      2      2      2       2       3       3       4    2    2   \n",
       "1498      2      2      1      3       3       4       3       3    3    1   \n",
       "1499      2      2      2      2       2       3       3       4    2    2   \n",
       "1500      4      4      4      4       4       4       4       4    3    1   \n",
       "1501      1      1      2      2       2       2       2       4    1    2   \n",
       "\n",
       "      Q16  Q18_1  Q18_2  Q18_3  Q18_4  Q18_5  Q18_6  Q19_1  Q19_2  Q19_3  \\\n",
       "0       2      3      3      3      3      3      3    NaN    NaN    NaN   \n",
       "1       1      1      2      2      2      2      3    2.0    2.0    2.0   \n",
       "2       2      1      1      2      1      1      2    1.0    3.0    2.0   \n",
       "3       2      2      3      3      1      2      3    NaN    NaN    NaN   \n",
       "4       2      1      2      1      1      1      2    2.0    1.0    1.0   \n",
       "...   ...    ...    ...    ...    ...    ...    ...    ...    ...    ...   \n",
       "1497    3      1      2      1      1      2      3    2.0    2.0    1.0   \n",
       "1498    1      2      2      1      2      3      1    2.0    3.0    1.0   \n",
       "1499    3      1      2      2      3      2      3    1.0    3.0    3.0   \n",
       "1500    3      3      3      3      3      3      3    NaN    NaN    NaN   \n",
       "1501    2      3      3      1      2      2      3    2.0    2.0    2.0   \n",
       "\n",
       "      Q19_4  Q20  REV  REVR  REV21  REV22   REV23   REV24   REV25    REV26  \\\n",
       "0       NaN  NaN    7     7    NaN    NaN     NaN     NaN     NaN      NaN   \n",
       "1       3.0  NaN    6     6    NaN    NaN     NaN     NaN     NaN   4600.0   \n",
       "2       1.0  2.0    5     5    NaN    NaN     NaN     NaN  3150.0      NaN   \n",
       "3       NaN  NaN    7     7    NaN    NaN     NaN     NaN     NaN      NaN   \n",
       "4       1.0  1.0    6     6    NaN    NaN     NaN     NaN     NaN  10000.0   \n",
       "...     ...  ...  ...   ...    ...    ...     ...     ...     ...      ...   \n",
       "1497    1.0  1.0    6     6    NaN    NaN     NaN     NaN     NaN   4500.0   \n",
       "1498    1.0  1.0    3     3    NaN    NaN  1630.0     NaN     NaN      NaN   \n",
       "1499    3.0  NaN    4     4    NaN    NaN     NaN  2950.0     NaN      NaN   \n",
       "1500    NaN  NaN    4     4    NaN    NaN     NaN  2300.0     NaN      NaN   \n",
       "1501    2.0  5.0    5     5    NaN    NaN     NaN     NaN  3500.0      NaN   \n",
       "\n",
       "      NBUC_T        RUC_A  TRUC  PROX  PROX1  RPROX  PROXFIL  PRE22  REL2  \\\n",
       "0        NaN          NaN   NaN    23   23.0     13       14     17   NaN   \n",
       "1        1.5  3066.666667   2.0    16    NaN      9       10     10   NaN   \n",
       "2        1.5  2100.000000   3.0    10    NaN      6        7      9   NaN   \n",
       "3        NaN          NaN   NaN    20    NaN     11       12     12   NaN   \n",
       "4        1.5  6666.666667   1.0     9    NaN      5        6      8   NaN   \n",
       "...      ...          ...   ...   ...    ...    ...      ...    ...   ...   \n",
       "1497     1.8  2500.000000   3.0    21    NaN     10       11     13   2.0   \n",
       "1498     2.4   679.166667   6.0    23   23.0     13       14     15   NaN   \n",
       "1499     3.0   983.333333   5.0     8    NaN      5        6     17   NaN   \n",
       "1500     1.5  1533.333333   4.0    23   23.0     13       14      1   NaN   \n",
       "1501     1.5  2333.333333   3.0     3    NaN      2        3      6   NaN   \n",
       "\n",
       "      RELI1  RELI2  RRELI  FQRELI  RFQRELI  REL1  REL1_R     POIDS  \n",
       "0         7    NaN      7       7        9     8       8  0.855884  \n",
       "1         1    4.0      3       6        3     2       2  0.479168  \n",
       "2         6    4.0      6       7        8     7       7  0.455098  \n",
       "3         6    5.0      6       7        8     2       2  1.297183  \n",
       "4         2    4.0      4       7        5     3       3  1.285703  \n",
       "...     ...    ...    ...     ...      ...   ...     ...       ...  \n",
       "1497      1    5.0      3       7        4     1       1  1.043640  \n",
       "1498      1    4.0      3       7        4     7       7  2.846135  \n",
       "1499      7    NaN      7       7        9     8       8  0.770672  \n",
       "1500      1    4.0      3       7        4     2       2  3.164681  \n",
       "1501      6    4.0      6       7        8     7       7  0.659076  \n",
       "\n",
       "[1502 rows x 145 columns]"
      ]
     },
     "execution_count": 4,
     "metadata": {},
     "output_type": "execute_result"
    }
   ],
   "source": [
    "data"
   ]
  },
  {
   "cell_type": "code",
   "execution_count": 5,
   "metadata": {},
   "outputs": [
    {
     "data": {
      "text/plain": [
       "RS11\n",
       "3    760\n",
       "2    639\n",
       "1    103\n",
       "Name: count, dtype: int64"
      ]
     },
     "execution_count": 5,
     "metadata": {},
     "output_type": "execute_result"
    }
   ],
   "source": [
    "# Variable 'RS11'\n",
    "# Question : Pensez-vous que dans les grands débats de société actuels, la science a… ?\n",
    "data['RS11'].value_counts()"
   ]
  },
  {
   "cell_type": "code",
   "execution_count": 6,
   "metadata": {},
   "outputs": [],
   "source": [
    "data['RS11'] = data['RS11'].astype('category')"
   ]
  },
  {
   "cell_type": "code",
   "execution_count": 7,
   "metadata": {},
   "outputs": [],
   "source": [
    "data['RS11'] =data['RS11'].cat.rename_categories({1: \"Trop de place\"\n",
    "                                                 , 2 : \"Pas assez de place\"\n",
    "                                                 , 3 : \"Ni trop, ni pas assez de place\"})"
   ]
  },
  {
   "cell_type": "code",
   "execution_count": 8,
   "metadata": {},
   "outputs": [],
   "source": [
    "#changer l'order des categories de la variable 'RS11'\n",
    "data['RS11'] = pd.Categorical(data['RS11'], \n",
    "                            categories=['Pas assez de place'\n",
    "                                        , 'Ni trop, ni pas assez de place'\n",
    "                                        ,'Trop de place'], \n",
    "                            ordered=True)"
   ]
  },
  {
   "cell_type": "code",
   "execution_count": 9,
   "metadata": {},
   "outputs": [],
   "source": [
    "list_indeps = ['SEXE', 'Age_groupes', 'Taillcom_cat', 'DPT', 'REG22', 'SITI', 'PI0', 'DIPL1', 'Diplome'\n",
    "              , 'FOYER', 'REV', 'PROX_nom', 'PROX_cat', 'RS11', 'Q2_1', 'Q2_2', 'Q2_3', 'Q2_4', 'Q2_5', 'Q2_6', 'Q2_7'\n",
    "              , 'Q2_8', 'Q2_9', 'Q2_10', 'Q2_11', 'Q2_12', 'Q2_13', 'Q3A', 'Q3B', 'Q3C', 'Sectes_premier', 'Sectes_obscurantisme_placement'\n",
    "              , 'Complotisme_premier', 'Complotisme_obscurantisme_placement', 'Religions_premier', 'Religions_obscurantisme_placement'\n",
    "              , 'Remise_en_cause_science_premier', 'Remise_en_cause_science_obscurantisme_placement', 'Q4_1', 'Q4_2', 'Q4_3'\n",
    "              , 'Q4_4', 'Q4_5', 'Q4_6', 'Q4_7', 'Q4_8', 'Q8_1', 'Q8_2', 'Q8_3', 'Q8_4', 'Q8_5', 'Q8_6', 'Q8_7', 'Q8_8', 'Q8_9'\n",
    "              , 'Q9_3', 'Q9_5', 'Q10', 'Q11', 'Q12', 'Q13_2', 'Q13_6', 'Q13_7', 'Q14', 'Q15', 'Q16', 'Q18_1', 'Q18_2', 'Q18_3'\n",
    "              , 'Q18_4', 'Q18_5', 'Q18_6', 'Q19_1', 'Q19_2', 'Q19_3', 'Q19_4', 'Q20', 'PRE22', 'REL1', 'REL2', 'RELI2', 'RRELI']\n",
    "\n",
    "questions_variables = {'SEXE' : \"Vous êtes... ?\", 'Age_groupes' : \"Groupes d'ages\", 'Taillcom_cat' : \"Taille commune categorie\"\n",
    "                      , 'DPT' : \"Département\", 'REG22' : \"Région\", 'SITI' : \"Actuellement, quelle est votre situation ?\"\n",
    "                      , 'PI0' : \"CSP\", 'DIPL1' : \"Êtes-vous inscrit(e) dans un établissement d’enseignement pour l’année scolaire en cours ?  Y compris apprentissage ou études supérieures.\"\n",
    "                      , 'Diplome' : \"À ce jour, le plus haut diplôme que vous possédez est… ?\", 'FOYER' : \"De combien de personnes se compose votre foyer y compris vous-même ?\"\n",
    "                      , 'REV' : \"En prenant en compte tous les types de revenus que touchent les membres de votre foyer, quel est actuellement le montant mensuel net des ressources de l’ensemble de votre ménage ?\"\n",
    "                      , 'PROX_nom' : \"De laquelle des formations politiques suivantes vous sentez-vous le plus proche ou disons le moins éloigné(e) ?\"\n",
    "                      , 'PROX_cat' : \"Proximité politique\", 'RS11' : \"Pensez-vous que dans les grands débats de société actuels, la science a… ?\"\n",
    "                      , 'Q2_1' : \"Pour chacun des termes ou groupes suivants, diriez-vous qu’il est concerné ou traversé par des formes d’obscurantisme ? Les sectes\"\n",
    "                      , 'Q2_2' : \"Pour chacun des termes ou groupes suivants, diriez-vous qu’il est concerné ou traversé par des formes d’obscurantisme ? Le Christianisme\"\n",
    "                      , 'Q2_3' : \"Pour chacun des termes ou groupes suivants, diriez-vous qu’il est concerné ou traversé par des formes d’obscurantisme ? Le Judaïsme\"\n",
    "                      , 'Q2_4' : \"Pour chacun des termes ou groupes suivants, diriez-vous qu’il est concerné ou traversé par des formes d’obscurantisme ? L’Islam\"\n",
    "                      , 'Q2_5' : \"Pour chacun des termes ou groupes suivants, diriez-vous qu’il est concerné ou traversé par des formes d’obscurantisme ? Le Bouddhisme\"\n",
    "                      , 'Q2_6' : \"Pour chacun des termes ou groupes suivants, diriez-vous qu’il est concerné ou traversé par des formes d’obscurantisme ? Les religions en général\"\n",
    "                      , 'Q2_7' : \" Pour chacun des termes ou groupes suivants, diriez-vous qu’il est concerné ou traversé par des formes d’obscurantisme ? Les mouvements d’ultra gauche\"\n",
    "                      , 'Q2_8' : \"Pour chacun des termes ou groupes suivants, diriez-vous qu’il est concerné ou traversé par des formes d’obscurantisme ? Les mouvements d’ultra droite\"\n",
    "                      , 'Q2_9' : \"Pour chacun des termes ou groupes suivants, diriez-vous qu’il est concerné ou traversé par des formes d’obscurantisme ? Les mouvements complotistes\"\n",
    "                      , 'Q2_10' : \"Pour chacun des termes ou groupes suivants, diriez-vous qu’il est concerné ou traversé par des formes d’obscurantisme ? Les médecines alternatives\"\n",
    "                      , 'Q2_11' : \"Pour chacun des termes ou groupes suivants, diriez-vous qu’il est concerné ou traversé par des formes d’obscurantisme ? Les mouvements néo-féministes\"\n",
    "                      , 'Q2_12' : \"Pour chacun des termes ou groupes suivants, diriez-vous qu’il est concerné ou traversé par des formes d’obscurantisme ? Le wokisme\"\n",
    "                      , 'Q2_13' : \" Pour chacun des termes ou groupes suivants, diriez-vous qu’il est concerné ou traversé par des formes d’obscurantisme ? Le survivalisme\"\n",
    "                      , 'Q3A' : \"Quel mot parmi les suivants se rapproche selon vous le plus de l’obscurantisme ? En premier ?\"\n",
    "                      , 'Q3B' : \"Quel mot parmi les suivants se rapproche selon vous le plus de l’obscurantisme ? En deuxième ?\"\n",
    "                      , 'Q3C' : \"Quel mot parmi les suivants se rapproche selon vous le plus de l’obscurantisme ? Et en troisième ?\"\n",
    "                      , 'Sectes_premier': \"Placement des sectes en premier dans la liste des mots qui se rapprochent le plus de l’obscurantisme\"\n",
    "                      , 'Sectes_obscurantisme_placement' : \"Placement des sectes dans les 3 premières places de la liste des mots qui se rapprochent le plus de l’obscurantisme\"\n",
    "                      , 'Complotisme_premier' : \"Placement du complotisme en premier dans la liste des mots qui se rapprochent le plus de l’obscurantisme\"\n",
    "                      , 'Complotisme_obscurantisme_placement' : \"Placement du complotisme dans les 3 premières places de la liste des mots qui se rapprochent le plus de l’obscurantisme\"\n",
    "                      , 'Religions_premier' : \"Placement des religions en premier dans la liste des mots qui se rapprochent le plus de l’obscurantisme\"\n",
    "                      , 'Religions_obscurantisme_placement' : \"Placement des religions dans les 3 premières places de la liste des mots qui se rapprochent le plus de l’obscurantisme\"\n",
    "                      , 'Remise_en_cause_science_premier' : \"Placement de la remise en cause de la science en premier dans la liste des mots qui se rapprochent le plus de l’obscurantisme\"\n",
    "                      , 'Remise_en_cause_science_obscurantisme_placement' : \"Placement de la remise en cause de la science dans les 3 premières places de la liste des mots qui se rapprochent le plus de l’obscurantisme\"\n",
    "                      , 'Q4_1' : \"Pour chacune des phrases suivantes, indiquez si vous êtes tout à fait d’accord, plutôt d’accord, pas vraiment d’accord ou pas du tout d’accord. L’obscurantisme représente une menace sérieuse pour la République\"\n",
    "                      , 'Q4_2' : \"Pour chacune des phrases suivantes, indiquez si vous êtes tout à fait d’accord, plutôt d’accord, pas vraiment d’accord ou pas du tout d’accord. L’obscurantisme est un phénomène répandu au sein de la société\"\n",
    "                      , 'Q4_3' : \"Pour chacune des phrases suivantes, indiquez si vous êtes tout à fait d’accord, plutôt d’accord, pas vraiment d’accord ou pas du tout d’accord. L’obscurantisme est un phénomène en progression au sein de la société\"\n",
    "                      , 'Q4_4' : \"Pour chacune des phrases suivantes, indiquez si vous êtes tout à fait d’accord, plutôt d’accord, pas vraiment d’accord ou pas du tout d’accord. L’obscurantisme est un phénomène qui a toujours existé\"\n",
    "                      , 'Q4_5' : \"Pour chacune des phrases suivantes, indiquez si vous êtes tout à fait d’accord, plutôt d’accord, pas vraiment d’accord ou pas du tout d’accord. L’obscurantisme est un phénomène contre lequel on peut lutter\"\n",
    "                      , 'Q4_6' : \"Pour chacune des phrases suivantes, indiquez si vous êtes tout à fait d’accord, plutôt d’accord, pas vraiment d’accord ou pas du tout d’accord. L’obscurantisme est un phénomène contre lequel il est indispens\"\n",
    "                      , 'Q4_7' : \"Pour chacune des phrases suivantes, indiquez si vous êtes tout à fait d’accord, plutôt d’accord, pas vraiment d’accord ou pas du tout d’accord. L’obscurantisme est un phénomène dont on exagère la portée.\"\n",
    "                      , 'Q4_8' : \"Pour chacune des phrases suivantes, indiquez si vous êtes tout à fait d’accord, plutôt d’accord, pas vraiment d’accord ou pas du tout d’accord. La notion d’obscurantisme est utilisée pour dénigrer ou disqual\"\n",
    "                      , 'Q8_1' : \"Pour chacun des acteurs suivants, diriez-vous qu’il participe ou non à la diffusion des phénomènes obscurantistes dans la société française ? Les réseaux sociaux\"\n",
    "                      , 'Q8_2' : \"Pour chacun des acteurs suivants, diriez-vous qu’il participe ou non à la diffusion des phénomènes obscurantistes dans la société française ? Les journaux télévisés (13 heures, 20 heures, etc.)\"\n",
    "                      , 'Q8_3' : \"Pour chacun des acteurs suivants, diriez-vous qu’il participe ou non à la diffusion des phénomènes obscurantistes dans la société française ? Les chaînes d’informations continues\"\n",
    "                      , 'Q8_4' : \"Pour chacun des acteurs suivants, diriez-vous qu’il participe ou non à la diffusion des phénomènes obscurantistes dans la société française ? La radio\"\n",
    "                      , 'Q8_5' : \"Pour chacun des acteurs suivants, diriez-vous qu’il participe ou non à la diffusion des phénomènes obscurantistes dans la société française ? Le personnel politique\"\n",
    "                      , 'Q8_6' : \"Pour chacun des acteurs suivants, diriez-vous qu’il participe ou non à la diffusion des phénomènes obscurantistes dans la société française ? Les scientifiques\"\n",
    "                      , 'Q8_7' : \"Pour chacun des acteurs suivants, diriez-vous qu’il participe ou non à la diffusion des phénomènes obscurantistes dans la société française ? Les religieux\"\n",
    "                      , 'Q8_8' : \"Pour chacun des acteurs suivants, diriez-vous qu’il participe ou non à la diffusion des phénomènes obscurantistes dans la société française ? Les entreprises\"\n",
    "                      , 'Q8_9' : \"Pour chacun des acteurs suivants, diriez-vous qu’il participe ou non à la diffusion des phénomènes obscurantistes dans la société française ? Les influenceurs sur le web\"\n",
    "                      , 'Q9_3' : \"Avez-vous déjà été confronté au cours de votre vie à une des situations suivantes ? Un proche a refusé de se faire vacciner malgré les recommandations scientifiques\"\n",
    "                      , 'Q9_5': \"Avez-vous déjà été confronté au cours de votre vie à une des situations suivantes ? Un proche a tenu des propos contraires à des faits historiques ou scientifiques établis\"\n",
    "                      , 'Q10' : \"De ces deux opinions, de laquelle vous sentez-vous le plus proche ?\", 'Q11' : \"Diriez-vous que pour les pouvoirs publics la lutte contre les dérives obscurantistes doit être un enjeu… ?\"\n",
    "                      , 'Q12' : \"Pensez-vous que les pouvoirs publics en font trop, n’en font pas assez ou en font juste comme il faut en ce qui concerne les dérives obscurantistes ?\"\n",
    "                      , 'Q13_2' : \"Pour chacun des groupes ou acteurs suivants, diriez-vous que vous lui faites confiance ou pas confiance pour lutter contre les phénomènes obscurantistes ? Les élus, le personnel politique\"\n",
    "                      , 'Q13_6' : \"Pour chacun des groupes ou acteurs suivants, diriez-vous que vous lui faites confiance ou pas confiance pour lutter contre les phénomènes obscurantistes ? Les scientifiques\"\n",
    "                      , 'Q13_7' : \"Pour chacun des groupes ou acteurs suivants, diriez-vous que vous lui faites confiance ou pas confiance pour lutter contre les phénomènes obscurantistes ? Les enseignants, l’Ecole\"\n",
    "                      , 'Q14' : \"Si vous aviez connaissance d’actions individuelles ne demandant pas de moyens particuliers, pour lutter contre l'obscurantisme, seriez-vous prêt à vous engager dans cette lutte ?\"\n",
    "                      , 'Q15' : \"Lorsque quelqu'un dans une conversation avec vous évoque des convictions irrationnelles, avez-vous tendance… ?\"\n",
    "                      , 'Q16' : \"Lorsque vous voyez sur les réseaux sociaux des commentaires qui vous semblent obscurantistes, avez-vous tendance… ?\"\n",
    "                      , 'Q18_1' : \"Pour vous informer sur l’actualité, utilisez-vous chacun des médias suivants ? Les journaux télévisés (13 heures, 20 heures, etc.)\"\n",
    "                      , 'Q18_2' : \"Pour vous informer sur l’actualité, utilisez-vous chacun des médias suivants ? Les journaux d’informations continues\"\n",
    "                      , 'Q18_3' : \"Pour vous informer sur l’actualité, utilisez-vous chacun des médias suivants ? Internet (y compris les réseaux sociaux)\"\n",
    "                      , 'Q18_4' : \"Pour vous informer sur l’actualité, utilisez-vous chacun des médias suivants ? La radio\"\n",
    "                      , 'Q18_5' : \"Pour vous informer sur l’actualité, utilisez-vous chacun des médias suivants ? Les journaux, la presse écrite\"\n",
    "                      , 'Q18_6' : \"Pour vous informer sur l’actualité, utilisez-vous chacun des médias suivants ? Les applications de messagerie instantanée (WhatsApp, Telegram, etc.)\"\n",
    "                      , 'Q19_1' : \"Plus précisément, sur internet, utilisez-vous chacune des sources suivantes ? Les sites d’information des grands médias\"\n",
    "                      , 'Q19_2' : \"Plus précisément, sur internet, utilisez-vous chacune des sources suivantes ? Les portails ou applications (Google News, Yahoo Actualités, Actu Orange…)\"\n",
    "                      , 'Q19_3' : \"Plus précisément, sur internet, utilisez-vous chacune des sources suivantes ? Les sites de vidéos en ligne (YouTube, Dailymotion, Vimeo…)\"\n",
    "                      , 'Q19_4' : \"Plus précisément, sur internet, utilisez-vous chacune des sources suivantes ? Les réseaux sociaux (Facebook, Twitter, Snapchat, Instagram, LinkedIn…)\"\n",
    "                      , 'Q20' : \" A quelle fréquence partagez-vous du contenu traitant des informations sur les réseaux sociaux (Facebook, Watsapp, Twitter, etc.) ?\"\n",
    "                      , 'PRE22' : \"Pour lequel des candidats suivants avez-vous voté lors du PREMIER TOUR de l'élection présidentielle, dimanche 10 avril 2022 ?\"\n",
    "                      , 'REL1' : \" Êtes-vous ...?\", 'REL2' : \"Plus précisément êtes-vous... ?\", 'RELI2' : \"D'habitude, allez-vous à un office religieux... ?\"\n",
    "                      , 'RRELI' : \"Religion categories\"}"
   ]
  },
  {
   "cell_type": "code",
   "execution_count": 10,
   "metadata": {},
   "outputs": [
    {
     "data": {
      "text/plain": [
       "SEXE\n",
       "2    819\n",
       "1    683\n",
       "Name: count, dtype: int64"
      ]
     },
     "execution_count": 10,
     "metadata": {},
     "output_type": "execute_result"
    }
   ],
   "source": [
    "# Variable 'SEXE'\n",
    "# Question :  Vous êtes... ?\n",
    "data['SEXE'].value_counts()"
   ]
  },
  {
   "cell_type": "code",
   "execution_count": 11,
   "metadata": {},
   "outputs": [],
   "source": [
    "data['SEXE'] = data['SEXE'].astype('category')\n",
    "data['SEXE'] =data['SEXE'].cat.rename_categories({1 : \"Un homme\"\n",
    "                                                 , 2 : \"Une femme\"})"
   ]
  },
  {
   "cell_type": "code",
   "execution_count": 12,
   "metadata": {},
   "outputs": [],
   "source": [
    "data['SEXE'] = pd.Categorical(data['SEXE'], \n",
    "                            categories=['Une femme', 'Un homme'], \n",
    "                            ordered=True)"
   ]
  },
  {
   "cell_type": "code",
   "execution_count": 13,
   "metadata": {},
   "outputs": [
    {
     "data": {
      "text/plain": [
       "QSEXE\n",
       "2    819\n",
       "1    683\n",
       "Name: count, dtype: int64"
      ]
     },
     "execution_count": 13,
     "metadata": {},
     "output_type": "execute_result"
    }
   ],
   "source": [
    "data['QSEXE'].value_counts()"
   ]
  },
  {
   "cell_type": "code",
   "execution_count": 14,
   "metadata": {},
   "outputs": [
    {
     "data": {
      "text/plain": [
       "0"
      ]
     },
     "execution_count": 14,
     "metadata": {},
     "output_type": "execute_result"
    }
   ],
   "source": [
    "# Variable 'AGE'\n",
    "# Question : Quel âge avez-vous ?  Merci de noter votre âge dans le cadre ci-dessous : \n",
    "data['AGE'].isna().sum()"
   ]
  },
  {
   "cell_type": "code",
   "execution_count": 209,
   "metadata": {},
   "outputs": [],
   "source": [
    "# définir une fonction pour recoder la variable 'AGE':\n",
    "def age_groupes(x):\n",
    "    if x >= 18 and x < 25:\n",
    "        return \"18-24\"\n",
    "    if x >= 25 and x < 35:\n",
    "        return \"25-34\"\n",
    "    if x >= 35 and x < 50:\n",
    "        return \"35-49\"\n",
    "    if x >= 50 and x < 65:\n",
    "        return \"50-64\"\n",
    "    if x >= 65 and x < 75:\n",
    "        return \"65-74\"\n",
    "    if x == 75 or x > 75:\n",
    "        return \"75 et plus\"\n",
    "    "
   ]
  },
  {
   "cell_type": "code",
   "execution_count": 210,
   "metadata": {},
   "outputs": [],
   "source": [
    "data['Age_groupes']= data['AGE'].apply(lambda x : age_groupes(x))"
   ]
  },
  {
   "cell_type": "code",
   "execution_count": 211,
   "metadata": {},
   "outputs": [
    {
     "data": {
      "text/plain": [
       "Age_groupes\n",
       "35-49         363\n",
       "50-64         356\n",
       "25-34         244\n",
       "65-74         196\n",
       "75 et plus    184\n",
       "18-24         159\n",
       "Name: count, dtype: int64"
      ]
     },
     "execution_count": 211,
     "metadata": {},
     "output_type": "execute_result"
    }
   ],
   "source": [
    "data['Age_groupes'].value_counts()"
   ]
  },
  {
   "cell_type": "code",
   "execution_count": 18,
   "metadata": {},
   "outputs": [],
   "source": [
    "#changer l'order des categories de la variable 'Age_groupes'\n",
    "data['Age_groupes'] = pd.Categorical(data['Age_groupes'], \n",
    "                            categories=['18-24', '25-34' ,'35-49'\n",
    "                                        ,'50-64', '65-74'\n",
    "                                       , '75plus'], \n",
    "                            ordered=True)"
   ]
  },
  {
   "cell_type": "code",
   "execution_count": 19,
   "metadata": {},
   "outputs": [
    {
     "data": {
      "text/plain": [
       "TAILCOM\n",
       "11    250\n",
       "1     199\n",
       "10    149\n",
       "5     146\n",
       "3     142\n",
       "7     128\n",
       "2     124\n",
       "9     117\n",
       "8     107\n",
       "4      89\n",
       "6      27\n",
       "12     24\n",
       "Name: count, dtype: int64"
      ]
     },
     "execution_count": 19,
     "metadata": {},
     "output_type": "execute_result"
    }
   ],
   "source": [
    "# Variable 'TAILCOM'\n",
    "# Question : TAILCOM\n",
    "data['TAILCOM'].value_counts()"
   ]
  },
  {
   "cell_type": "code",
   "execution_count": 20,
   "metadata": {},
   "outputs": [],
   "source": [
    "# définir une fonction pour recoder la variable 'TAILCOM':\n",
    "def taillcom_categories(x):\n",
    "    if x ==1 :\n",
    "        return \"Moins de 1000 hab\"\n",
    "    if x == 2:\n",
    "        return \"De 1000 à 1999 hab\"\n",
    "    if x == 3:\n",
    "        return \"De 2000 à 3499 hab\"\n",
    "    if x == 4:\n",
    "        return \"De 3500 à 4999 hab\"\n",
    "    if x == 5:\n",
    "        return \"De 5000 à 8999 hab\"\n",
    "    if x == 6:\n",
    "        return \"De 9000 à 9999 hab\"\n",
    "    if x == 7:\n",
    "        return \"De 10000 à 19999 hab\"\n",
    "    if x == 8:\n",
    "        return \"De 20000 à 29999 hab\"\n",
    "    if x == 9:\n",
    "        return \"De 30000 à 49999 hab\"\n",
    "    if x == 10:\n",
    "        return \"De 50000 à 99999 hab\"\n",
    "    if x == 11:\n",
    "        return \"100000 hab Et Plus\"\n",
    "    if x == 12:\n",
    "        return \"NRenseigne\""
   ]
  },
  {
   "cell_type": "code",
   "execution_count": 21,
   "metadata": {},
   "outputs": [],
   "source": [
    "data['Taillcom_cat']= data['TAILCOM'].apply(lambda x : taillcom_categories(x))"
   ]
  },
  {
   "cell_type": "code",
   "execution_count": 22,
   "metadata": {},
   "outputs": [],
   "source": [
    "#changer l'order des categories de la variable 'Taillcom_cat'\n",
    "data['Taillcom_cat'] = pd.Categorical(data['Taillcom_cat'], \n",
    "                            categories=[\"Moins de 1000 hab\", \"De 1000 à 1999 hab\"\n",
    "                                        , \"De 2000 à 3499 hab\", \"De 3500 à 4999 hab\", \"De 5000 à 8999 hab\"\n",
    "                                        , \"De 9000 à 9999 hab\", \"De 10000 à 19999 hab\"\n",
    "                                        , \"De 20000 à 29999 hab\", \"De 30000 à 49999 hab\"\n",
    "                                        , \"De 50000 à 99999 hab\", \"100000 hab Et Plus\"\n",
    "                                        , \"NRenseigne\"], \n",
    "                            ordered=True)"
   ]
  },
  {
   "cell_type": "code",
   "execution_count": 23,
   "metadata": {},
   "outputs": [
    {
     "data": {
      "text/plain": [
       "DPT\n",
       "75    65\n",
       "59    57\n",
       "77    46\n",
       "69    43\n",
       "13    41\n",
       "      ..\n",
       "15     2\n",
       "48     2\n",
       "23     2\n",
       "36     2\n",
       "43     1\n",
       "Name: count, Length: 95, dtype: int64"
      ]
     },
     "execution_count": 23,
     "metadata": {},
     "output_type": "execute_result"
    }
   ],
   "source": [
    "# Variable 'DPT'\n",
    "# Question : Département\n",
    "data['DPT'].value_counts()"
   ]
  },
  {
   "cell_type": "code",
   "execution_count": 24,
   "metadata": {},
   "outputs": [
    {
     "data": {
      "text/plain": [
       "REG22\n",
       "12    282\n",
       "22    136\n",
       "21    113\n",
       "17     90\n",
       "18     89\n",
       "6      78\n",
       "13     77\n",
       "16     69\n",
       "2      69\n",
       "7      68\n",
       "19     49\n",
       "20     46\n",
       "15     43\n",
       "5      41\n",
       "11     40\n",
       "8      38\n",
       "1      38\n",
       "4      37\n",
       "3      35\n",
       "10     29\n",
       "9      20\n",
       "14     15\n",
       "Name: count, dtype: int64"
      ]
     },
     "execution_count": 24,
     "metadata": {},
     "output_type": "execute_result"
    }
   ],
   "source": [
    "# Variable 'REG22'\n",
    "# Question : Région\n",
    "data['REG22'].value_counts()"
   ]
  },
  {
   "cell_type": "code",
   "execution_count": 25,
   "metadata": {},
   "outputs": [],
   "source": [
    "data['REG22'] = data['REG22'].astype('category')"
   ]
  },
  {
   "cell_type": "code",
   "execution_count": 26,
   "metadata": {},
   "outputs": [],
   "source": [
    "data['REG22'] = data['REG22'].cat.rename_categories({1: \"ALSACE\", 2 : \"AQUITAINE\", 3 : \"AUVERGNE\"\n",
    "                                                     , 4 : \"BASSENORMANDIE\", 5 : \"BOURGOGNE\", 6 : \"BRETAGNE\"\n",
    "                                                     , 7 : \"CENTRE\", 8 : \"CHAMPAGNEARDENNE\", 9 : \"CORSE\"\n",
    "                                                     , 10 : \"FRANCHECOMTE\", 11 : \"HAUTENORMANDIE\", 12 : \"ILEDEFRANCE\"\n",
    "                                                     , 13 : \"LANGUEDOCROUSSILLON\" , 14 : \"LIMOUSIN\", 15 : \"LORRAINE\"\n",
    "                                                     , 16 : \"MIDIPYRENNEES\", 17: \"NORSPASDECALAIS\", 18 : \"PAYSDELALOIRE\"\n",
    "                                                     , 19 : \"PICARDIE\", 20 : \"POITOUCHARENTES\", 21 : \"PACA\"\n",
    "                                                     , 22 : \"RHONEALPES\"})"
   ]
  },
  {
   "cell_type": "code",
   "execution_count": 27,
   "metadata": {},
   "outputs": [
    {
     "data": {
      "text/plain": [
       "SITI\n",
       "1    841\n",
       "3    404\n",
       "5     75\n",
       "2     70\n",
       "7     64\n",
       "6     41\n",
       "4      7\n",
       "Name: count, dtype: int64"
      ]
     },
     "execution_count": 27,
     "metadata": {},
     "output_type": "execute_result"
    }
   ],
   "source": [
    "# Variable 'SITI'\n",
    "# Question : Actuellement, quelle est votre situation ?\n",
    "data['SITI'].value_counts()"
   ]
  },
  {
   "cell_type": "code",
   "execution_count": 28,
   "metadata": {},
   "outputs": [],
   "source": [
    "data['SITI'] = data['SITI'].astype('category')"
   ]
  },
  {
   "cell_type": "code",
   "execution_count": 29,
   "metadata": {},
   "outputs": [],
   "source": [
    "data['SITI'] = data['SITI'].cat.rename_categories({1: \"Vous exercez une activité professionnelle (actifs, apprentis, stagiaires)\"\n",
    "                                                   , 2 : \"Vous êtes chômeur ou chômeuse ayant déjà travaillé\"\n",
    "                                                   , 3 : \"Vous êtes à la retraite ou en pré-retraite\"\n",
    "                                                   , 4 : \"Vous êtes à la recherche d'un premier emploi\"\n",
    "                                                   , 5 : \"Vous êtes collégien(ne), lycéen(ne) ou étudiant(e)\"\n",
    "                                                   , 6 : \"Vous êtes homme ou femme au foyer\"\n",
    "                                                   , 7 : \"Vous êtes dans une autre situation (invalide, sans activité professionnelle...)\"})"
   ]
  },
  {
   "cell_type": "code",
   "execution_count": 30,
   "metadata": {},
   "outputs": [
    {
     "data": {
      "text/plain": [
       "PI0\n",
       "7     309\n",
       "5     250\n",
       "4     219\n",
       "6     200\n",
       "8     181\n",
       "3     160\n",
       "9      75\n",
       "2      62\n",
       "10     34\n",
       "1      12\n",
       "Name: count, dtype: int64"
      ]
     },
     "execution_count": 30,
     "metadata": {},
     "output_type": "execute_result"
    }
   ],
   "source": [
    "# Variable 'PI0'\n",
    "# Question : CSP\n",
    "data['PI0'].value_counts()"
   ]
  },
  {
   "cell_type": "code",
   "execution_count": 31,
   "metadata": {},
   "outputs": [],
   "source": [
    "data['PI0'] = data['PI0'].astype('category')"
   ]
  },
  {
   "cell_type": "code",
   "execution_count": 32,
   "metadata": {},
   "outputs": [],
   "source": [
    "data['PI0'] = data['PI0'].cat.rename_categories({1: \"Agriculteurs\"\n",
    "                                                   , 2 : \"Artisans\"\n",
    "                                                   , 3 : \"Cadres\"\n",
    "                                                   , 4 : \"Intermediaires\"\n",
    "                                                   , 5 : \"Employes\"\n",
    "                                                   , 6 : \"Ouvriers\"\n",
    "                                                   , 7 : \"Inactifs Anciens CSP Plus\"\n",
    "                                                   , 8 : \"Inactifs AnciensCSP Moins\"\n",
    "                                                   , 9 : \"Eleves Etudiants\"\n",
    "                                                   , 10 : \"Inactif Jamais Travaille\"})"
   ]
  },
  {
   "cell_type": "code",
   "execution_count": 33,
   "metadata": {},
   "outputs": [
    {
     "data": {
      "text/plain": [
       "PI0\n",
       "Inactifs Anciens CSP Plus    309\n",
       "Employes                     250\n",
       "Intermediaires               219\n",
       "Ouvriers                     200\n",
       "Inactifs AnciensCSP Moins    181\n",
       "Cadres                       160\n",
       "Eleves Etudiants              75\n",
       "Artisans                      62\n",
       "Inactif Jamais Travaille      34\n",
       "Agriculteurs                  12\n",
       "Name: count, dtype: int64"
      ]
     },
     "execution_count": 33,
     "metadata": {},
     "output_type": "execute_result"
    }
   ],
   "source": [
    "data['PI0'].value_counts()"
   ]
  },
  {
   "cell_type": "code",
   "execution_count": 34,
   "metadata": {},
   "outputs": [
    {
     "data": {
      "text/plain": [
       "STCC\n",
       "2.0    507\n",
       "4.0    168\n",
       "1.0    109\n",
       "5.0     73\n",
       "3.0     55\n",
       "Name: count, dtype: int64"
      ]
     },
     "execution_count": 34,
     "metadata": {},
     "output_type": "execute_result"
    }
   ],
   "source": [
    "# Variable 'STCC'\n",
    "# Question : Type de profession\n",
    "data['STCC'].value_counts()"
   ]
  },
  {
   "cell_type": "code",
   "execution_count": 35,
   "metadata": {},
   "outputs": [],
   "source": [
    "data['STCC'] = data['STCC'].astype('category')"
   ]
  },
  {
   "cell_type": "code",
   "execution_count": 36,
   "metadata": {},
   "outputs": [],
   "source": [
    "data['STCC'] = data['STCC'].cat.rename_categories({1: \"Chef Entreprise1\"\n",
    "                                                   , 2 : \"Salarie Entreprise Privee\"\n",
    "                                                   , 3 : \"Salarie Ent Public Secu1\"\n",
    "                                                   , 4 : \"Salarie Fonc Public1\"\n",
    "                                                   , 5 : \"Chomeur1\"})\n"
   ]
  },
  {
   "cell_type": "code",
   "execution_count": 37,
   "metadata": {},
   "outputs": [
    {
     "data": {
      "text/plain": [
       "DIPL1\n",
       "2    1328\n",
       "1     174\n",
       "Name: count, dtype: int64"
      ]
     },
     "execution_count": 37,
     "metadata": {},
     "output_type": "execute_result"
    }
   ],
   "source": [
    "# Variable 'DIPL1'\n",
    "# Question : Êtes-vous inscrit(e) dans un établissement d’enseignement pour l’année scolaire en cours ?  Y compris apprentissage ou études supérieures.\n",
    "data['DIPL1'].value_counts()"
   ]
  },
  {
   "cell_type": "code",
   "execution_count": 38,
   "metadata": {},
   "outputs": [],
   "source": [
    "data['DIPL1'] = data['DIPL1'].astype('category')"
   ]
  },
  {
   "cell_type": "code",
   "execution_count": 39,
   "metadata": {},
   "outputs": [],
   "source": [
    "data['DIPL1'] = data['DIPL1'].cat.rename_categories({1: \"Oui\"\n",
    "                                                   , 2 : \"Non\"})\n"
   ]
  },
  {
   "cell_type": "code",
   "execution_count": 40,
   "metadata": {},
   "outputs": [],
   "source": [
    "#changer l'order des categories de la variable 'DIPL1'\n",
    "data['DIPL1'] = pd.Categorical(data['DIPL1'], \n",
    "                            categories=['Non'\n",
    "                                        , 'Oui'], \n",
    "                            ordered=True)"
   ]
  },
  {
   "cell_type": "code",
   "execution_count": 41,
   "metadata": {},
   "outputs": [
    {
     "data": {
      "text/plain": [
       "DIPL2\n",
       "10    405\n",
       "11    293\n",
       "8     217\n",
       "9     173\n",
       "6     161\n",
       "7     117\n",
       "5      66\n",
       "2      25\n",
       "4      22\n",
       "3      19\n",
       "1       4\n",
       "Name: count, dtype: int64"
      ]
     },
     "execution_count": 41,
     "metadata": {},
     "output_type": "execute_result"
    }
   ],
   "source": [
    "# Variable 'DIPL2'\n",
    "# Question : À ce jour, le plus haut diplôme que vous possédez est… ?\n",
    "data['DIPL2'].value_counts()"
   ]
  },
  {
   "cell_type": "code",
   "execution_count": 42,
   "metadata": {},
   "outputs": [],
   "source": [
    "# définir une fonction pour recoder la variable 'DIPL2':\n",
    "def diplome(x):\n",
    "    if x < 4 or x == 4:\n",
    "        return \"Aucun diplôme, CEP\"\n",
    "    if x == 5 or x == 6 or x == 7:\n",
    "        return \"Avant Bac\"\n",
    "    if x == 9:\n",
    "        return \"Bac techno pro\"\n",
    "    if x == 8:\n",
    "        return \"Bac\"\n",
    "    if x == 10:\n",
    "        return \"Diplôme de 1 er cycle universitaire , licence,BTS, DUT, diplôme des professions sociales ou de la santé, d'infirmier\"\n",
    "    if x == 11:\n",
    "        return \"Diplôme de 2 e ou 3 e cycle universitaire (y compris médecine, pharmacie, dentaire), master, diplôme d’ingénieur\"\n",
    "   "
   ]
  },
  {
   "cell_type": "code",
   "execution_count": 43,
   "metadata": {},
   "outputs": [],
   "source": [
    "data['Diplome']= data['DIPL2'].apply(lambda x : diplome(x))"
   ]
  },
  {
   "cell_type": "code",
   "execution_count": 44,
   "metadata": {},
   "outputs": [
    {
     "data": {
      "text/plain": [
       "Diplome\n",
       "Diplôme de 1 er cycle universitaire , licence,BTS, DUT, diplôme des professions sociales ou de la santé, d'infirmier    405\n",
       "Avant Bac                                                                                                               344\n",
       "Diplôme de 2 e ou 3 e cycle universitaire (y compris médecine, pharmacie, dentaire), master, diplôme d’ingénieur        293\n",
       "Bac                                                                                                                     217\n",
       "Bac techno pro                                                                                                          173\n",
       "Aucun diplôme, CEP                                                                                                       70\n",
       "Name: count, dtype: int64"
      ]
     },
     "execution_count": 44,
     "metadata": {},
     "output_type": "execute_result"
    }
   ],
   "source": [
    "data['Diplome'].value_counts()"
   ]
  },
  {
   "cell_type": "code",
   "execution_count": 45,
   "metadata": {},
   "outputs": [],
   "source": [
    "#changer l'order des categories de la variable 'Diplome'\n",
    "data[\"Diplome\"] = pd.Categorical(data[\"Diplome\"], \n",
    "                            categories=[\"Aucun diplôme, CEP\", \"Avant Bac\" , \"Bac techno pro\", \"Bac\"\n",
    "                                        , \"Diplôme de 1 er cycle universitaire , licence,BTS, DUT, diplôme des professions sociales ou de la santé, d'infirmier\"\n",
    "                                       , \"Diplôme de 2 e ou 3 e cycle universitaire (y compris médecine, pharmacie, dentaire), master, diplôme d’ingénieur\"], \n",
    "                            ordered=True)"
   ]
  },
  {
   "cell_type": "code",
   "execution_count": 46,
   "metadata": {},
   "outputs": [
    {
     "data": {
      "text/plain": [
       "FOYER\n",
       "2    596\n",
       "1    339\n",
       "3    252\n",
       "4    233\n",
       "5     60\n",
       "6     13\n",
       "7      5\n",
       "9      3\n",
       "8      1\n",
       "Name: count, dtype: int64"
      ]
     },
     "execution_count": 46,
     "metadata": {},
     "output_type": "execute_result"
    }
   ],
   "source": [
    "# Variable 'FOYER'\n",
    "# Question : De combien de personnes se compose votre foyer y compris vous-même ?\n",
    "data['FOYER'].value_counts()"
   ]
  },
  {
   "cell_type": "code",
   "execution_count": 47,
   "metadata": {},
   "outputs": [],
   "source": [
    "# définir une fonction pour recoder la variable 'FOYER':\n",
    "def foyer(x):\n",
    "    if x == 1:\n",
    "        return \"1 personne\"\n",
    "    if x == 2:\n",
    "        return \"2 personnes\"\n",
    "    if x == 3:\n",
    "        return \"3 personnes\"\n",
    "    if x == 4:\n",
    "        return \"4 personnes\"\n",
    "    if x == 5:\n",
    "        return \"5 personnes\"\n",
    "    if x == 6:\n",
    "        return \"6 personnes\"\n",
    "    if x == 7:\n",
    "        return \"7 personnes\"\n",
    "    if x == 8:\n",
    "        return \"8 personnes\"\n",
    "    if x == 9:\n",
    "        return \"9 personnes et plus\""
   ]
  },
  {
   "cell_type": "code",
   "execution_count": 48,
   "metadata": {},
   "outputs": [],
   "source": [
    "data['FOYER']= data['FOYER'].apply(lambda x : foyer(x))"
   ]
  },
  {
   "cell_type": "code",
   "execution_count": 49,
   "metadata": {},
   "outputs": [
    {
     "data": {
      "text/plain": [
       "FOYER\n",
       "2 personnes            596\n",
       "1 personne             339\n",
       "3 personnes            252\n",
       "4 personnes            233\n",
       "5 personnes             60\n",
       "6 personnes             13\n",
       "7 personnes              5\n",
       "9 personnes et plus      3\n",
       "8 personnes              1\n",
       "Name: count, dtype: int64"
      ]
     },
     "execution_count": 49,
     "metadata": {},
     "output_type": "execute_result"
    }
   ],
   "source": [
    "data['FOYER'].value_counts()"
   ]
  },
  {
   "cell_type": "code",
   "execution_count": 50,
   "metadata": {},
   "outputs": [],
   "source": [
    "#changer l'order des categories de la variable 'FOYER'\n",
    "data[\"FOYER\"] = pd.Categorical(data[\"FOYER\"], \n",
    "                            categories=[\"1 personne\", \"2 personnes\" , \"3 personnes\", \"4 personnes\"\n",
    "                                        , \"5 personnes\" , \"6 personnes\", \"7 personnes\"\n",
    "                                       , \"8 personnes\", \"9 personnes et plus\"], \n",
    "                            ordered=True)"
   ]
  },
  {
   "cell_type": "code",
   "execution_count": 51,
   "metadata": {},
   "outputs": [
    {
     "data": {
      "text/plain": [
       "REV\n",
       "4    338\n",
       "5    295\n",
       "6    213\n",
       "3    205\n",
       "7    175\n",
       "2    167\n",
       "1    109\n",
       "Name: count, dtype: int64"
      ]
     },
     "execution_count": 51,
     "metadata": {},
     "output_type": "execute_result"
    }
   ],
   "source": [
    "# Variable 'REV'\n",
    "# Question : En prenant en compte tous les types de revenus que touchent les membres de votre foyer, quel est actuellement le montant mensuel net des ressources de l’ensemble de votre ménage ?\n",
    "data['REV'].value_counts()"
   ]
  },
  {
   "cell_type": "code",
   "execution_count": 52,
   "metadata": {},
   "outputs": [],
   "source": [
    "# définir une fonction pour recoder la variable 'REV':\n",
    "def revenu(x):\n",
    "    if x == 1:\n",
    "        return \"Moins de 1 000 €\"\n",
    "    if x == 2:\n",
    "        return \"De 1 000 à moins de 1 500 €\"\n",
    "    if x == 3:\n",
    "        return \"De 1 500 à moins de 2 000 €\"\n",
    "    if x == 4:\n",
    "        return \"De 2 000 à moins de 3 000 €\"\n",
    "    if x == 5:\n",
    "        return \"De 3 000 à moins de 4 000 €\"\n",
    "    if x == 6:\n",
    "        return \"4 000 € et plus\"\n",
    "    if x == 7:\n",
    "        return \"Vous ne souhaitez pas répondre\"\n",
    "   "
   ]
  },
  {
   "cell_type": "code",
   "execution_count": 53,
   "metadata": {},
   "outputs": [],
   "source": [
    "data['REV']= data['REV'].apply(lambda x : revenu(x))"
   ]
  },
  {
   "cell_type": "code",
   "execution_count": 54,
   "metadata": {},
   "outputs": [
    {
     "data": {
      "text/plain": [
       "REV\n",
       "De 2 000 à moins de 3 000 €       338\n",
       "De 3 000 à moins de 4 000 €       295\n",
       "4 000 € et plus                   213\n",
       "De 1 500 à moins de 2 000 €       205\n",
       "Vous ne souhaitez pas répondre    175\n",
       "De 1 000 à moins de 1 500 €       167\n",
       "Moins de 1 000 €                  109\n",
       "Name: count, dtype: int64"
      ]
     },
     "execution_count": 54,
     "metadata": {},
     "output_type": "execute_result"
    }
   ],
   "source": [
    "data['REV'].value_counts()"
   ]
  },
  {
   "cell_type": "code",
   "execution_count": 55,
   "metadata": {},
   "outputs": [],
   "source": [
    "#changer l'order des categories de la variable'REV'\n",
    "data['REV'] = pd.Categorical(data['REV'], \n",
    "                            categories=['Moins de 1 000 €', 'De 1 000 à moins de 1 500 €' ,'De 1 500 à moins de 2 000 €'\n",
    "                                        ,'De 2 000 à moins de 3 000 €', 'De 3 000 à moins de 4 000 €'\n",
    "                                       , '4 000 € et plus', 'Vous ne souhaitez pas répondre'], \n",
    "                            ordered=True)"
   ]
  },
  {
   "cell_type": "code",
   "execution_count": 56,
   "metadata": {},
   "outputs": [
    {
     "data": {
      "text/plain": [
       "PROX\n",
       "23    579\n",
       "20    199\n",
       "10    136\n",
       "3      90\n",
       "16     89\n",
       "6      87\n",
       "8      60\n",
       "21     38\n",
       "4      32\n",
       "11     27\n",
       "1      24\n",
       "9      19\n",
       "17     18\n",
       "2      17\n",
       "5      17\n",
       "13     17\n",
       "22     16\n",
       "15     10\n",
       "12      9\n",
       "19      8\n",
       "14      4\n",
       "7       3\n",
       "18      3\n",
       "Name: count, dtype: int64"
      ]
     },
     "execution_count": 56,
     "metadata": {},
     "output_type": "execute_result"
    }
   ],
   "source": [
    "# Variable 'PROX'\n",
    "# Question : De laquelle des formations politiques suivantes vous sentez-vous le plus proche ou disons le moins éloigné(e) ?\n",
    "data['PROX'].value_counts()"
   ]
  },
  {
   "cell_type": "code",
   "execution_count": 57,
   "metadata": {},
   "outputs": [],
   "source": [
    "# définir une fonction pour recoder la variable 'PROX':\n",
    "def PROX_noms(x):\n",
    "    if x == 1:\n",
    "        return \"Lutte ouvrière (LO)\"\n",
    "    if x == 2:\n",
    "        return \"Le Nouveau Parti anticapitaliste (NPA)\"\n",
    "    if x == 3:\n",
    "        return \"La France insoumise (LFI)\"\n",
    "    if x == 4:\n",
    "        return \"Le Parti communiste français (PCF)\"\n",
    "    if x == 5:\n",
    "        return \"Génération.s (G·s) de Benoît Hamon\"\n",
    "    if x == 6:\n",
    "        return \"Le Parti socialiste (PS)\"\n",
    "    if x == 7:\n",
    "        return \"Le Parti radical de gauche (PRG)\"\n",
    "    if x == 8:\n",
    "        return \"Europe Écologie Les Verts (EÉLV)\"\n",
    "    if x == 9:\n",
    "        return \"Le Parti animaliste (PA)\"\n",
    "    if x == 10:\n",
    "        return \"Renaissance (anciennement La République en marche)\"\n",
    "    if x == 11:\n",
    "        return \"Le Mouvement démocrate (MoDem)\"\n",
    "    if x == 12:\n",
    "        return \"Agir\"\n",
    "    if x == 13:\n",
    "        return \"Horizons d’Édouard Philippe\"\n",
    "    if x == 14:\n",
    "        return \"Les Centristes (LC)\"\n",
    "    if x == 15:\n",
    "        return \"L’Union des démocrates et indépendants (UDI)\"\n",
    "    if x == 16:\n",
    "        return \"Les Républicains (LR)\"\n",
    "    if x == 17:\n",
    "        return \"Debout la France (DLF)\"\n",
    "    if x == 18:\n",
    "        return \"L’Union populaire républicaine (UPR)\"\n",
    "    if x == 19:\n",
    "        return \"Les Patriotes (LP) de Florian Philippot\"\n",
    "    if x == 20:\n",
    "        return \"Le Rassemblement national (RN)\"\n",
    "    if x == 21:\n",
    "        return \"Reconquête ! d’Éric Zemmour\"\n",
    "    if x == 22:\n",
    "        return \"Une autre formation politique\"\n",
    "    if x == 23:\n",
    "        return \"Aucune formation politique\""
   ]
  },
  {
   "cell_type": "code",
   "execution_count": 58,
   "metadata": {},
   "outputs": [
    {
     "data": {
      "text/plain": [
       "PROX_nom\n",
       "Aucune formation politique                            579\n",
       "Le Rassemblement national (RN)                        199\n",
       "Renaissance (anciennement La République en marche)    136\n",
       "La France insoumise (LFI)                              90\n",
       "Les Républicains (LR)                                  89\n",
       "Le Parti socialiste (PS)                               87\n",
       "Europe Écologie Les Verts (EÉLV)                       60\n",
       "Reconquête ! d’Éric Zemmour                            38\n",
       "Le Parti communiste français (PCF)                     32\n",
       "Le Mouvement démocrate (MoDem)                         27\n",
       "Lutte ouvrière (LO)                                    24\n",
       "Le Parti animaliste (PA)                               19\n",
       "Debout la France (DLF)                                 18\n",
       "Le Nouveau Parti anticapitaliste (NPA)                 17\n",
       "Génération.s (G·s) de Benoît Hamon                     17\n",
       "Horizons d’Édouard Philippe                            17\n",
       "Une autre formation politique                          16\n",
       "L’Union des démocrates et indépendants (UDI)           10\n",
       "Agir                                                    9\n",
       "Les Patriotes (LP) de Florian Philippot                 8\n",
       "Les Centristes (LC)                                     4\n",
       "Le Parti radical de gauche (PRG)                        3\n",
       "L’Union populaire républicaine (UPR)                    3\n",
       "Name: count, dtype: int64"
      ]
     },
     "execution_count": 58,
     "metadata": {},
     "output_type": "execute_result"
    }
   ],
   "source": [
    "data['PROX_nom']= data['PROX'].apply(lambda x : PROX_noms(x))\n",
    "data['PROX_nom'].value_counts()"
   ]
  },
  {
   "cell_type": "code",
   "execution_count": 59,
   "metadata": {},
   "outputs": [],
   "source": [
    "# définir une fonction pour recoder la variable 'PROX':\n",
    "def PROX_categories(x):\n",
    "    if x < 4 or x == 4:\n",
    "        return \"Gauche radicale\"\n",
    "    if x == 5 or x == 6 or x == 7:\n",
    "        return \"Gauche\"\n",
    "    if x == 8:\n",
    "        return \"Verts\"\n",
    "    if x == 9:\n",
    "        return \"Animaliste\"\n",
    "    if x == 10 or x == 11:\n",
    "        return \"Centre\"\n",
    "    if x == 14 or x == 15:\n",
    "        return \"Centre\"\n",
    "    if x == 12 or x == 13 or x == 16:\n",
    "        return \"Droite\"\n",
    "    if x == 17 or x == 18 or x == 19:\n",
    "        return \"Droite radicale\"\n",
    "    if x == 20 or x == 21:\n",
    "        return \"Droite radicale\"\n",
    "    if x == 22:\n",
    "        return \"Autre\"\n",
    "    if x == 23:\n",
    "        return \"Aucune\""
   ]
  },
  {
   "cell_type": "code",
   "execution_count": 60,
   "metadata": {},
   "outputs": [
    {
     "data": {
      "text/plain": [
       "PROX_cat\n",
       "Aucune             579\n",
       "Droite radicale    266\n",
       "Centre             177\n",
       "Gauche radicale    163\n",
       "Droite             115\n",
       "Gauche             107\n",
       "Verts               60\n",
       "Animaliste          19\n",
       "Autre               16\n",
       "Name: count, dtype: int64"
      ]
     },
     "execution_count": 60,
     "metadata": {},
     "output_type": "execute_result"
    }
   ],
   "source": [
    "data['PROX_cat']= data['PROX'].apply(lambda x : PROX_categories(x))\n",
    "data['PROX_cat'].value_counts()"
   ]
  },
  {
   "cell_type": "code",
   "execution_count": 61,
   "metadata": {},
   "outputs": [
    {
     "data": {
      "text/plain": [
       "RS11\n",
       "Ni trop, ni pas assez de place    760\n",
       "Pas assez de place                639\n",
       "Trop de place                     103\n",
       "Name: count, dtype: int64"
      ]
     },
     "execution_count": 61,
     "metadata": {},
     "output_type": "execute_result"
    }
   ],
   "source": [
    "# Variable 'RS11'\n",
    "# Question :  Pensez-vous que dans les grands débats de société actuels, la science a… ?\n",
    "data['RS11'].value_counts()"
   ]
  },
  {
   "cell_type": "code",
   "execution_count": 62,
   "metadata": {},
   "outputs": [
    {
     "data": {
      "text/plain": [
       "Q2_1\n",
       "1    851\n",
       "2    348\n",
       "4    171\n",
       "3    132\n",
       "Name: count, dtype: int64"
      ]
     },
     "execution_count": 62,
     "metadata": {},
     "output_type": "execute_result"
    }
   ],
   "source": [
    "# Variable 'Q2_1'\n",
    "# Question : Pour chacun des termes ou groupes suivants, diriez-vous qu’il est concerné ou traversé par des formes d’obscurantisme ?  Une réponse par ligne. Les sectes\n",
    "data['Q2_1'].value_counts()"
   ]
  },
  {
   "cell_type": "code",
   "execution_count": 63,
   "metadata": {},
   "outputs": [
    {
     "data": {
      "text/plain": [
       "Q2_2\n",
       "3    546\n",
       "2    487\n",
       "4    275\n",
       "1    194\n",
       "Name: count, dtype: int64"
      ]
     },
     "execution_count": 63,
     "metadata": {},
     "output_type": "execute_result"
    }
   ],
   "source": [
    "# Variable 'Q2_2'\n",
    "# Question : Pour chacun des termes ou groupes suivants, diriez-vous qu’il est concerné ou traversé par des formes d’obscurantisme ?  Une réponse par ligne. Le Christianisme\n",
    "data['Q2_2'].value_counts()"
   ]
  },
  {
   "cell_type": "code",
   "execution_count": 64,
   "metadata": {},
   "outputs": [
    {
     "data": {
      "text/plain": [
       "Q2_3\n",
       "3    577\n",
       "2    469\n",
       "4    276\n",
       "1    180\n",
       "Name: count, dtype: int64"
      ]
     },
     "execution_count": 64,
     "metadata": {},
     "output_type": "execute_result"
    }
   ],
   "source": [
    "# Variable 'Q2_3'\n",
    "# Question : Pour chacun des termes ou groupes suivants, diriez-vous qu’il est concerné ou traversé par des formes d’obscurantisme ?  Une réponse par ligne. Le Judaïsme\n",
    "data['Q2_3'].value_counts()"
   ]
  },
  {
   "cell_type": "code",
   "execution_count": 65,
   "metadata": {},
   "outputs": [
    {
     "data": {
      "text/plain": [
       "Q2_4\n",
       "2    493\n",
       "1    477\n",
       "3    307\n",
       "4    225\n",
       "Name: count, dtype: int64"
      ]
     },
     "execution_count": 65,
     "metadata": {},
     "output_type": "execute_result"
    }
   ],
   "source": [
    "# Variable 'Q2_4'\n",
    "# Question : Pour chacun des termes ou groupes suivants, diriez-vous qu’il est concerné ou traversé par des formes d’obscurantisme ?  Une réponse par ligne. L’Islam\n",
    "data['Q2_4'].value_counts()"
   ]
  },
  {
   "cell_type": "code",
   "execution_count": 66,
   "metadata": {},
   "outputs": [
    {
     "data": {
      "text/plain": [
       "Q2_5\n",
       "3    702\n",
       "4    385\n",
       "2    311\n",
       "1    104\n",
       "Name: count, dtype: int64"
      ]
     },
     "execution_count": 66,
     "metadata": {},
     "output_type": "execute_result"
    }
   ],
   "source": [
    "# Variable 'Q2_5'\n",
    "# Question : Pour chacun des termes ou groupes suivants, diriez-vous qu’il est concerné ou traversé par des formes d’obscurantisme ?  Une réponse par ligne. Le Bouddhisme\n",
    "data['Q2_5'].value_counts()"
   ]
  },
  {
   "cell_type": "code",
   "execution_count": 67,
   "metadata": {},
   "outputs": [
    {
     "data": {
      "text/plain": [
       "Q2_6\n",
       "2    582\n",
       "3    455\n",
       "1    274\n",
       "4    191\n",
       "Name: count, dtype: int64"
      ]
     },
     "execution_count": 67,
     "metadata": {},
     "output_type": "execute_result"
    }
   ],
   "source": [
    "# Variable 'Q2_6'\n",
    "# Question : Pour chacun des termes ou groupes suivants, diriez-vous qu’il est concerné ou traversé par des formes d’obscurantisme ?  Une réponse par ligne. Les religions en général\n",
    "data['Q2_6'].value_counts()"
   ]
  },
  {
   "cell_type": "code",
   "execution_count": 68,
   "metadata": {},
   "outputs": [
    {
     "data": {
      "text/plain": [
       "Q2_7\n",
       "2    528\n",
       "3    394\n",
       "1    357\n",
       "4    223\n",
       "Name: count, dtype: int64"
      ]
     },
     "execution_count": 68,
     "metadata": {},
     "output_type": "execute_result"
    }
   ],
   "source": [
    "# Variable 'Q2_7'\n",
    "# Question :  Pour chacun des termes ou groupes suivants, diriez-vous qu’il est concerné ou traversé par des formes d’obscurantisme ?  Une réponse par ligne. Les mouvements d’ultra gauche\n",
    "data['Q2_7'].value_counts()"
   ]
  },
  {
   "cell_type": "code",
   "execution_count": 69,
   "metadata": {},
   "outputs": [
    {
     "data": {
      "text/plain": [
       "Q2_8\n",
       "2    521\n",
       "1    457\n",
       "3    323\n",
       "4    201\n",
       "Name: count, dtype: int64"
      ]
     },
     "execution_count": 69,
     "metadata": {},
     "output_type": "execute_result"
    }
   ],
   "source": [
    "# Variable 'Q2_8'\n",
    "# Question : Pour chacun des termes ou groupes suivants, diriez-vous qu’il est concerné ou traversé par des formes d’obscurantisme ?  Une réponse par ligne. Les mouvements d’ultra droite\n",
    "data['Q2_8'].value_counts()"
   ]
  },
  {
   "cell_type": "code",
   "execution_count": 70,
   "metadata": {},
   "outputs": [
    {
     "data": {
      "text/plain": [
       "Q2_9\n",
       "1    612\n",
       "2    510\n",
       "3    193\n",
       "4    187\n",
       "Name: count, dtype: int64"
      ]
     },
     "execution_count": 70,
     "metadata": {},
     "output_type": "execute_result"
    }
   ],
   "source": [
    "# Variable 'Q2_9'\n",
    "# Question : Pour chacun des termes ou groupes suivants, diriez-vous qu’il est concerné ou traversé par des formes d’obscurantisme ?  Une réponse par ligne. Les mouvements complotistes\n",
    "data['Q2_9'].value_counts()"
   ]
  },
  {
   "cell_type": "code",
   "execution_count": 71,
   "metadata": {},
   "outputs": [
    {
     "data": {
      "text/plain": [
       "Q2_10\n",
       "3    597\n",
       "2    482\n",
       "4    261\n",
       "1    162\n",
       "Name: count, dtype: int64"
      ]
     },
     "execution_count": 71,
     "metadata": {},
     "output_type": "execute_result"
    }
   ],
   "source": [
    "# Variable 'Q2_10'\n",
    "# Question : Pour chacun des termes ou groupes suivants, diriez-vous qu’il est concerné ou traversé par des formes d’obscurantisme ?  Une réponse par ligne. Les médecines alternatives\n",
    "data['Q2_10'].value_counts()"
   ]
  },
  {
   "cell_type": "code",
   "execution_count": 72,
   "metadata": {},
   "outputs": [
    {
     "data": {
      "text/plain": [
       "Q2_11\n",
       "2    534\n",
       "3    527\n",
       "4    237\n",
       "1    204\n",
       "Name: count, dtype: int64"
      ]
     },
     "execution_count": 72,
     "metadata": {},
     "output_type": "execute_result"
    }
   ],
   "source": [
    "# Variable 'Q2_11'\n",
    "# Question : Pour chacun des termes ou groupes suivants, diriez-vous qu’il est concerné ou traversé par des formes d’obscurantisme ?  Une réponse par ligne. Les mouvements néo-féministes\n",
    "data['Q2_11'].value_counts()"
   ]
  },
  {
   "cell_type": "code",
   "execution_count": 73,
   "metadata": {},
   "outputs": [
    {
     "data": {
      "text/plain": [
       "Q2_12\n",
       "2    469\n",
       "3    457\n",
       "1    319\n",
       "4    257\n",
       "Name: count, dtype: int64"
      ]
     },
     "execution_count": 73,
     "metadata": {},
     "output_type": "execute_result"
    }
   ],
   "source": [
    "# Variable 'Q2_12'\n",
    "# Question : Pour chacun des termes ou groupes suivants, diriez-vous qu’il est concerné ou traversé par des formes d’obscurantisme ?  Une réponse par ligne. Le wokisme\n",
    "data['Q2_12'].value_counts()"
   ]
  },
  {
   "cell_type": "code",
   "execution_count": 74,
   "metadata": {},
   "outputs": [
    {
     "data": {
      "text/plain": [
       "Q2_13\n",
       "2    558\n",
       "3    423\n",
       "1    314\n",
       "4    207\n",
       "Name: count, dtype: int64"
      ]
     },
     "execution_count": 74,
     "metadata": {},
     "output_type": "execute_result"
    }
   ],
   "source": [
    "# Variable 'Q2_13'\n",
    "# Question :  Pour chacun des termes ou groupes suivants, diriez-vous qu’il est concerné ou traversé par des formes d’obscurantisme ?  Une réponse par ligne. Le survivalisme\n",
    "data['Q2_13'].value_counts()"
   ]
  },
  {
   "cell_type": "code",
   "execution_count": 75,
   "metadata": {},
   "outputs": [],
   "source": [
    "data[['Q2_1', 'Q2_2', 'Q2_3', 'Q2_4', 'Q2_5', 'Q2_6', 'Q2_7', 'Q2_8', 'Q2_9', 'Q2_10', 'Q2_11', 'Q2_12', 'Q2_13']] = data[['Q2_1', 'Q2_2', 'Q2_3', 'Q2_4', 'Q2_5', 'Q2_6', 'Q2_7', 'Q2_8', 'Q2_9', 'Q2_10', 'Q2_11', 'Q2_12', 'Q2_13']].astype('category')"
   ]
  },
  {
   "cell_type": "code",
   "execution_count": 76,
   "metadata": {},
   "outputs": [],
   "source": [
    "ItemsQ2 = ['Q2_1', 'Q2_2', 'Q2_3', 'Q2_4', 'Q2_5', 'Q2_6', 'Q2_7', 'Q2_8', 'Q2_9', 'Q2_10', 'Q2_11', 'Q2_12', 'Q2_13']"
   ]
  },
  {
   "cell_type": "code",
   "execution_count": 77,
   "metadata": {},
   "outputs": [],
   "source": [
    "for i in data[ItemsQ2].columns:\n",
    "    data[i] = data[i].cat.rename_categories({1: \"Oui, tout à fait\"\n",
    "                                                 , 2 : \"Oui, plutôt\"\n",
    "                                                 , 3 : \"Non, plutôt pas\"\n",
    "                                                 , 4 : \"Non, pas du tout\"})"
   ]
  },
  {
   "cell_type": "code",
   "execution_count": 78,
   "metadata": {},
   "outputs": [],
   "source": [
    "#changer l'order des categories\n",
    "for i in data[ItemsQ2].columns:\n",
    "    data[i] = pd.Categorical(data[i], \n",
    "                            categories=['Non, pas du tout'\n",
    "                                        , 'Non, plutôt pas'\n",
    "                                        , 'Oui, plutôt'\n",
    "                                       , 'Oui, tout à fait'], \n",
    "                            ordered=True)"
   ]
  },
  {
   "cell_type": "code",
   "execution_count": 79,
   "metadata": {},
   "outputs": [
    {
     "data": {
      "text/plain": [
       "Q3A\n",
       "6    299\n",
       "1    271\n",
       "3    244\n",
       "7    204\n",
       "4    199\n",
       "2    149\n",
       "5    136\n",
       "Name: count, dtype: int64"
      ]
     },
     "execution_count": 79,
     "metadata": {},
     "output_type": "execute_result"
    }
   ],
   "source": [
    "# Variable 'Q3A'\n",
    "# Question : Quel mot parmi les suivants se rapproche selon vous le plus de l’obscurantisme ? En premier ?\n",
    "data['Q3A'].value_counts()"
   ]
  },
  {
   "cell_type": "code",
   "execution_count": 80,
   "metadata": {},
   "outputs": [
    {
     "data": {
      "text/plain": [
       "Q3B\n",
       "1    270\n",
       "7    249\n",
       "4    247\n",
       "3    245\n",
       "2    189\n",
       "6    166\n",
       "5    136\n",
       "Name: count, dtype: int64"
      ]
     },
     "execution_count": 80,
     "metadata": {},
     "output_type": "execute_result"
    }
   ],
   "source": [
    "# Variable 'Q3B'\n",
    "# Question : Quel mot parmi les suivants se rapproche selon vous le plus de l’obscurantisme ? En deuxième ?\n",
    "data['Q3B'].value_counts()"
   ]
  },
  {
   "cell_type": "code",
   "execution_count": 81,
   "metadata": {},
   "outputs": [
    {
     "data": {
      "text/plain": [
       "Q3C\n",
       "1    283\n",
       "7    258\n",
       "3    258\n",
       "4    235\n",
       "2    202\n",
       "6    138\n",
       "5    128\n",
       "Name: count, dtype: int64"
      ]
     },
     "execution_count": 81,
     "metadata": {},
     "output_type": "execute_result"
    }
   ],
   "source": [
    "# Variable 'Q3C'\n",
    "# Question : Quel mot parmi les suivants se rapproche selon vous le plus de l’obscurantisme ? Et en troisième ?\n",
    "data['Q3C'].value_counts()"
   ]
  },
  {
   "cell_type": "code",
   "execution_count": 82,
   "metadata": {},
   "outputs": [],
   "source": [
    "data[['Q3A', 'Q3B', 'Q3C']] = data[['Q3A', 'Q3B', 'Q3C']].astype('category')"
   ]
  },
  {
   "cell_type": "code",
   "execution_count": 83,
   "metadata": {},
   "outputs": [],
   "source": [
    "ItemsQ3 = ['Q3A', 'Q3B', 'Q3C']"
   ]
  },
  {
   "cell_type": "code",
   "execution_count": 84,
   "metadata": {},
   "outputs": [],
   "source": [
    "for i in data[ItemsQ3].columns:\n",
    "    data[i] = data[i].cat.rename_categories({1: \"Le fanatisme\"\n",
    "                                                 , 2 : \"Le terrorisme\"\n",
    "                                                 , 3 : \"Les sectes\"\n",
    "                                                 , 4 : \"Le complotisme\"\n",
    "                                                 , 5 : \"Les religions\"\n",
    "                                                 , 6 : \"La remise en cause de la science\"\n",
    "                                                 , 7 : \"La radicalisation\"})"
   ]
  },
  {
   "cell_type": "code",
   "execution_count": 85,
   "metadata": {},
   "outputs": [],
   "source": [
    "# creer une colonne de placement des sectes en 2 groupes:\n",
    "# définir une fonction pour recoder la variable 'Q3A':\n",
    "def placement_sctes_1(x):\n",
    "    if x == \"Les sectes\" :\n",
    "        return \"Les sectes en premier\"\n",
    "    if x != \"Les sectes\":\n",
    "        return \"Les sectes pas en premier\"\n",
    "   "
   ]
  },
  {
   "cell_type": "code",
   "execution_count": 86,
   "metadata": {},
   "outputs": [],
   "source": [
    "data['Sectes_premier']= data['Q3A'].apply(lambda x : placement_sctes_1(x))"
   ]
  },
  {
   "cell_type": "code",
   "execution_count": 87,
   "metadata": {},
   "outputs": [
    {
     "data": {
      "text/plain": [
       "Sectes_premier\n",
       "Les sectes pas en premier    1258\n",
       "Les sectes en premier         244\n",
       "Name: count, dtype: int64"
      ]
     },
     "execution_count": 87,
     "metadata": {},
     "output_type": "execute_result"
    }
   ],
   "source": [
    "data['Sectes_premier'].value_counts()"
   ]
  },
  {
   "cell_type": "code",
   "execution_count": 88,
   "metadata": {},
   "outputs": [],
   "source": [
    "#changer l'order des categories de la variable 'Sectes_premier'\n",
    "data['Sectes_premier'] = pd.Categorical(data['Sectes_premier'], \n",
    "                            categories=['Les sectes pas en premier'\n",
    "                                        , 'Les sectes en premier'], \n",
    "                            ordered=True)"
   ]
  },
  {
   "cell_type": "code",
   "execution_count": 89,
   "metadata": {},
   "outputs": [],
   "source": [
    "# creer une colonne de placement des sectes en 4 groupes:\n",
    "# List of conditions\n",
    "conditions = [\n",
    "     (data['Q3A'] == 'Les sectes') & (data['Q3B'] != 'Les sectes') & \n",
    "     (data['Q3C'] != 'Les sectes')\n",
    "    ,(data['Q3A'] != 'Les sectes') & (data['Q3B'] == 'Les sectes') &\n",
    "     (data['Q3C'] != 'Les sectes') \n",
    "    ,(data['Q3A'] != 'Les sectes') & (data['Q3B'] != 'Les sectes') &\n",
    "     (data['Q3C'] == 'Les sectes')\n",
    "    ,(data['Q3A'] != 'Les sectes') & (data['Q3B'] != 'Les sectes') &\n",
    "     (data['Q3C'] != 'Les sectes') \n",
    "   \n",
    "]# List of values to return\n",
    "choices  = [\n",
    "      \"Première place\" \n",
    "    , \"Deuxième place\"\n",
    "    , \"Troisième place\"\n",
    "    , \"Pas dans les 3 premières\"\n",
    "]# create a new column in the data based on the conditions\n",
    "data[\"Sectes_obscurantisme_placement\"] = np.select(conditions, choices)"
   ]
  },
  {
   "cell_type": "code",
   "execution_count": 90,
   "metadata": {},
   "outputs": [],
   "source": [
    "#changer l'order des categories de la variable 'Sectes_obscurantisme_placement'\n",
    "data['Sectes_obscurantisme_placement'] = pd.Categorical(data['Sectes_obscurantisme_placement'], \n",
    "                            categories=['Pas dans les 3 premières', 'Première place', 'Deuxième place'\n",
    "                                        , 'Troisième place'], \n",
    "                            ordered=True)"
   ]
  },
  {
   "cell_type": "code",
   "execution_count": 91,
   "metadata": {},
   "outputs": [
    {
     "data": {
      "text/plain": [
       "Sectes_obscurantisme_placement\n",
       "Pas dans les 3 premières    755\n",
       "Troisième place             258\n",
       "Deuxième place              245\n",
       "Première place              244\n",
       "Name: count, dtype: int64"
      ]
     },
     "execution_count": 91,
     "metadata": {},
     "output_type": "execute_result"
    }
   ],
   "source": [
    "data['Sectes_obscurantisme_placement'].value_counts()"
   ]
  },
  {
   "cell_type": "code",
   "execution_count": 92,
   "metadata": {},
   "outputs": [],
   "source": [
    "# creer une colonne de placement du complotisme en 2 groupes:\n",
    "# définir une fonction pour recoder la variable 'Q3A':\n",
    "def placement_complotisme_1(x):\n",
    "    if x == \"Le complotisme\" :\n",
    "        return \"Le complotisme en premier\"\n",
    "    if x != \"Le complotisme\":\n",
    "        return \"Le complotisme pas en premier\"\n",
    "   "
   ]
  },
  {
   "cell_type": "code",
   "execution_count": 93,
   "metadata": {},
   "outputs": [],
   "source": [
    "data['Complotisme_premier']= data['Q3A'].apply(lambda x : placement_complotisme_1(x))"
   ]
  },
  {
   "cell_type": "code",
   "execution_count": 94,
   "metadata": {},
   "outputs": [],
   "source": [
    "#changer l'order des categories de la variable 'Sectes_premier'\n",
    "data['Complotisme_premier'] = pd.Categorical(data['Complotisme_premier'], \n",
    "                            categories=['Le complotisme pas en premier'\n",
    "                                        , 'Le complotisme en premier'], \n",
    "                            ordered=True)"
   ]
  },
  {
   "cell_type": "code",
   "execution_count": 95,
   "metadata": {},
   "outputs": [
    {
     "data": {
      "text/plain": [
       "Complotisme_premier\n",
       "Le complotisme pas en premier    1303\n",
       "Le complotisme en premier         199\n",
       "Name: count, dtype: int64"
      ]
     },
     "execution_count": 95,
     "metadata": {},
     "output_type": "execute_result"
    }
   ],
   "source": [
    "data['Complotisme_premier'].value_counts()"
   ]
  },
  {
   "cell_type": "code",
   "execution_count": 96,
   "metadata": {},
   "outputs": [],
   "source": [
    "# creer une colonne de placement du complotisme en 4 groupes:\n",
    "# List of conditions\n",
    "conditions = [\n",
    "     (data['Q3A'] == 'Le complotisme') & (data['Q3B'] != 'Le complotisme') & \n",
    "     (data['Q3C'] != 'Le complotisme')\n",
    "    ,(data['Q3A'] != 'Le complotisme') & (data['Q3B'] == 'Le complotisme') &\n",
    "     (data['Q3C'] != 'Le complotisme') \n",
    "    ,(data['Q3A'] != 'Le complotisme') & (data['Q3B'] != 'Le complotisme') &\n",
    "     (data['Q3C'] == 'Le complotisme')\n",
    "    ,(data['Q3A'] != 'Le complotisme') & (data['Q3B'] != 'Le complotisme') &\n",
    "     (data['Q3C'] != 'Le complotisme') \n",
    "   \n",
    "]# List of values to return\n",
    "choices  = [\n",
    "      \"Première place\" \n",
    "    , \"Deuxième place\"\n",
    "    , \"Troisième place\"\n",
    "    , \"Pas dans les 3 premières\"\n",
    "]# create a new column in the data based on the conditions\n",
    "data[\"Complotisme_obscurantisme_placement\"] = np.select(conditions, choices)"
   ]
  },
  {
   "cell_type": "code",
   "execution_count": 97,
   "metadata": {},
   "outputs": [],
   "source": [
    "#changer l'order des categories de la variable 'Complotisme_obscurantisme_placement'\n",
    "data['Complotisme_obscurantisme_placement'] = pd.Categorical(data['Complotisme_obscurantisme_placement'], \n",
    "                            categories=['Pas dans les 3 premières', 'Première place', 'Deuxième place'\n",
    "                                        , 'Troisième place'], \n",
    "                            ordered=True)"
   ]
  },
  {
   "cell_type": "code",
   "execution_count": 98,
   "metadata": {},
   "outputs": [
    {
     "data": {
      "text/plain": [
       "Complotisme_obscurantisme_placement\n",
       "Pas dans les 3 premières    821\n",
       "Deuxième place              247\n",
       "Troisième place             235\n",
       "Première place              199\n",
       "Name: count, dtype: int64"
      ]
     },
     "execution_count": 98,
     "metadata": {},
     "output_type": "execute_result"
    }
   ],
   "source": [
    "data['Complotisme_obscurantisme_placement'].value_counts()"
   ]
  },
  {
   "cell_type": "code",
   "execution_count": 99,
   "metadata": {},
   "outputs": [],
   "source": [
    "# creer une colonne de placement des religions en 2 groupes:\n",
    "# définir une fonction pour recoder la variable 'Q3A':\n",
    "def placement_religions_1(x):\n",
    "    if x == \"Les religions\" :\n",
    "        return \"Les religions en premier\"\n",
    "    if x != \"Les religions\":\n",
    "        return \"Les religions pas en premier\""
   ]
  },
  {
   "cell_type": "code",
   "execution_count": 100,
   "metadata": {},
   "outputs": [],
   "source": [
    "data['Religions_premier']= data['Q3A'].apply(lambda x : placement_religions_1(x))"
   ]
  },
  {
   "cell_type": "code",
   "execution_count": 101,
   "metadata": {},
   "outputs": [],
   "source": [
    "#changer l'order des categories de la variable 'Religions_premier'\n",
    "data['Religions_premier'] = pd.Categorical(data['Religions_premier'], \n",
    "                            categories=['Les religions pas en premier'\n",
    "                                        , 'Les religions en premier'], \n",
    "                            ordered=True)"
   ]
  },
  {
   "cell_type": "code",
   "execution_count": 102,
   "metadata": {},
   "outputs": [
    {
     "data": {
      "text/plain": [
       "Religions_premier\n",
       "Les religions pas en premier    1366\n",
       "Les religions en premier         136\n",
       "Name: count, dtype: int64"
      ]
     },
     "execution_count": 102,
     "metadata": {},
     "output_type": "execute_result"
    }
   ],
   "source": [
    "data['Religions_premier'].value_counts()"
   ]
  },
  {
   "cell_type": "code",
   "execution_count": 103,
   "metadata": {},
   "outputs": [],
   "source": [
    "# creer une colonne de placement des religions en 4 groupes:\n",
    "# List of conditions\n",
    "conditions = [\n",
    "     (data['Q3A'] == 'Les religions') & (data['Q3B'] != 'Les religions') & \n",
    "     (data['Q3C'] != 'Les religions')\n",
    "    ,(data['Q3A'] != 'Les religions') & (data['Q3B'] == 'Les religions') &\n",
    "     (data['Q3C'] != 'Les religions') \n",
    "    ,(data['Q3A'] != 'Les religions') & (data['Q3B'] != 'Les religions') &\n",
    "     (data['Q3C'] == 'Les religions')\n",
    "    ,(data['Q3A'] != 'Les religions') & (data['Q3B'] != 'Les religions') &\n",
    "     (data['Q3C'] != 'Les religions') \n",
    "   \n",
    "]# List of values to return\n",
    "choices  = [\n",
    "      \"Première place\" \n",
    "    , \"Deuxième place\"\n",
    "    , \"Troisième place\"\n",
    "    , \"Pas dans les 3 premières\"\n",
    "]# create a new column in the data based on the conditions\n",
    "data[\"Religions_obscurantisme_placement\"] = np.select(conditions, choices)"
   ]
  },
  {
   "cell_type": "code",
   "execution_count": 104,
   "metadata": {},
   "outputs": [],
   "source": [
    "#changer l'order des categories de la variable 'Religions_obscurantisme_placement'\n",
    "data['Religions_obscurantisme_placement'] = pd.Categorical(data['Religions_obscurantisme_placement'], \n",
    "                            categories=['Pas dans les 3 premières', 'Première place', 'Deuxième place'\n",
    "                                        , 'Troisième place'], \n",
    "                            ordered=True)"
   ]
  },
  {
   "cell_type": "code",
   "execution_count": 105,
   "metadata": {},
   "outputs": [
    {
     "data": {
      "text/plain": [
       "Religions_obscurantisme_placement\n",
       "Pas dans les 3 premières    1102\n",
       "Première place               136\n",
       "Deuxième place               136\n",
       "Troisième place              128\n",
       "Name: count, dtype: int64"
      ]
     },
     "execution_count": 105,
     "metadata": {},
     "output_type": "execute_result"
    }
   ],
   "source": [
    "data['Religions_obscurantisme_placement'].value_counts()"
   ]
  },
  {
   "cell_type": "code",
   "execution_count": 106,
   "metadata": {},
   "outputs": [],
   "source": [
    "# creer une colonne de placement de La remise en cause de la science en 2 groupes:\n",
    "# définir une fonction pour recoder la variable 'Q3A':\n",
    "def placement_science_1(x):\n",
    "    if x == \"La remise en cause de la science\" :\n",
    "        return \"La remise en cause de la science en premier\"\n",
    "    if x != \"La remise en cause de la science\":\n",
    "        return \"La remise en cause de la science pas en premier\""
   ]
  },
  {
   "cell_type": "code",
   "execution_count": 107,
   "metadata": {},
   "outputs": [],
   "source": [
    "data['Remise_en_cause_science_premier']= data['Q3A'].apply(lambda x : placement_science_1(x))"
   ]
  },
  {
   "cell_type": "code",
   "execution_count": 108,
   "metadata": {},
   "outputs": [],
   "source": [
    "#changer l'order des categories de la variable 'Remise_en_cause_science_premier'\n",
    "data['Remise_en_cause_science_premier'] = pd.Categorical(data['Remise_en_cause_science_premier'], \n",
    "                            categories=['La remise en cause de la science pas en premier'\n",
    "                                        , 'La remise en cause de la science en premier'], \n",
    "                            ordered=True)"
   ]
  },
  {
   "cell_type": "code",
   "execution_count": 109,
   "metadata": {},
   "outputs": [
    {
     "data": {
      "text/plain": [
       "Remise_en_cause_science_premier\n",
       "La remise en cause de la science pas en premier    1203\n",
       "La remise en cause de la science en premier         299\n",
       "Name: count, dtype: int64"
      ]
     },
     "execution_count": 109,
     "metadata": {},
     "output_type": "execute_result"
    }
   ],
   "source": [
    "data['Remise_en_cause_science_premier'].value_counts()"
   ]
  },
  {
   "cell_type": "code",
   "execution_count": 110,
   "metadata": {},
   "outputs": [],
   "source": [
    "# creer une colonne de placement de la remise en cause de la science en 4 groupes:\n",
    "# List of conditions\n",
    "conditions = [\n",
    "     (data['Q3A'] == 'La remise en cause de la science') & (data['Q3B'] != 'La remise en cause de la science') & \n",
    "     (data['Q3C'] != 'La remise en cause de la science')\n",
    "    ,(data['Q3A'] != 'La remise en cause de la science') & (data['Q3B'] == 'La remise en cause de la science') &\n",
    "     (data['Q3C'] != 'La remise en cause de la science') \n",
    "    ,(data['Q3A'] != 'La remise en cause de la science') & (data['Q3B'] != 'La remise en cause de la science') &\n",
    "     (data['Q3C'] == 'La remise en cause de la science')\n",
    "    ,(data['Q3A'] != 'La remise en cause de la science') & (data['Q3B'] != 'La remise en cause de la science') &\n",
    "     (data['Q3C'] != 'La remise en cause de la science') \n",
    "   \n",
    "]# List of values to return\n",
    "choices  = [\n",
    "      \"Première place\" \n",
    "    , \"Deuxième place\"\n",
    "    , \"Troisième place\"\n",
    "    , \"Pas dans les 3 premières\"\n",
    "]# create a new column in the data based on the conditions\n",
    "data[\"Remise_en_cause_science_obscurantisme_placement\"] = np.select(conditions, choices)"
   ]
  },
  {
   "cell_type": "code",
   "execution_count": 111,
   "metadata": {},
   "outputs": [],
   "source": [
    "#changer l'order des categories de la variable 'Remise_en_cause_science_obscurantisme_placement'\n",
    "data['Remise_en_cause_science_obscurantisme_placement'] = pd.Categorical(data['Remise_en_cause_science_obscurantisme_placement'], \n",
    "                            categories=['Pas dans les 3 premières', 'Première place', 'Deuxième place'\n",
    "                                        , 'Troisième place'], \n",
    "                            ordered=True)"
   ]
  },
  {
   "cell_type": "code",
   "execution_count": 112,
   "metadata": {},
   "outputs": [
    {
     "data": {
      "text/plain": [
       "Remise_en_cause_science_obscurantisme_placement\n",
       "Pas dans les 3 premières    899\n",
       "Première place              299\n",
       "Deuxième place              166\n",
       "Troisième place             138\n",
       "Name: count, dtype: int64"
      ]
     },
     "execution_count": 112,
     "metadata": {},
     "output_type": "execute_result"
    }
   ],
   "source": [
    "data['Remise_en_cause_science_obscurantisme_placement'].value_counts()"
   ]
  },
  {
   "cell_type": "code",
   "execution_count": 113,
   "metadata": {},
   "outputs": [
    {
     "data": {
      "text/plain": [
       "Q4_1\n",
       "2    655\n",
       "1    534\n",
       "3    225\n",
       "4     88\n",
       "Name: count, dtype: int64"
      ]
     },
     "execution_count": 113,
     "metadata": {},
     "output_type": "execute_result"
    }
   ],
   "source": [
    "# Variable 'Q4_1'\n",
    "# Question :  Pour chacune des phrases suivantes, indiquez si vous êtes tout à fait d’accord, plutôt d’accord, pas vraiment d’accord ou pas du tout d’accord. Une réponse par ligne. L’obscurantisme représente une menace sérieuse pour la Républi\n",
    "data['Q4_1'].value_counts()"
   ]
  },
  {
   "cell_type": "code",
   "execution_count": 114,
   "metadata": {},
   "outputs": [
    {
     "data": {
      "text/plain": [
       "Q4_2\n",
       "2    738\n",
       "3    443\n",
       "1    228\n",
       "4     93\n",
       "Name: count, dtype: int64"
      ]
     },
     "execution_count": 114,
     "metadata": {},
     "output_type": "execute_result"
    }
   ],
   "source": [
    "# Variable 'Q4_2'\n",
    "# Question :  Pour chacune des phrases suivantes, indiquez si vous êtes tout à fait d’accord, plutôt d’accord, pas vraiment d’accord ou pas du tout d’accord.  Une réponse par ligne. L’obscurantisme est un phénomène répandu au sein de la sociét\n",
    "data['Q4_2'].value_counts()"
   ]
  },
  {
   "cell_type": "code",
   "execution_count": 115,
   "metadata": {},
   "outputs": [
    {
     "data": {
      "text/plain": [
       "Q4_3\n",
       "2    799\n",
       "1    340\n",
       "3    276\n",
       "4     87\n",
       "Name: count, dtype: int64"
      ]
     },
     "execution_count": 115,
     "metadata": {},
     "output_type": "execute_result"
    }
   ],
   "source": [
    "# Variable 'Q4_3'\n",
    "# Question : Pour chacune des phrases suivantes, indiquez si vous êtes tout à fait d’accord, plutôt d’accord, pas vraiment d’accord ou pas du tout d’accord.  Une réponse par ligne. L’obscurantisme est un phénomène en progression au sein de la s\n",
    "data['Q4_3'].value_counts()"
   ]
  },
  {
   "cell_type": "code",
   "execution_count": 116,
   "metadata": {},
   "outputs": [
    {
     "data": {
      "text/plain": [
       "Q4_4\n",
       "2    832\n",
       "1    403\n",
       "3    191\n",
       "4     76\n",
       "Name: count, dtype: int64"
      ]
     },
     "execution_count": 116,
     "metadata": {},
     "output_type": "execute_result"
    }
   ],
   "source": [
    "# Variable 'Q4_4'\n",
    "# Question : Pour chacune des phrases suivantes, indiquez si vous êtes tout à fait d’accord, plutôt d’accord, pas vraiment d’accord ou pas du tout d’accord.  Une réponse par ligne. L’obscurantisme est un phénomène qui a toujours existé\n",
    "data['Q4_4'].value_counts()"
   ]
  },
  {
   "cell_type": "code",
   "execution_count": 117,
   "metadata": {},
   "outputs": [
    {
     "data": {
      "text/plain": [
       "Q4_5\n",
       "2    624\n",
       "3    531\n",
       "1    209\n",
       "4    138\n",
       "Name: count, dtype: int64"
      ]
     },
     "execution_count": 117,
     "metadata": {},
     "output_type": "execute_result"
    }
   ],
   "source": [
    "# Variable 'Q4_5'\n",
    "# Question : Pour chacune des phrases suivantes, indiquez si vous êtes tout à fait d’accord, plutôt d’accord, pas vraiment d’accord ou pas du tout d’accord.  Une réponse par ligne. L’obscurantisme est un phénomène contre lequel on peut lutter e\n",
    "data['Q4_5'].value_counts()"
   ]
  },
  {
   "cell_type": "code",
   "execution_count": 118,
   "metadata": {},
   "outputs": [
    {
     "data": {
      "text/plain": [
       "Q4_6\n",
       "1    734\n",
       "2    540\n",
       "3    155\n",
       "4     73\n",
       "Name: count, dtype: int64"
      ]
     },
     "execution_count": 118,
     "metadata": {},
     "output_type": "execute_result"
    }
   ],
   "source": [
    "# Variable 'Q4_6'\n",
    "# Question : Pour chacune des phrases suivantes, indiquez si vous êtes tout à fait d’accord, plutôt d’accord, pas vraiment d’accord ou pas du tout d’accord.  Une réponse par ligne. L’obscurantisme est un phénomène contre lequel il est indispens\n",
    "data['Q4_6'].value_counts()"
   ]
  },
  {
   "cell_type": "code",
   "execution_count": 119,
   "metadata": {
    "scrolled": true
   },
   "outputs": [
    {
     "data": {
      "text/plain": [
       "Q4_7\n",
       "3    736\n",
       "4    383\n",
       "2    303\n",
       "1     80\n",
       "Name: count, dtype: int64"
      ]
     },
     "execution_count": 119,
     "metadata": {},
     "output_type": "execute_result"
    }
   ],
   "source": [
    "# Variable 'Q4_7'\n",
    "# Question :  Pour chacune des phrases suivantes, indiquez si vous êtes tout à fait d’accord, plutôt d’accord, pas vraiment d’accord ou pas du tout d’accord.  Une réponse par ligne. L’obscurantisme est un phénomène dont on exagère la portée.\n",
    "data['Q4_7'].value_counts()"
   ]
  },
  {
   "cell_type": "code",
   "execution_count": 120,
   "metadata": {},
   "outputs": [
    {
     "data": {
      "text/plain": [
       "Q4_8\n",
       "2    624\n",
       "1    349\n",
       "3    346\n",
       "4    183\n",
       "Name: count, dtype: int64"
      ]
     },
     "execution_count": 120,
     "metadata": {},
     "output_type": "execute_result"
    }
   ],
   "source": [
    "# Variable 'Q4_8'\n",
    "# Question : Pour chacune des phrases suivantes, indiquez si vous êtes tout à fait d’accord, plutôt d’accord, pas vraiment d’accord ou pas du tout d’accord.  Une réponse par ligne. La notion d’obscurantisme est utilisée pour dénigrer ou disqual\n",
    "data['Q4_8'].value_counts()"
   ]
  },
  {
   "cell_type": "code",
   "execution_count": 121,
   "metadata": {},
   "outputs": [],
   "source": [
    "data[['Q4_1', 'Q4_2', 'Q4_3', 'Q4_4', 'Q4_5', 'Q4_6', 'Q4_7', 'Q4_8']] = data[['Q4_1', 'Q4_2', 'Q4_3', 'Q4_4', 'Q4_5', 'Q4_6', 'Q4_7', 'Q4_8']].astype('category')"
   ]
  },
  {
   "cell_type": "code",
   "execution_count": 122,
   "metadata": {},
   "outputs": [],
   "source": [
    "ItemsQ4 = ['Q4_1', 'Q4_2', 'Q4_3', 'Q4_4', 'Q4_5', 'Q4_6', 'Q4_7', 'Q4_8']"
   ]
  },
  {
   "cell_type": "code",
   "execution_count": 123,
   "metadata": {},
   "outputs": [],
   "source": [
    "for i in data[ItemsQ4].columns:\n",
    "    data[i] = data[i].cat.rename_categories({1: \"Tout à fait d’accord\"\n",
    "                                                 , 2 : \"Plutôt d’accord\"\n",
    "                                                 , 3 : \"Plutôt pas d’accord\"\n",
    "                                                 , 4 : \"Pas du tout d’accord\"})"
   ]
  },
  {
   "cell_type": "code",
   "execution_count": 124,
   "metadata": {},
   "outputs": [],
   "source": [
    "#changer l'order des categories\n",
    "for i in data[ItemsQ4].columns:\n",
    "    data[i] = pd.Categorical(data[i], \n",
    "                            categories=['Pas du tout d’accord'\n",
    "                                        , 'Plutôt pas d’accord'\n",
    "                                        , 'Plutôt d’accord'\n",
    "                                       , 'Tout à fait d’accord'], \n",
    "                            ordered=True)"
   ]
  },
  {
   "cell_type": "code",
   "execution_count": 125,
   "metadata": {},
   "outputs": [
    {
     "data": {
      "text/plain": [
       "Q8_1\n",
       "1    929\n",
       "2    454\n",
       "3    119\n",
       "Name: count, dtype: int64"
      ]
     },
     "execution_count": 125,
     "metadata": {},
     "output_type": "execute_result"
    }
   ],
   "source": [
    "# Variable 'Q8_1'\n",
    "# Question :  Pour chacun des acteurs suivants, diriez-vous qu’il participe ou non à la diffusion des phénomènes obscurantistes dans la société française ?  Une réponse par ligne. Les réseaux sociaux\n",
    "data['Q8_1'].value_counts()"
   ]
  },
  {
   "cell_type": "code",
   "execution_count": 126,
   "metadata": {},
   "outputs": [
    {
     "data": {
      "text/plain": [
       "Q8_2\n",
       "2    738\n",
       "3    487\n",
       "1    277\n",
       "Name: count, dtype: int64"
      ]
     },
     "execution_count": 126,
     "metadata": {},
     "output_type": "execute_result"
    }
   ],
   "source": [
    "# Variable 'Q8_2'\n",
    "# Question :  Pour chacun des acteurs suivants, diriez-vous qu’il participe ou non à la diffusion des phénomènes obscurantistes dans la société française ?  Une réponse par ligne. Les journaux télévisés (13 heures, 20 heures, etc.)\n",
    "data['Q8_2'].value_counts()"
   ]
  },
  {
   "cell_type": "code",
   "execution_count": 127,
   "metadata": {},
   "outputs": [
    {
     "data": {
      "text/plain": [
       "Q8_3\n",
       "2    742\n",
       "1    433\n",
       "3    327\n",
       "Name: count, dtype: int64"
      ]
     },
     "execution_count": 127,
     "metadata": {},
     "output_type": "execute_result"
    }
   ],
   "source": [
    "# Variable 'Q8_3'\n",
    "# Question : Pour chacun des acteurs suivants, diriez-vous qu’il participe ou non à la diffusion des phénomènes obscurantistes dans la société française ?  Une réponse par ligne. Les chaînes d’informations continues\n",
    "data['Q8_3'].value_counts()"
   ]
  },
  {
   "cell_type": "code",
   "execution_count": 128,
   "metadata": {},
   "outputs": [
    {
     "data": {
      "text/plain": [
       "Q8_4\n",
       "2    796\n",
       "3    495\n",
       "1    211\n",
       "Name: count, dtype: int64"
      ]
     },
     "execution_count": 128,
     "metadata": {},
     "output_type": "execute_result"
    }
   ],
   "source": [
    "# Variable 'Q8_4'\n",
    "# Question : Pour chacun des acteurs suivants, diriez-vous qu’il participe ou non à la diffusion des phénomènes obscurantistes dans la société française ?  Une réponse par ligne. La radio\n",
    "data['Q8_4'].value_counts()"
   ]
  },
  {
   "cell_type": "code",
   "execution_count": 129,
   "metadata": {},
   "outputs": [
    {
     "data": {
      "text/plain": [
       "Q8_5\n",
       "2    778\n",
       "1    402\n",
       "3    322\n",
       "Name: count, dtype: int64"
      ]
     },
     "execution_count": 129,
     "metadata": {},
     "output_type": "execute_result"
    }
   ],
   "source": [
    "# Variable 'Q8_5'\n",
    "# Question : Pour chacun des acteurs suivants, diriez-vous qu’il participe ou non à la diffusion des phénomènes obscurantistes dans la société française ?  Une réponse par ligne. Le personnel politique\n",
    "data['Q8_5'].value_counts()"
   ]
  },
  {
   "cell_type": "code",
   "execution_count": 130,
   "metadata": {},
   "outputs": [
    {
     "data": {
      "text/plain": [
       "Q8_6\n",
       "3    719\n",
       "2    640\n",
       "1    143\n",
       "Name: count, dtype: int64"
      ]
     },
     "execution_count": 130,
     "metadata": {},
     "output_type": "execute_result"
    }
   ],
   "source": [
    "# Variable 'Q8_6'\n",
    "# Question : Pour chacun des acteurs suivants, diriez-vous qu’il participe ou non à la diffusion des phénomènes obscurantistes dans la société française ?  Une réponse par ligne. Les scientifiques\n",
    "data['Q8_6'].value_counts()"
   ]
  },
  {
   "cell_type": "code",
   "execution_count": 131,
   "metadata": {},
   "outputs": [
    {
     "data": {
      "text/plain": [
       "Q8_7\n",
       "1    689\n",
       "2    618\n",
       "3    195\n",
       "Name: count, dtype: int64"
      ]
     },
     "execution_count": 131,
     "metadata": {},
     "output_type": "execute_result"
    }
   ],
   "source": [
    "# Variable 'Q8_7'\n",
    "# Question :  Pour chacun des acteurs suivants, diriez-vous qu’il participe ou non à la diffusion des phénomènes obscurantistes dans la société française ?  Une réponse par ligne. Les religieux\n",
    "data['Q8_7'].value_counts()"
   ]
  },
  {
   "cell_type": "code",
   "execution_count": 132,
   "metadata": {},
   "outputs": [
    {
     "data": {
      "text/plain": [
       "Q8_8\n",
       "3    767\n",
       "2    639\n",
       "1     96\n",
       "Name: count, dtype: int64"
      ]
     },
     "execution_count": 132,
     "metadata": {},
     "output_type": "execute_result"
    }
   ],
   "source": [
    "# Variable 'Q8_8'\n",
    "# Question : Pour chacun des acteurs suivants, diriez-vous qu’il participe ou non à la diffusion des phénomènes obscurantistes dans la société française ?  Une réponse par ligne. Les entreprises\n",
    "data['Q8_8'].value_counts()"
   ]
  },
  {
   "cell_type": "code",
   "execution_count": 133,
   "metadata": {},
   "outputs": [
    {
     "data": {
      "text/plain": [
       "Q8_9\n",
       "1    743\n",
       "2    596\n",
       "3    163\n",
       "Name: count, dtype: int64"
      ]
     },
     "execution_count": 133,
     "metadata": {},
     "output_type": "execute_result"
    }
   ],
   "source": [
    "# Variable 'Q8_9'\n",
    "# Question :  Pour chacun des acteurs suivants, diriez-vous qu’il participe ou non à la diffusion des phénomènes obscurantistes dans la société française ?  Une réponse par ligne. Les influenceurs sur le web\n",
    "data['Q8_9'].value_counts()"
   ]
  },
  {
   "cell_type": "code",
   "execution_count": 134,
   "metadata": {},
   "outputs": [],
   "source": [
    "data[['Q8_1', 'Q8_2', 'Q8_3', 'Q8_4', 'Q8_5', 'Q8_6', 'Q8_7', 'Q8_8', 'Q8_9']] = data[['Q8_1', 'Q8_2', 'Q8_3', 'Q8_4', 'Q8_5', 'Q8_6', 'Q8_7', 'Q8_8', 'Q8_9']].astype('category')"
   ]
  },
  {
   "cell_type": "code",
   "execution_count": 135,
   "metadata": {},
   "outputs": [],
   "source": [
    "ItemsQ8 = ['Q8_1', 'Q8_2', 'Q8_3', 'Q8_4', 'Q8_5', 'Q8_6', 'Q8_7', 'Q8_8', 'Q8_9']"
   ]
  },
  {
   "cell_type": "code",
   "execution_count": 136,
   "metadata": {},
   "outputs": [],
   "source": [
    "for i in data[ItemsQ8].columns:\n",
    "    data[i] = data[i].cat.rename_categories({1: \"Participe beaucoup\"\n",
    "                                                 , 2 : \"Participe un peu\"\n",
    "                                                 , 3 : \"Ne participe pas\"})"
   ]
  },
  {
   "cell_type": "code",
   "execution_count": 137,
   "metadata": {},
   "outputs": [],
   "source": [
    "#changer l'order des categories\n",
    "for i in data[ItemsQ8].columns:\n",
    "    data[i] = pd.Categorical(data[i], \n",
    "                            categories=['Ne participe pas'\n",
    "                                        , 'Participe un peu'\n",
    "                                       , 'Participe beaucoup'], \n",
    "                            ordered=True)"
   ]
  },
  {
   "cell_type": "code",
   "execution_count": 138,
   "metadata": {},
   "outputs": [
    {
     "data": {
      "text/plain": [
       "Q9_3\n",
       "1    596\n",
       "3    464\n",
       "2    442\n",
       "Name: count, dtype: int64"
      ]
     },
     "execution_count": 138,
     "metadata": {},
     "output_type": "execute_result"
    }
   ],
   "source": [
    "# Variable 'Q9_3'\n",
    "# Question : Avez-vous déjà été confronté au cours de votre vie à une des situations suivantes ?  Une réponse par ligne. Un proche a refusé de se faire vacciner malgré les recommandations scientifiques\n",
    "data['Q9_3'].value_counts()"
   ]
  },
  {
   "cell_type": "code",
   "execution_count": 139,
   "metadata": {},
   "outputs": [
    {
     "data": {
      "text/plain": [
       "Q9_5\n",
       "3    886\n",
       "2    364\n",
       "1    252\n",
       "Name: count, dtype: int64"
      ]
     },
     "execution_count": 139,
     "metadata": {},
     "output_type": "execute_result"
    }
   ],
   "source": [
    "# Variable 'Q9_5'\n",
    "# Question : Avez-vous déjà été confronté au cours de votre vie à une des situations suivantes ?  Une réponse par ligne. Un proche a tenu des propos contraires à des faits historiques ou scientifiques établis\n",
    "data['Q9_5'].value_counts()"
   ]
  },
  {
   "cell_type": "code",
   "execution_count": 140,
   "metadata": {},
   "outputs": [],
   "source": [
    "data[['Q9_3', 'Q9_5']] = data[['Q9_3', 'Q9_5']].astype('category')"
   ]
  },
  {
   "cell_type": "code",
   "execution_count": 141,
   "metadata": {},
   "outputs": [],
   "source": [
    "ItemsQ9 = ['Q9_3', 'Q9_5']"
   ]
  },
  {
   "cell_type": "code",
   "execution_count": 142,
   "metadata": {},
   "outputs": [],
   "source": [
    "for i in data[ItemsQ9].columns:\n",
    "    data[i] = data[i].cat.rename_categories({1: \"Oui, au cours des 12 derniers mois\"\n",
    "                                                 , 2 : \"Oui, mais c’était il y a plus de 12 mois\"\n",
    "                                                 , 3 : \"Non, jamais\"})"
   ]
  },
  {
   "cell_type": "code",
   "execution_count": 143,
   "metadata": {},
   "outputs": [],
   "source": [
    "#changer l'order des categories\n",
    "for i in data[ItemsQ9].columns:\n",
    "    data[i] = pd.Categorical(data[i], \n",
    "                            categories=['Non, jamais'\n",
    "                                        , 'Oui, mais c’était il y a plus de 12 mois'\n",
    "                                       , 'Oui, au cours des 12 derniers mois'], \n",
    "                            ordered=True)"
   ]
  },
  {
   "cell_type": "code",
   "execution_count": 144,
   "metadata": {},
   "outputs": [
    {
     "data": {
      "text/plain": [
       "Q10\n",
       "2    624\n",
       "1    447\n",
       "3    431\n",
       "Name: count, dtype: int64"
      ]
     },
     "execution_count": 144,
     "metadata": {},
     "output_type": "execute_result"
    }
   ],
   "source": [
    "# Variable 'Q10'\n",
    "# Question : De ces deux opinions, de laquelle vous sentez-vous le plus proche ?\n",
    "data['Q10'].value_counts()"
   ]
  },
  {
   "cell_type": "code",
   "execution_count": 145,
   "metadata": {},
   "outputs": [],
   "source": [
    "data['Q10'] = data['Q10'].astype('category')"
   ]
  },
  {
   "cell_type": "code",
   "execution_count": 146,
   "metadata": {},
   "outputs": [],
   "source": [
    "data['Q10'] =data['Q10'].cat.rename_categories({1: \"La lutte contre l’obscurantisme est avant tout l’affaire des pouvoirs publics\"\n",
    "                                                 , 2 : \"La lutte contre l’obscurantisme est avant tout l’affaire des citoyens\"\n",
    "                                                 , 3 : \"Vous ne savez pas\"})"
   ]
  },
  {
   "cell_type": "code",
   "execution_count": 147,
   "metadata": {},
   "outputs": [
    {
     "data": {
      "text/plain": [
       "Q11\n",
       "2    741\n",
       "1    509\n",
       "3    252\n",
       "Name: count, dtype: int64"
      ]
     },
     "execution_count": 147,
     "metadata": {},
     "output_type": "execute_result"
    }
   ],
   "source": [
    "# Variable 'Q11'\n",
    "# Question :  Diriez-vous que pour les pouvoirs publics la lutte contre les dérives obscurantistes doit être un enjeu… ?\n",
    "data['Q11'].value_counts()"
   ]
  },
  {
   "cell_type": "code",
   "execution_count": 148,
   "metadata": {},
   "outputs": [],
   "source": [
    "data['Q11'] = data['Q11'].astype('category')\n",
    "data['Q11'] = data['Q11'].cat.rename_categories({1: \"Tout à fait prioritaire\"\n",
    "                                                 , 2 : \"Très important sans être prioritaire\"\n",
    "                                                 , 3 : \"Secondaire\"})"
   ]
  },
  {
   "cell_type": "code",
   "execution_count": 149,
   "metadata": {},
   "outputs": [],
   "source": [
    "#changer l'order des categories de la variable 'Q11'\n",
    "data['Q11'] = pd.Categorical(data['Q11'], \n",
    "                        categories=['Secondaire'\n",
    "                                     , 'Très important sans être prioritaire'\n",
    "                                    , 'Tout à fait prioritaire'], \n",
    "                            ordered=True)"
   ]
  },
  {
   "cell_type": "code",
   "execution_count": 150,
   "metadata": {},
   "outputs": [
    {
     "data": {
      "text/plain": [
       "Q12\n",
       "2    1059\n",
       "3     331\n",
       "1     112\n",
       "Name: count, dtype: int64"
      ]
     },
     "execution_count": 150,
     "metadata": {},
     "output_type": "execute_result"
    }
   ],
   "source": [
    "# Variable 'Q12'\n",
    "# Question : Pensez-vous que les pouvoirs publics en font trop, n’en font pas assez ou en font juste comme il faut en ce qui concerne les dérives obscurantistes ?\n",
    "data['Q12'].value_counts()"
   ]
  },
  {
   "cell_type": "code",
   "execution_count": 151,
   "metadata": {},
   "outputs": [],
   "source": [
    "data['Q12'] = data['Q12'].astype('category')\n",
    "data['Q12'] = data['Q12'].cat.rename_categories({1: \"Ils en font trop\"\n",
    "                                                 , 2 : \"Ils n’en font pas assez\"\n",
    "                                                 , 3 : \"Ils en font juste comme il faut\"})"
   ]
  },
  {
   "cell_type": "code",
   "execution_count": 152,
   "metadata": {},
   "outputs": [],
   "source": [
    "#changer l'order des categories de la variable 'Q12'\n",
    "data['Q12'] = pd.Categorical(data['Q12'], \n",
    "                        categories=['Ils n’en font pas assez'\n",
    "                                     , 'Ils en font juste comme il faut'\n",
    "                                    , 'Ils en font trop'], \n",
    "                            ordered=True)"
   ]
  },
  {
   "cell_type": "code",
   "execution_count": 153,
   "metadata": {},
   "outputs": [
    {
     "data": {
      "text/plain": [
       "Q13_2\n",
       "3    600\n",
       "2    473\n",
       "4    344\n",
       "1     85\n",
       "Name: count, dtype: int64"
      ]
     },
     "execution_count": 153,
     "metadata": {},
     "output_type": "execute_result"
    }
   ],
   "source": [
    "# Variable 'Q13_2'\n",
    "# Question : Pour chacun des groupes ou acteurs suivants, diriez-vous que vous lui faites confiance ou pas confiance pour lutter contre les phénomènes obscurantistes ?  Une réponse par ligne. Les élus, le personnel politique\n",
    "data['Q13_2'].value_counts()"
   ]
  },
  {
   "cell_type": "code",
   "execution_count": 154,
   "metadata": {},
   "outputs": [
    {
     "data": {
      "text/plain": [
       "Q13_6\n",
       "2    705\n",
       "1    357\n",
       "3    306\n",
       "4    134\n",
       "Name: count, dtype: int64"
      ]
     },
     "execution_count": 154,
     "metadata": {},
     "output_type": "execute_result"
    }
   ],
   "source": [
    "# Variable 'Q13_6'\n",
    "# Question :  Pour chacun des groupes ou acteurs suivants, diriez-vous que vous lui faites confiance ou pas confiance pour lutter contre les phénomènes obscurantistes ?  Une réponse par ligne. Les scientifiques\n",
    "data['Q13_6'].value_counts()"
   ]
  },
  {
   "cell_type": "code",
   "execution_count": 155,
   "metadata": {},
   "outputs": [
    {
     "data": {
      "text/plain": [
       "Q13_7\n",
       "2    766\n",
       "3    341\n",
       "1    256\n",
       "4    139\n",
       "Name: count, dtype: int64"
      ]
     },
     "execution_count": 155,
     "metadata": {},
     "output_type": "execute_result"
    }
   ],
   "source": [
    "# Variable 'Q13_7'\n",
    "# Question :  Pour chacun des groupes ou acteurs suivants, diriez-vous que vous lui faites confiance ou pas confiance pour lutter contre les phénomènes obscurantistes ?  Une réponse par ligne. Les enseignants, l’Ecole\n",
    "data['Q13_7'].value_counts()"
   ]
  },
  {
   "cell_type": "code",
   "execution_count": 156,
   "metadata": {},
   "outputs": [],
   "source": [
    "data[['Q13_2', 'Q13_6', 'Q13_7']] = data[['Q13_2', 'Q13_6', 'Q13_7']].astype('category')"
   ]
  },
  {
   "cell_type": "code",
   "execution_count": 157,
   "metadata": {},
   "outputs": [],
   "source": [
    "ItemsQ13 = ['Q13_2', 'Q13_6', 'Q13_7']"
   ]
  },
  {
   "cell_type": "code",
   "execution_count": 158,
   "metadata": {},
   "outputs": [],
   "source": [
    "for i in data[ItemsQ13].columns:\n",
    "    data[i] = data[i].cat.rename_categories({1: \"Oui, tout à fait\"\n",
    "                                                 , 2 : \"Oui, plutôt\"\n",
    "                                                 , 3 : \"Non, plutôt pas\"\n",
    "                                                 , 4 : \"Non, pas du tout\"})"
   ]
  },
  {
   "cell_type": "code",
   "execution_count": 159,
   "metadata": {},
   "outputs": [],
   "source": [
    "#changer l'order des categories\n",
    "for i in data[ItemsQ13].columns:\n",
    "    data[i] = pd.Categorical(data[i], \n",
    "                            categories=['Non, pas du tout'\n",
    "                                        , 'Non, plutôt pas'\n",
    "                                        , 'Oui, plutôt'\n",
    "                                       , 'Oui, tout à fait'], \n",
    "                            ordered=True)"
   ]
  },
  {
   "cell_type": "code",
   "execution_count": 160,
   "metadata": {},
   "outputs": [
    {
     "data": {
      "text/plain": [
       "Q14\n",
       "2    753\n",
       "3    372\n",
       "1    189\n",
       "4    188\n",
       "Name: count, dtype: int64"
      ]
     },
     "execution_count": 160,
     "metadata": {},
     "output_type": "execute_result"
    }
   ],
   "source": [
    "# Variable 'Q14'\n",
    "# Question : Si vous aviez connaissance d’actions individuelles ne demandant pas de moyens particuliers, pour lutter contre l'obscurantisme, seriez-vous prêt à vous engager dans cette lutte ?\n",
    "data['Q14'].value_counts()"
   ]
  },
  {
   "cell_type": "code",
   "execution_count": 161,
   "metadata": {},
   "outputs": [],
   "source": [
    "data['Q14'] = data['Q14'].astype('category')\n",
    "data['Q14'] = data['Q14'].cat.rename_categories({1: \"Oui, certainement\"\n",
    "                                                 , 2 : \"Oui, probablement\"\n",
    "                                                 , 3 : \"Non, probablement pas\"\n",
    "                                                 , 4 : \"Non, certainement pas\"})"
   ]
  },
  {
   "cell_type": "code",
   "execution_count": 162,
   "metadata": {},
   "outputs": [],
   "source": [
    "#changer l'order des categories de la variable 'Q14'\n",
    "data['Q14'] = pd.Categorical(data['Q14'], \n",
    "                            categories=['Non, certainement pas'\n",
    "                                        , 'Non, probablement pas'\n",
    "                                        , 'Oui, probablement'\n",
    "                                        , 'Oui, certainement'], \n",
    "                            ordered=True)"
   ]
  },
  {
   "cell_type": "code",
   "execution_count": 163,
   "metadata": {},
   "outputs": [
    {
     "data": {
      "text/plain": [
       "Q15\n",
       "2    708\n",
       "1    518\n",
       "3    276\n",
       "Name: count, dtype: int64"
      ]
     },
     "execution_count": 163,
     "metadata": {},
     "output_type": "execute_result"
    }
   ],
   "source": [
    "# Variable 'Q15'\n",
    "# Question : Lorsque quelqu'un dans une conversation avec vous évoque des convictions irrationnelles, avez-vous tendance… ?\n",
    "data['Q15'].value_counts()"
   ]
  },
  {
   "cell_type": "code",
   "execution_count": 164,
   "metadata": {},
   "outputs": [],
   "source": [
    "data['Q15'] = data['Q15'].astype('category')\n",
    "data['Q15'] = data['Q15'].cat.rename_categories({1: \"À le laisser parler\"\n",
    "                                                 , 2 : \"À argumenter pour lui faire changer d'avis\"\n",
    "                                                 , 3 : \"À interrompre la conversation\"})"
   ]
  },
  {
   "cell_type": "code",
   "execution_count": 165,
   "metadata": {},
   "outputs": [
    {
     "data": {
      "text/plain": [
       "Q16\n",
       "3    650\n",
       "2    596\n",
       "1    256\n",
       "Name: count, dtype: int64"
      ]
     },
     "execution_count": 165,
     "metadata": {},
     "output_type": "execute_result"
    }
   ],
   "source": [
    "# Variable 'Q16'\n",
    "# Question : Lorsque vous voyez sur les réseaux sociaux des commentaires qui vous semblent obscurantistes, avez-vous tendance… ?\n",
    "data['Q16'].value_counts()"
   ]
  },
  {
   "cell_type": "code",
   "execution_count": 166,
   "metadata": {},
   "outputs": [],
   "source": [
    "data['Q16'] = data['Q16'].astype('category')\n",
    "data['Q16'] = data['Q16'].cat.rename_categories({1 : \"À répliquer\"\n",
    "                                                 , 2 : \"À changer de réseau social\"\n",
    "                                                 , 3 : \"À être indifférent\"})"
   ]
  },
  {
   "cell_type": "code",
   "execution_count": 167,
   "metadata": {},
   "outputs": [
    {
     "data": {
      "text/plain": [
       "Q18_1\n",
       "1    674\n",
       "2    569\n",
       "3    259\n",
       "Name: count, dtype: int64"
      ]
     },
     "execution_count": 167,
     "metadata": {},
     "output_type": "execute_result"
    }
   ],
   "source": [
    "# Variable 'Q18_1'\n",
    "# Question : Pour vous informer sur l’actualité, utilisez-vous chacun des médias suivants ?  Une réponse par ligne. Les journaux télévisés (13 heures, 20 heures, etc.)\n",
    "data['Q18_1'].value_counts()"
   ]
  },
  {
   "cell_type": "code",
   "execution_count": 168,
   "metadata": {},
   "outputs": [
    {
     "data": {
      "text/plain": [
       "Q18_2\n",
       "2    674\n",
       "3    493\n",
       "1    335\n",
       "Name: count, dtype: int64"
      ]
     },
     "execution_count": 168,
     "metadata": {},
     "output_type": "execute_result"
    }
   ],
   "source": [
    "# Variable 'Q18_2'\n",
    "# Question : Pour vous informer sur l’actualité, utilisez-vous chacun des médias suivants ?  Une réponse par ligne. Les journaux d’informations continues\n",
    "data['Q18_2'].value_counts()"
   ]
  },
  {
   "cell_type": "code",
   "execution_count": 169,
   "metadata": {},
   "outputs": [
    {
     "data": {
      "text/plain": [
       "Q18_3\n",
       "2    705\n",
       "1    495\n",
       "3    302\n",
       "Name: count, dtype: int64"
      ]
     },
     "execution_count": 169,
     "metadata": {},
     "output_type": "execute_result"
    }
   ],
   "source": [
    "# Variable 'Q18_3'\n",
    "# Question :  Pour vous informer sur l’actualité, utilisez-vous chacun des médias suivants ?  Une réponse par ligne. Internet (y compris les réseaux sociaux)\n",
    "data['Q18_3'].value_counts()"
   ]
  },
  {
   "cell_type": "code",
   "execution_count": 170,
   "metadata": {},
   "outputs": [
    {
     "data": {
      "text/plain": [
       "Q18_4\n",
       "2    667\n",
       "1    491\n",
       "3    344\n",
       "Name: count, dtype: int64"
      ]
     },
     "execution_count": 170,
     "metadata": {},
     "output_type": "execute_result"
    }
   ],
   "source": [
    "# Variable 'Q18_4'\n",
    "# Question : Pour vous informer sur l’actualité, utilisez-vous chacun des médias suivants ?  Une réponse par ligne. La radio\n",
    "data['Q18_4'].value_counts()"
   ]
  },
  {
   "cell_type": "code",
   "execution_count": 171,
   "metadata": {},
   "outputs": [
    {
     "data": {
      "text/plain": [
       "Q18_5\n",
       "2    686\n",
       "3    489\n",
       "1    327\n",
       "Name: count, dtype: int64"
      ]
     },
     "execution_count": 171,
     "metadata": {},
     "output_type": "execute_result"
    }
   ],
   "source": [
    "# Variable 'Q18_5'\n",
    "# Question : Pour vous informer sur l’actualité, utilisez-vous chacun des médias suivants ?  Une réponse par ligne. Les journaux, la presse écrite\n",
    "data['Q18_5'].value_counts()"
   ]
  },
  {
   "cell_type": "code",
   "execution_count": 172,
   "metadata": {},
   "outputs": [
    {
     "data": {
      "text/plain": [
       "Q18_6\n",
       "3    980\n",
       "2    364\n",
       "1    158\n",
       "Name: count, dtype: int64"
      ]
     },
     "execution_count": 172,
     "metadata": {},
     "output_type": "execute_result"
    }
   ],
   "source": [
    "# Variable 'Q18_6'\n",
    "# Question : Pour vous informer sur l’actualité, utilisez-vous chacun des médias suivants ?  Une réponse par ligne. Les applications de messagerie instantanée (WhatsApp, Telegram, etc.)\n",
    "data['Q18_6'].value_counts()"
   ]
  },
  {
   "cell_type": "code",
   "execution_count": 173,
   "metadata": {},
   "outputs": [],
   "source": [
    "data[['Q18_1', 'Q18_2', 'Q18_3', 'Q18_4', 'Q18_5', 'Q18_6']] = data[['Q18_1', 'Q18_2', 'Q18_3', 'Q18_4', 'Q18_5', 'Q18_6']].astype('category')"
   ]
  },
  {
   "cell_type": "code",
   "execution_count": 174,
   "metadata": {},
   "outputs": [],
   "source": [
    "ItemsQ18 = ['Q18_1', 'Q18_2', 'Q18_3', 'Q18_4', 'Q18_5', 'Q18_6']"
   ]
  },
  {
   "cell_type": "code",
   "execution_count": 175,
   "metadata": {},
   "outputs": [],
   "source": [
    "for i in data[ItemsQ18].columns:\n",
    "    data[i] = data[i].cat.rename_categories({1: \"Oui, souvent\"\n",
    "                                                 , 2 : \"Oui, parfois\"\n",
    "                                                 , 3 : \"Non, jamais\"})"
   ]
  },
  {
   "cell_type": "code",
   "execution_count": 176,
   "metadata": {},
   "outputs": [],
   "source": [
    "#changer l'order des categories\n",
    "for i in data[ItemsQ18].columns:\n",
    "    data[i] = pd.Categorical(data[i], \n",
    "                            categories=['Non, jamais'\n",
    "                                        , 'Oui, parfois'\n",
    "                                       , 'Oui, souvent'], \n",
    "                            ordered=True)"
   ]
  },
  {
   "cell_type": "code",
   "execution_count": 177,
   "metadata": {},
   "outputs": [
    {
     "data": {
      "text/plain": [
       "Q19_1\n",
       "2.0    593\n",
       "1.0    304\n",
       "3.0    303\n",
       "Name: count, dtype: int64"
      ]
     },
     "execution_count": 177,
     "metadata": {},
     "output_type": "execute_result"
    }
   ],
   "source": [
    "# Variable 'Q19_1'\n",
    "# Question : Plus précisément, sur internet, utilisez-vous chacune des sources suivantes ?  Une réponse par ligne. Les sites d’information des grands médias\n",
    "data['Q19_1'].value_counts()"
   ]
  },
  {
   "cell_type": "code",
   "execution_count": 178,
   "metadata": {},
   "outputs": [
    {
     "data": {
      "text/plain": [
       "Q19_2\n",
       "2.0    535\n",
       "3.0    374\n",
       "1.0    291\n",
       "Name: count, dtype: int64"
      ]
     },
     "execution_count": 178,
     "metadata": {},
     "output_type": "execute_result"
    }
   ],
   "source": [
    "# Variable 'Q19_2'\n",
    "# Question : Plus précisément, sur internet, utilisez-vous chacune des sources suivantes ?  Une réponse par ligne. Les portails ou applications (Google News, Yahoo Actualités, Actu Orange…)\n",
    "data['Q19_2'].value_counts()"
   ]
  },
  {
   "cell_type": "code",
   "execution_count": 179,
   "metadata": {},
   "outputs": [
    {
     "data": {
      "text/plain": [
       "Q19_3\n",
       "2.0    547\n",
       "3.0    400\n",
       "1.0    253\n",
       "Name: count, dtype: int64"
      ]
     },
     "execution_count": 179,
     "metadata": {},
     "output_type": "execute_result"
    }
   ],
   "source": [
    "# Variable 'Q19_3'\n",
    "# Question : Plus précisément, sur internet, utilisez-vous chacune des sources suivantes ?  Une réponse par ligne. Les sites de vidéos en ligne (YouTube, Dailymotion, Vimeo…)\n",
    "data['Q19_3'].value_counts()"
   ]
  },
  {
   "cell_type": "code",
   "execution_count": 180,
   "metadata": {},
   "outputs": [
    {
     "data": {
      "text/plain": [
       "Q19_4\n",
       "2.0    475\n",
       "1.0    402\n",
       "3.0    323\n",
       "Name: count, dtype: int64"
      ]
     },
     "execution_count": 180,
     "metadata": {},
     "output_type": "execute_result"
    }
   ],
   "source": [
    "# Variable 'Q19_4'\n",
    "# Question : Plus précisément, sur internet, utilisez-vous chacune des sources suivantes ?  Une réponse par ligne. Les réseaux sociaux (Facebook, Twitter, Snapchat, Instagram, LinkedIn…)\n",
    "data['Q19_4'].value_counts()"
   ]
  },
  {
   "cell_type": "code",
   "execution_count": 181,
   "metadata": {},
   "outputs": [],
   "source": [
    "data[['Q19_1', 'Q19_2', 'Q19_3', 'Q19_4']] = data[['Q19_1', 'Q19_2', 'Q19_3', 'Q19_4']].fillna(0)"
   ]
  },
  {
   "cell_type": "code",
   "execution_count": 182,
   "metadata": {},
   "outputs": [],
   "source": [
    "data[['Q19_1', 'Q19_2', 'Q19_3', 'Q19_4']] = data[['Q19_1', 'Q19_2', 'Q19_3', 'Q19_4']].astype('category')"
   ]
  },
  {
   "cell_type": "code",
   "execution_count": 183,
   "metadata": {},
   "outputs": [],
   "source": [
    "ItemsQ19 = ['Q19_1', 'Q19_2', 'Q19_3', 'Q19_4']"
   ]
  },
  {
   "cell_type": "code",
   "execution_count": 184,
   "metadata": {},
   "outputs": [],
   "source": [
    "for i in data[ItemsQ19].columns:\n",
    "    data[i] = data[i].cat.rename_categories({0 : \"Vous ne savez pas, sans réponse\"\n",
    "                                            , 1: \"Oui, souvent\"\n",
    "                                            , 2 : \"Oui, parfois\"\n",
    "                                            , 3 : \"Non, jamais\"})"
   ]
  },
  {
   "cell_type": "code",
   "execution_count": 185,
   "metadata": {},
   "outputs": [],
   "source": [
    "#changer l'order des categories\n",
    "for i in data[ItemsQ19].columns:\n",
    "    data[i] = pd.Categorical(data[i], \n",
    "                            categories=['Non, jamais'\n",
    "                                        , 'Oui, parfois'\n",
    "                                       , 'Oui, souvent'\n",
    "                                       , 'Vous ne savez pas, sans réponse'], \n",
    "                            ordered=True)"
   ]
  },
  {
   "cell_type": "code",
   "execution_count": 186,
   "metadata": {},
   "outputs": [
    {
     "data": {
      "text/plain": [
       "Q20\n",
       "1.0    204\n",
       "4.0    199\n",
       "2.0    183\n",
       "5.0    173\n",
       "3.0    118\n",
       "Name: count, dtype: int64"
      ]
     },
     "execution_count": 186,
     "metadata": {},
     "output_type": "execute_result"
    }
   ],
   "source": [
    "# Variable 'Q20'\n",
    "# Question :  A quelle fréquence partagez-vous du contenu traitant des informations sur les réseaux sociaux (Facebook, Watsapp, Twitter, etc.) ?\n",
    "data['Q20'].value_counts()"
   ]
  },
  {
   "cell_type": "code",
   "execution_count": 187,
   "metadata": {},
   "outputs": [],
   "source": [
    "data['Q20'] = data['Q20'].fillna(0)"
   ]
  },
  {
   "cell_type": "code",
   "execution_count": 188,
   "metadata": {},
   "outputs": [],
   "source": [
    "data['Q20'] = data['Q20'].astype('category')\n",
    "data['Q20'] =data['Q20'].cat.rename_categories({0 : \"Vous ne savez pas, sans réponse\" \n",
    "                                                 , 1 : \"Au moins une fois par jour\"\n",
    "                                                 , 2 : \"Au moins une fois par semaine\"\n",
    "                                                 , 3 : \"Au moins une fois par mois\"\n",
    "                                                 , 4 : \"Moins souvent\"\n",
    "                                                 , 5 : \"Jamais\"})"
   ]
  },
  {
   "cell_type": "code",
   "execution_count": 189,
   "metadata": {},
   "outputs": [],
   "source": [
    "#changer l'order des categories de la variable 'Q20'\n",
    "data['Q20'] = pd.Categorical(data['Q20'], \n",
    "                            categories=['Jamais', 'Moins souvent', 'Au moins une fois par mois'\n",
    "                                        , 'Au moins une fois par semaine'\n",
    "                                        , 'Au moins une fois par jour'\n",
    "                                        , 'Vous ne savez pas, sans réponse'], \n",
    "                            ordered=True)"
   ]
  },
  {
   "cell_type": "code",
   "execution_count": 190,
   "metadata": {},
   "outputs": [
    {
     "data": {
      "text/plain": [
       "PRE22\n",
       "9     301\n",
       "12    257\n",
       "6     190\n",
       "17    166\n",
       "1      90\n",
       "15     71\n",
       "10     68\n",
       "13     67\n",
       "2      63\n",
       "5      46\n",
       "8      44\n",
       "14     35\n",
       "11     32\n",
       "3      25\n",
       "7      20\n",
       "4      17\n",
       "16     10\n",
       "Name: count, dtype: int64"
      ]
     },
     "execution_count": 190,
     "metadata": {},
     "output_type": "execute_result"
    }
   ],
   "source": [
    "# Variable 'PRE22'\n",
    "# Question : Pour lequel des candidats suivants avez-vous voté lors du PREMIER TOUR de l'élection présidentielle, dimanche 10 avril 2022 ?\n",
    "data['PRE22'].value_counts()"
   ]
  },
  {
   "cell_type": "code",
   "execution_count": 191,
   "metadata": {},
   "outputs": [],
   "source": [
    "# définir une fonction pour recoder la variable 'PRE22':\n",
    "def PRES22_noms(x):\n",
    "    if x == 1:\n",
    "        return \"Vous vous êtes abstenu(e)\"\n",
    "    if x == 2:\n",
    "        return \"Vous avez voté blanc ou nul\"\n",
    "    if x == 3:\n",
    "        return \"Nathalie Arthaud\"\n",
    "    if x == 4:\n",
    "        return \"Philippe Poutou\"\n",
    "    if x == 5:\n",
    "        return \"Fabien Roussel\"\n",
    "    if x == 6:\n",
    "        return \"Jean-Luc Mélenchon\"\n",
    "    if x == 7:\n",
    "        return \"Anne Hidalgo\"\n",
    "    if x == 8:\n",
    "        return \"Yannick Jadot\"\n",
    "    if x == 9:\n",
    "        return \"Emmanuel Macron\"\n",
    "    if x == 10:\n",
    "        return \"Valérie Pécresse\"\n",
    "    if x == 11:\n",
    "        return \"Nicolas Dupont-Aignan\"\n",
    "    if x == 12:\n",
    "        return \"Marine Le Pen\"\n",
    "    if x == 13:\n",
    "        return \"Éric Zemmour\"\n",
    "    if x == 14:\n",
    "        return \"Jean Lassalle\"\n",
    "    if x == 15:\n",
    "        return \"Vous n’étiez pas inscrit(e) sur les listes électorales\"\n",
    "    if x == 16:\n",
    "        return \"Vous n'aviez pas 18 ans\"\n",
    "    if x == 17:\n",
    "        return \"Vous ne souhaitez pas répondre\""
   ]
  },
  {
   "cell_type": "code",
   "execution_count": 192,
   "metadata": {},
   "outputs": [],
   "source": [
    "data['PRE22']= data['PRE22'].apply(lambda x : PRES22_noms(x))"
   ]
  },
  {
   "cell_type": "code",
   "execution_count": 193,
   "metadata": {},
   "outputs": [
    {
     "data": {
      "text/plain": [
       "REL1\n",
       "2    619\n",
       "7    561\n",
       "8    119\n",
       "1     92\n",
       "4     46\n",
       "6     32\n",
       "3     25\n",
       "5      8\n",
       "Name: count, dtype: int64"
      ]
     },
     "execution_count": 193,
     "metadata": {},
     "output_type": "execute_result"
    }
   ],
   "source": [
    "# Variable 'REL1'\n",
    "# Question : Êtes-vous ...?\n",
    "data['REL1'].value_counts()"
   ]
  },
  {
   "cell_type": "code",
   "execution_count": 194,
   "metadata": {},
   "outputs": [],
   "source": [
    "# définir une fonction pour recoder la variable 'REL1':\n",
    "def Religion(x):\n",
    "    if x == 1:\n",
    "        return \"Catholique pratiquant(e)\"\n",
    "    if x == 2:\n",
    "        return \"Catholique non pratiquant(e)\"\n",
    "    if x == 3:\n",
    "        return \"Protestant(e) ou évangélique\"\n",
    "    if x == 4:\n",
    "        return \"Musulman(e)\"\n",
    "    if x == 5:\n",
    "        return \"Juif, juive\"\n",
    "    if x == 6:\n",
    "        return \"D’une autre religion\"\n",
    "    if x == 7:\n",
    "        return \"Sans religion\"\n",
    "    if x == 8:\n",
    "        return \"Vous ne souhaitez pas répondre\""
   ]
  },
  {
   "cell_type": "code",
   "execution_count": 195,
   "metadata": {},
   "outputs": [],
   "source": [
    "data['REL1']= data['REL1'].apply(lambda x : Religion(x))"
   ]
  },
  {
   "cell_type": "code",
   "execution_count": 196,
   "metadata": {},
   "outputs": [],
   "source": [
    "data[['PRE22', 'REL1']] = data[['PRE22', 'REL1']].astype('category')"
   ]
  },
  {
   "cell_type": "code",
   "execution_count": 197,
   "metadata": {},
   "outputs": [
    {
     "data": {
      "text/plain": [
       "REL2\n",
       "2.0    47\n",
       "1.0    45\n",
       "Name: count, dtype: int64"
      ]
     },
     "execution_count": 197,
     "metadata": {},
     "output_type": "execute_result"
    }
   ],
   "source": [
    "# Variable 'REL2'\n",
    "# Question : Plus précisément êtes-vous... ?\n",
    "data['REL2'].value_counts()"
   ]
  },
  {
   "cell_type": "code",
   "execution_count": 198,
   "metadata": {},
   "outputs": [],
   "source": [
    "data['REL2'] = data['REL2'].fillna(0)"
   ]
  },
  {
   "cell_type": "code",
   "execution_count": 199,
   "metadata": {},
   "outputs": [],
   "source": [
    "data['REL2'] = data['REL2'].astype('category')\n",
    "data['REL2'] = data['REL2'].cat.rename_categories({0 : \"Non Pratiquant(e), sans religion, vous ne savez pas\"\n",
    "                                                 , 1 : \"Pratiquant(e) régulier(e)\"\n",
    "                                                 , 2 : \"Pratiquant(e) occasionnel(le)\"})"
   ]
  },
  {
   "cell_type": "code",
   "execution_count": 200,
   "metadata": {},
   "outputs": [],
   "source": [
    "#changer l'order des categories de la variable 'REL2'\n",
    "data['REL2'] = pd.Categorical(data['REL2'], \n",
    "                            categories=['Non Pratiquant(e), sans religion, vous ne savez pas'\n",
    "                                        , 'Pratiquant(e) occasionnel(le)'\n",
    "                                        , 'Pratiquant(e) régulier(e)'], \n",
    "                            ordered=True)"
   ]
  },
  {
   "cell_type": "code",
   "execution_count": 201,
   "metadata": {},
   "outputs": [
    {
     "data": {
      "text/plain": [
       "111"
      ]
     },
     "execution_count": 201,
     "metadata": {},
     "output_type": "execute_result"
    }
   ],
   "source": [
    "# Variable 'RELI2'\n",
    "# Question : D'habitude, allez-vous à un office religieux... ?\n",
    "data['RELI2'].isna().sum()"
   ]
  },
  {
   "cell_type": "code",
   "execution_count": 202,
   "metadata": {},
   "outputs": [],
   "source": [
    "data['RELI2'] = data['RELI2'].fillna(0)\n",
    "data['RELI2'] = data['RELI2'].astype('category')\n",
    "data['RELI2'] = data['RELI2'].cat.rename_categories({0 : \"Non Pratiquant(e), sans religion, vous ne savez pas\"\n",
    "                                                 , 1 : \"Au moins une fois par semaine\"\n",
    "                                                 , 2 : \"Une ou deux fois par mois\"\n",
    "                                                 , 3 : \"De temps en temps, aux grandes fêtes\"\n",
    "                                                 , 4 : \"Uniquement pour les cérémonies, mariages,...\"\n",
    "                                                 , 5 : \"Jamais\"})\n"
   ]
  },
  {
   "cell_type": "code",
   "execution_count": 203,
   "metadata": {},
   "outputs": [],
   "source": [
    "#changer l'order des categories de la variable 'RELI2'\n",
    "data['RELI2'] = pd.Categorical(data['RELI2'], \n",
    "                            categories=['Non Pratiquant(e), sans religion, vous ne savez pas'\n",
    "                                        , 'Jamais', 'Uniquement pour les cérémonies, mariages,...'\n",
    "                                        , 'De temps en temps, aux grandes fêtes'\n",
    "                                       , 'Une ou deux fois par mois'\n",
    "                                       , 'Au moins une fois par semaine'], \n",
    "                            ordered=True)"
   ]
  },
  {
   "cell_type": "code",
   "execution_count": 204,
   "metadata": {},
   "outputs": [
    {
     "data": {
      "text/plain": [
       "RRELI\n",
       "6    557\n",
       "3    505\n",
       "2    143\n",
       "7    111\n",
       "5     97\n",
       "1     62\n",
       "4     27\n",
       "Name: count, dtype: int64"
      ]
     },
     "execution_count": 204,
     "metadata": {},
     "output_type": "execute_result"
    }
   ],
   "source": [
    "# Variable 'RRELI'\n",
    "# Question : \n",
    "data['RRELI'].value_counts()"
   ]
  },
  {
   "cell_type": "code",
   "execution_count": 205,
   "metadata": {},
   "outputs": [],
   "source": [
    "data['RRELI'] = data['RRELI'].astype('category')\n",
    "data['RRELI'] = data['RRELI'].cat.rename_categories({1 : \"Catholique pratiquant(e) régulier(e)\"\n",
    "                                                 , 2 : \"Catholique pratiquant(e) occasionnel(le)\"\n",
    "                                                 , 3 : \"Catholique non pratiquant(e)\"\n",
    "                                                 , 4 : \"Protestant(e)\"\n",
    "                                                 , 5 : \"Autres religions\"\n",
    "                                                 , 6 : \"Sans religion\"\n",
    "                                                 , 7 : \"Vous ne savez pas\"})\n"
   ]
  },
  {
   "cell_type": "code",
   "execution_count": 206,
   "metadata": {},
   "outputs": [],
   "source": [
    "# fonction pour creer un tableau croisé multiple avec effectifs et pourcentages\n",
    "def tableau_croise_final(\n",
    "    data, var_dep, indeps):\n",
    "    t_nombre = pyshs.tableau_croise_multiple(data,\n",
    "                              var_dep,\n",
    "                              indeps,\n",
    "                              \"POIDS\",               \n",
    "                              contenu=\"absolu\") \n",
    "    t_pourcentage = pyshs.tableau_croise_multiple(data,\n",
    "                              var_dep,\n",
    "                              indeps,\n",
    "                              \"POIDS\",                   \n",
    "                              contenu=\"pourcentage\" )\n",
    "    t=pd.concat({n:pd.concat({\"Effectif\":t_nombre[n],\"%\":t_pourcentage[n]},axis=1)                     \n",
    "        for n in t_nombre.columns if n != \"Total\" and n != \"Distribution\"},axis=1)\n",
    "    \n",
    "    for n in t_nombre.columns:\n",
    "        if n == \"Total\":\n",
    "            t[\"Total\"] = t_nombre[\"Total\"]\n",
    "\n",
    "    t[\"Distribution\"]= t_pourcentage[\"Distribution\"]\n",
    "    \n",
    "    t = t.reset_index()\n",
    "    \n",
    "    t[\"Question\"] = t[\"Variable\"].apply(lambda x : x.split(' ')[0])\n",
    "    \n",
    "    t[\"Question\"] = t[\"Question\"].apply(lambda x : list({key: questions_variables[key] for key in [x]}.values())[0])\n",
    "    \n",
    "    t = t.set_index(['Question','Variable'])\n",
    "    \n",
    "    return t\n",
    "\n",
    "\n",
    "   "
   ]
  },
  {
   "cell_type": "code",
   "execution_count": 212,
   "metadata": {},
   "outputs": [],
   "source": [
    "A = ['RS11', 'Q2_1', 'Q2_6', 'Q2_9', 'Q2_10', 'Sectes_premier', 'Sectes_obscurantisme_placement'\n",
    "     , 'Complotisme_premier', 'Complotisme_obscurantisme_placement', 'Religions_premier'\n",
    "     , 'Religions_obscurantisme_placement', 'Remise_en_cause_science_premier', 'Remise_en_cause_science_obscurantisme_placement'\n",
    "    , 'Q4_1', 'Q4_2', 'Q4_2', 'Q4_3', 'Q4_4', 'Q4_5', 'Q4_6', 'Q4_7', 'Q4_8', 'Q8_1', 'Q8_2', 'Q8_3', 'Q8_4', 'Q8_5', 'Q8_6'\n",
    "     , 'Q8_7', 'Q8_8', 'Q8_9', 'Q9_3', 'Q9_5', 'Q10', 'Q11', 'Q12', 'Q13_2', 'Q13_6', 'Q13_7', 'Q14', 'Q15', 'Q16'\n",
    "    , 'Q18_3', 'Q18_6', 'Q20']"
   ]
  },
  {
   "cell_type": "code",
   "execution_count": 213,
   "metadata": {},
   "outputs": [],
   "source": [
    "Tableaux = {}\n",
    "for i in A:\n",
    "    tableau_i = tableau_croise_final(data, i, list_indeps)\n",
    "    Tableaux.update({i: tableau_i})"
   ]
  },
  {
   "cell_type": "code",
   "execution_count": 214,
   "metadata": {},
   "outputs": [
    {
     "name": "stderr",
     "output_type": "stream",
     "text": [
      "<ipython-input-214-79cf32df8f79>:1: UserWarning: Pandas requires version '1.4.3' or newer of 'xlsxwriter' (version '1.3.7' currently installed).\n",
      "  with pd.ExcelWriter(r\"C:\\Users\\rana_\\OneDrive\\Bureau\\inserm\\travaux\\IFOP et LEEM\\transfer_5678355_files_71b8c3b2\\Ifop_analyse\\Tableaux_croisés\\Tableaux_croisés_IFOP1.xlsx\") as engine:\n",
      "C:\\Users\\rana_\\anaconda3\\lib\\site-packages\\openpyxl\\workbook\\child.py:99: UserWarning: Title is more than 31 characters. Some applications may not be able to read the file\n",
      "  warnings.warn(\"Title is more than 31 characters. Some applications may not be able to read the file\")\n"
     ]
    }
   ],
   "source": [
    "with pd.ExcelWriter(r\"C:\\Users\\rana_\\OneDrive\\Bureau\\inserm\\travaux\\IFOP et LEEM\\transfer_5678355_files_71b8c3b2\\Ifop_analyse\\Tableaux_croisés\\Tableaux_croisés_IFOP1.xlsx\") as engine:\n",
    "    for key, val in Tableaux.items():\n",
    "        val.to_excel(engine, sheet_name=key)"
   ]
  }
 ],
 "metadata": {
  "kernelspec": {
   "display_name": "Python 3",
   "language": "python",
   "name": "python3"
  },
  "language_info": {
   "codemirror_mode": {
    "name": "ipython",
    "version": 3
   },
   "file_extension": ".py",
   "mimetype": "text/x-python",
   "name": "python",
   "nbconvert_exporter": "python",
   "pygments_lexer": "ipython3",
   "version": "3.8.5"
  }
 },
 "nbformat": 4,
 "nbformat_minor": 4
}
